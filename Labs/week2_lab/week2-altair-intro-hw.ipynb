{
 "cells": [
  {
   "cell_type": "markdown",
   "metadata": {
    "colab_type": "text",
    "id": "-ZwSP80LwX06"
   },
   "source": [
    "# SI649-21 Fall Lab 3 -> Altair I\n",
    "## Overview \n",
    "We're going to re-create some of the visualizations we did in Tableau but this time using Altair for the article: [“The Dollar-And-Cents Case Against Hollywood’s Exclusion of Women”](https://fivethirtyeight.com/features/the-dollar-and-cents-case-against-hollywoods-exclusion-of-women/). We'll be teaching you different pieces of Altair over the next few weeks so we'll focus on just a few visualizations this time:\n",
    "\n",
    "1.   Replicate 2 visualizations in the original article  \n",
    "2.   Implementing 2 new visualizations according to our specifications\n",
    "\n",
    "**For this lab, we have done all of the necessary data transformation for you. You do not need to modify any dataframe. You only need to write Altair code. It's fine if your visualization looks slightly different from the example (e.g., getting 1.1 instead of 1.0)**\n",
    "\n",
    "### Lab Instructions (read the full version on the handout of the previous lab)\n",
    "\n",
    "*   Save, rename, and submit the ipynb file (use your username in the name).\n",
    "*   Run every cell (do Runtime -> Restart and run all to make sure you have a clean working version), print to pdf, submit the pdf file. \n",
    "*   For each visualization, we will ask you to write down a \"Grammar of Graphics\" plan first (basically a description of what you'll code).\n",
    "*   If you end up stuck, show us your work by including links (URLs) that you have searched for. You'll get partial credit for showing your work in progress. \n",
    "*   There are many bonus point opportunities in this lab. \n",
    "\n",
    "We encourage you to go through the Altair tutorials before next week:\n",
    "- [UW Course](https://github.com/uwdata/visualization-curriculum)\n",
    "- [Altair tutorial](https://github.com/altair-viz/altair-tutorial)\n",
    "\n",
    "### Resources\n",
    "- [Altair Documentation](https://altair-viz.github.io/index.html)\n",
    "- [Colab Overview](https://colab.research.google.com/notebooks/basic_features_overview.ipynb)\n",
    "- [Markdown Cheatsheet](https://www.markdownguide.org/cheat-sheet/)\n",
    "- [Pandas DataFrame Introduction](https://pandas.pydata.org/pandas-docs/stable/getting_started/10min.html)\n",
    "- Vega-Lite documentation\n",
    "- Vega/Vega-Lite editor\n"
   ]
  },
  {
   "cell_type": "code",
   "execution_count": null,
   "metadata": {
    "colab": {},
    "colab_type": "code",
    "id": "ivyqtid71Una"
   },
   "outputs": [],
   "source": [
    "# imports we will use\n",
    "import altair as alt\n",
    "import pandas as pd\n",
    "from collections import defaultdict\n",
    "alt.renderers.enable('html')#run this line if you are running jupyter notebook"
   ]
  },
  {
   "cell_type": "code",
   "execution_count": null,
   "metadata": {
    "colab": {},
    "colab_type": "code",
    "id": "MNM3Mfi_1f3P"
   },
   "outputs": [],
   "source": [
    "# load data and perform basic data processing \n",
    "# get the CSV\n",
    "datasetURL=\"https://raw.githubusercontent.com/eytanadar/si649public/master/lab3/data/movies_individual_task.csv\" \n",
    "movieDF=pd.read_csv(datasetURL, encoding=\"latin-1\")\n",
    "\n",
    "# fix the result column, rename the values\n",
    "movieDF['test_result'] = movieDF['clean_test'].map({\n",
    "    \"ok\":\"Passes Bechdel Test\",\n",
    "    \"men\":'Women only talk about men',\n",
    "    \"notalk\":\"Women don't talk to each other\",\n",
    "    \"nowomen\":\"Fewer than two women\",\n",
    "    \"dubious\":\"dubious\"\n",
    "})\n",
    "\n",
    "# fix the location column for later use\n",
    "locationDict = defaultdict(lambda: 'International')\n",
    "locationDict[\"United States\"]=\"U.S. and Canada\"\n",
    "locationDict[\"Canada\"]=\"U.S. and Canada\"\n",
    "movieDF[\"country_binary\"]=movieDF[\"country\"].map(locationDict)\n"
   ]
  },
  {
   "cell_type": "code",
   "execution_count": null,
   "metadata": {
    "colab": {},
    "colab_type": "code",
    "id": "tgM-M7IvnDQE"
   },
   "outputs": [],
   "source": [
    "\n",
    "##calculate ROI (Return on Investment) for 2nd chart \n",
    "movieDF[\"roi_dom\"]=movieDF[\"domgross_2013$\"]/movieDF[\"budget_2013$\"]\n",
    "movieDF[\"int_only_gross\"]=movieDF[\"intgross_2013$\"]-movieDF[\"domgross_2013$\"]\n",
    "movieDF[\"roi_int\"]=movieDF[\"int_only_gross\"]/movieDF[\"budget_2013$\"]\n",
    "\n",
    "movieDF=movieDF.drop(columns=[\"Unnamed: 0\",\"test\",\"budget\",\"domgross\",\"intgross\",\"code\",\"period code\",\"decade code\",\"director\",\"genre\",\"director_gender\",\"imdb\"])\n",
    "movieDF_since_1990=movieDF[movieDF.year>1989]"
   ]
  },
  {
   "cell_type": "code",
   "execution_count": null,
   "metadata": {
    "colab": {
     "base_uri": "https://localhost:8080/",
     "height": 142
    },
    "colab_type": "code",
    "executionInfo": {
     "elapsed": 1112,
     "status": "ok",
     "timestamp": 1568142521043,
     "user": {
      "displayName": "Shiqing (Licia) He",
      "photoUrl": "https://lh3.googleusercontent.com/a-/AAuE7mCJxAelrpcgBANpLNYl7jHbfJVhnk621_KLm7fInA=s64",
      "userId": "10870840754198798102"
     },
     "user_tz": 240
    },
    "id": "7As6KmES17TD",
    "outputId": "b3612282-ffe6-4b97-9fad-d8243926571c"
   },
   "outputs": [],
   "source": [
    "#take a look at the new dataset\n",
    "movieDF.sample(3)\n",
    "# movieDF_since_1990.sample(3)"
   ]
  },
  {
   "cell_type": "markdown",
   "metadata": {
    "colab_type": "text",
    "id": "GcqX43qD11-E"
   },
   "source": [
    "## Visualization 1: Recreate this visualization \n"
   ]
  },
  {
   "cell_type": "markdown",
   "metadata": {
    "colab_type": "text",
    "id": "hi-krFHha_fs"
   },
   "source": [
    "![vis2](https://fivethirtyeight.com/wp-content/uploads/2014/04/hickey-bechdel-2.png?w=1150)"
   ]
  },
  {
   "cell_type": "markdown",
   "metadata": {
    "colab_type": "text",
    "id": "qyz3gsDh18M9"
   },
   "source": [
    "### Step 1: Write down your plan for the visualization (edit this cell)\n",
    "\n",
    "*   Data Name: *movieDF_since_1990*\n",
    "*   mark type: *TODO:write your answer here (e.g., point or area)*\n",
    "*   Encoding Specification:  \n",
    "*   > x:*TODO:write your answer here (x? y? N? Q? O?)*\n",
    "*   > y: *TODO:write your answer here (x? y? N? Q? O?)*\n",
    "\n",
    "Example encoding, if we had the nominal variable 'movietype' and we wanted to use color, it would be:\n",
    "\n",
    "color: movietype:nominal\n"
   ]
  },
  {
   "cell_type": "markdown",
   "metadata": {
    "colab_type": "text",
    "id": "lidNtu_iPzHi"
   },
   "source": [
    "### Step 2: Create your chart. \n",
    "Please take a look at the checkpoints below. You can follow the checkpoint to work through the problem step-by-step. Don't forget to paste your FINAL answer to the cell immediately below this block (it will allow us to greade). You can search for the keyword \"TODO\" to locate cells that need your edits\n"
   ]
  },
  {
   "cell_type": "code",
   "execution_count": null,
   "metadata": {
    "colab": {},
    "colab_type": "code",
    "id": "k8J7TsrxQQFG"
   },
   "outputs": [],
   "source": [
    "#TODO: Replicate visualization 1 "
   ]
  },
  {
   "cell_type": "markdown",
   "metadata": {
    "colab_type": "text",
    "id": "QEk6uTiFQnqq"
   },
   "source": [
    "#### checkpoint 1: basic bar chart: you get full points if you \n",
    " \n",
    "*  Specify the correct mark \n",
    "*  Use the correct x and y encoding \n",
    "*  Plotting the right data (hint: make sure you examine the data frame and use the correct columns)\n",
    "\n",
    "\n",
    "You chart should look like:\n",
    "![](https://raw.githubusercontent.com/eytanadar/si649public/master/lab3/assets/imgs/v1/vis1_1.png?raw=true)"
   ]
  },
  {
   "cell_type": "markdown",
   "metadata": {
    "colab_type": "text",
    "id": "lwHrCTFSUeae"
   },
   "source": [
    "#### checkpoint 2: basic bar chart with sorted order: you get full points if you \n",
    " \n",
    "*  Completed checkpoint1 \n",
    "*  Align the order of your y-axis values with the provided example.\n",
    "*   >*i.e., from top to bottom, the order of the bars is \"Passes Bechdel Test\",\"Women only talk about men\",\"Women don't talk to each other\",\"Fewer than two women\",\"dubious\".*\n",
    "\n",
    "Hint: [Sort](https://altair-viz.github.io/user_guide/generated/core/altair.Sort.html?highlight=sort)\n",
    "\n",
    "\n",
    "You chart should look like:\n",
    "![](https://raw.githubusercontent.com/eytanadar/si649public/master/lab3/assets/imgs/v1/vis1_2.png?raw=true)"
   ]
  },
  {
   "cell_type": "markdown",
   "metadata": {
    "colab_type": "text",
    "id": "TvbwauzVVptX"
   },
   "source": [
    "#### checkpoint 3: basic bar chart with title: you get full points if you \n",
    " \n",
    "*  Completed checkpoint2 \n",
    "*  Remove labels on x-axis and y-axis\n",
    "*  Add a chart title \n",
    "\n",
    "You chart should look like:\n",
    "\n",
    "![](https://raw.githubusercontent.com/eytanadar/si649public/master/lab3/assets/imgs/v1/vis1_3.png?raw=true)"
   ]
  },
  {
   "cell_type": "markdown",
   "metadata": {
    "colab_type": "text",
    "id": "yygCHPRmWBxR"
   },
   "source": [
    "#### checkpoint 4: BONUS: remove dubious. You will get full point if you \n",
    " \n",
    "* Complete checkpoint 3\n",
    "* Remove the bar for \"dubious\" (using Altair, no Pandas)\n",
    "\n",
    "You chart will look like:\n",
    "\n",
    "![](https://raw.githubusercontent.com/eytanadar/si649public/master/lab3/assets/imgs/v1/vis1_4.png?raw=true)"
   ]
  },
  {
   "cell_type": "markdown",
   "metadata": {
    "colab_type": "text",
    "id": "84FJ3UeaBy-D"
   },
   "source": [
    "#### checkpoint 5: BONUS: add number labels.\n",
    "\n",
    "You will get full point if you \n",
    " \n",
    "* Complete checkpoint 4\n",
    "* Add number as labels of your bars \n",
    "\n",
    "You chart will look like:\n",
    "\n",
    "![](https://raw.githubusercontent.com/eytanadar/si649public/master/lab3/assets/imgs/v1/vis1_5.png?raw=true)"
   ]
  },
  {
   "cell_type": "markdown",
   "metadata": {
    "colab_type": "text",
    "id": "Yd7uIAxQCZEQ"
   },
   "source": [
    "#### checkpoint 6: BONUS: format numbers.\n",
    "\n",
    "You will get full points if you \n",
    " \n",
    "* Complete checkpoint 5\n",
    "* Adjust number labels to display millions. e.g. (31.4592 M instead instead of 31459218). You might want to read about [format](https://altair-viz.github.io/user_guide/encoding.html?highlight=format%20type), and [D3's format specification](https://github.com/d3/d3-format#locale_format), or search around. \n",
    "\n",
    "You chart will look like:\n",
    "\n",
    "![](https://raw.githubusercontent.com/eytanadar/si649public/master/lab3/assets/imgs/v1/vis1_6.png?raw=true)"
   ]
  },
  {
   "cell_type": "markdown",
   "metadata": {
    "colab_type": "text",
    "id": "h1bjzDg32IZ-"
   },
   "source": [
    "## Visualization 2 Replicate this visualization\n"
   ]
  },
  {
   "cell_type": "markdown",
   "metadata": {
    "colab_type": "text",
    "id": "wxrEWeZtbCv5"
   },
   "source": [
    "![alt text](https://fivethirtyeight.com/wp-content/uploads/2014/04/hickey-bechdel-3.png?w=1150)\n",
    "\n",
    "\n",
    "\n"
   ]
  },
  {
   "cell_type": "markdown",
   "metadata": {
    "colab_type": "text",
    "id": "_npE3BQ6OL7N"
   },
   "source": [
    "### Step 1: Write down your plan for the visualization (edit this cell)\n",
    "\n",
    "Left chart:\n",
    "*   Data Name: *movieDF*\n",
    "*   mark type: *TODO:write your answer here*\n",
    "*   Encoding Specification:  \n",
    "*   > x:*TODO:write your answer here (x? y? N? Q? O?)*\n",
    "*   > y: *TODO:write your answer here (x? y? N? Q? O?)*\n",
    "\n",
    "\n",
    "Right chart:\n",
    "*   Data Name: *movieDF*\n",
    "*   mark type: *TODO:write your answer here*\n",
    "*   Encoding Specification:  \n",
    "*   > x:*TODO:write your answer here (x? y? N? Q? O?)*\n",
    "*   > y: *TODO:write your answer here (x? y? N? Q? O?)*\n",
    "\n",
    "Compound Method (how to join these charts together?): *TODO:write your answer here*\n",
    "\n",
    "Example encoding, if we had the nominal variable 'movietype' and we wanted to use color, it would be:\n",
    "\n",
    "color: movietype:nominal\n",
    "\n",
    "\n",
    "\n",
    "\n",
    "\n",
    "\n",
    "\n"
   ]
  },
  {
   "cell_type": "markdown",
   "metadata": {
    "colab_type": "text",
    "id": "Jsp_GJ38bygT"
   },
   "source": [
    "### Step 2: Create your chart. \n",
    "Please take a look at the checkpoints below. You can follow the checkpoint to work through the problem step-by-step. Don't forget to paste your FINAL answer to the cell below. You can search for the keyword \"TODO\" to locate cells that need your edits\n"
   ]
  },
  {
   "cell_type": "code",
   "execution_count": null,
   "metadata": {
    "colab": {},
    "colab_type": "code",
    "id": "FyyyGf14j4Ct"
   },
   "outputs": [],
   "source": [
    "#TODO: Replicate chart 2"
   ]
  },
  {
   "cell_type": "markdown",
   "metadata": {
    "colab_type": "text",
    "id": "zYDIQ9W1VJgF"
   },
   "source": [
    "### Visualization 2 Checkpoints\n"
   ]
  },
  {
   "cell_type": "markdown",
   "metadata": {
    "colab_type": "text",
    "id": "vc_NFL0vcDC9"
   },
   "source": [
    "#### checkpoint 1: basic bar charts\n",
    " \n",
    "*  Specify the correct mark \n",
    "*  Use the correct x and y encoding \n",
    "*  Plotting the right data (hint: make sure you examine the data frame and use the correct columns)\n",
    "*  You will have 2 charts, one for U.S.&Canada, one for International\n",
    "\n",
    "\n",
    "You chart will look like:\n",
    "\n",
    "![](https://raw.githubusercontent.com/eytanadar/si649public/master/lab3/assets/imgs/v2/vis2_1_1.png?raw=true) \n",
    " \n",
    " and \n",
    " ![](https://raw.githubusercontent.com/eytanadar/si649public/master/lab3/assets/imgs/v2/vis2_1_2.png?raw=true) "
   ]
  },
  {
   "cell_type": "markdown",
   "metadata": {
    "colab_type": "text",
    "id": "JeCLclB-aJSJ"
   },
   "source": [
    "#### checkpoint 2: joining two charts\n",
    " \n",
    "* completed checkpoint1\n",
    "* joined two charts \n",
    "\n",
    "\n",
    "You chart will look like:\n",
    "![](https://raw.githubusercontent.com/eytanadar/si649public/master/lab3/assets/imgs/v2/vis2_2.png?raw=true)"
   ]
  },
  {
   "cell_type": "markdown",
   "metadata": {
    "colab_type": "text",
    "id": "33LWIqIgeGPk"
   },
   "source": [
    "#### checkpoint 3: resolve y scale and hide the second y-axis\n",
    " \n",
    "* completed checkpoint2\n",
    "* ensure that two charts are sharing the same y-axis \n",
    "* remove the second y-axis\n",
    "\n",
    "\n",
    "You chart will look like:\n",
    "\n",
    "![](https://raw.githubusercontent.com/eytanadar/si649public/master/lab3/assets/imgs/v2/vis2_3.png?raw=true)"
   ]
  },
  {
   "cell_type": "markdown",
   "metadata": {
    "colab_type": "text",
    "id": "NOk-8oQ2e_UL"
   },
   "source": [
    "#### checkpoint 4: sort y-axis \n",
    " \n",
    "* completed checkpoint 3\n",
    "* Sort y-axis so that the order of the bars is (from top to bottom): \n",
    "> \"Passes Bechdel Test\",\"Women only talk about men\",\"Women don't talk to each other\",\"Fewer than two women\",\"dubious\"\n",
    "\n",
    "\n",
    "\n",
    "\n",
    "You chart will look like:\n",
    "\n",
    "![](https://raw.githubusercontent.com/eytanadar/si649public/master/lab3/assets/imgs/v2/vis2_4.png?raw=true)"
   ]
  },
  {
   "cell_type": "markdown",
   "metadata": {
    "colab_type": "text",
    "id": "zuEJor6FaS2C"
   },
   "source": [
    "#### checkpoint 5: Change color and titles  \n",
    " \n",
    "* completed checkpoint 4\n",
    "* color bars of these two charts with different colors\n",
    "* add title to the compound chart \n",
    "* edit axis labels (you can also remove axis label and add chart title to individual chart)\n",
    "* remove y axis label \"test_result\"\n",
    "\n",
    "\n",
    "\n",
    "\n",
    "You chart will look like:\n",
    "![](https://raw.githubusercontent.com/eytanadar/si649public/master/lab3/assets/imgs/v2/vis2_5.png?raw=true)"
   ]
  },
  {
   "cell_type": "markdown",
   "metadata": {
    "colab_type": "text",
    "id": "2a_vAPSehIlz"
   },
   "source": [
    "#### checkpoint 6: BONUS: Add number layer  \n",
    " \n",
    "* completed checkpoint 5\n",
    "* add number annotations\n",
    "\n",
    "\n",
    "You chart will look like:\n",
    "\n",
    "![](https://raw.githubusercontent.com/eytanadar/si649public/master/lab3/assets/imgs/v2/vis2_6.png?raw=true)"
   ]
  },
  {
   "cell_type": "markdown",
   "metadata": {
    "colab_type": "text",
    "id": "JADC_NvGlD_p"
   },
   "source": [
    "## Visualization 3: Replicate this visualization"
   ]
  },
  {
   "cell_type": "markdown",
   "metadata": {
    "colab_type": "text",
    "id": "B1GP-tkvlUrH"
   },
   "source": [
    "![](https://raw.githubusercontent.com/eytanadar/si649public/master/lab3/assets/imgs/v3/vis3_4.png?raw=true)"
   ]
  },
  {
   "cell_type": "markdown",
   "metadata": {
    "colab_type": "text",
    "id": "s2r8T43_lXBD"
   },
   "source": [
    "### Step 1: Write down your plan for the visualization (edit this cell)\n",
    "\n",
    "*   Data Name: *movieDF*\n",
    "*   mark type: *TODO:write your answer here*\n",
    "*   Encoding Specification (1st chart):  \n",
    "*   > x:*TODO:write your answer here (x? y? N? Q? O?)*\n",
    "*   > y: *TODO:write your answer here (x? y? N? Q? O?)*\n",
    "*   Encoding Specification (2nd chart):  \n",
    "*   > x:*TODO:write your answer here (x? y? N? Q? O?)*\n",
    "*   > y: *TODO:write your answer here (x? y? N? Q? O?)*\n",
    "*   Encoding Specification (3rd chart):  \n",
    "*   > x:*TODO:write your answer here (x? y? N? Q? O?)*\n",
    "*   > y: *TODO:write your answer here (x? y? N? Q? O?)*\n",
    "\n",
    "\n",
    "\n",
    "\n"
   ]
  },
  {
   "cell_type": "markdown",
   "metadata": {
    "colab_type": "text",
    "id": "9fK9NZnele_F"
   },
   "source": [
    "### Step 2: Create your chart. \n",
    "Please take a look at the checkpoints below. You can follow the checkpoint to work through the problem step-by-step. Don't forget to paste your FINAL answer to the cell immediately below this block (it will allow us to grade). You can search for the keyword \"TODO\" to locate cells that need your edits\n"
   ]
  },
  {
   "cell_type": "code",
   "execution_count": null,
   "metadata": {
    "colab": {},
    "colab_type": "code",
    "id": "jsAXbb07lbPb"
   },
   "outputs": [],
   "source": [
    "#TODO: Replicate visualization 3"
   ]
  },
  {
   "cell_type": "markdown",
   "metadata": {
    "colab_type": "text",
    "id": "kS8FhfS1lu_3"
   },
   "source": [
    "### Visualization 3 Checkpoints"
   ]
  },
  {
   "cell_type": "markdown",
   "metadata": {
    "colab_type": "text",
    "id": "TdZEqKZhlzqQ"
   },
   "source": [
    "#### checkpoint 1: line chart for average, median, and max of budget \n",
    " \n",
    "You will get full points if you \n",
    "*  Specify the correct mark \n",
    "*  Use the correct x and y encoding \n",
    "*  Plotting the right data \n",
    "*  Produce 3 line charts\n",
    "\n",
    "\n",
    "You chart will look like:\n",
    "![](https://raw.githubusercontent.com/eytanadar/si649public/master/lab3/assets/imgs/v3/vis3_1_1.png?raw=true)\n",
    "and \n",
    "![](https://raw.githubusercontent.com/eytanadar/si649public/master/lab3/assets/imgs/v3/vis3_1_2.png?raw=true)\n",
    "and \n",
    "![](https://raw.githubusercontent.com/eytanadar/si649public/master/lab3/assets/imgs/v3/vis3_1_3.png?raw=true)"
   ]
  },
  {
   "cell_type": "markdown",
   "metadata": {
    "colab_type": "text",
    "id": "D34Mej_woi4Q"
   },
   "source": [
    "#### checkpoint 2: concat 3 line charts \n",
    " \n",
    "You will get full points if you \n",
    "*  Complete checkpoint 1\n",
    "*  Concat 3 charts vertically\n",
    "\n",
    "\n",
    "You chart will look like:\n",
    "![](https://raw.githubusercontent.com/eytanadar/si649public/master/lab3/assets/imgs/v3/vis3_2.png?raw=true)\n"
   ]
  },
  {
   "cell_type": "markdown",
   "metadata": {
    "colab_type": "text",
    "id": "4h-D6m6zo-AX"
   },
   "source": [
    "#### checkpoint 3: adjust width,  height and color \n",
    "Each chart should be 500x100, plotted with different colors\n",
    " \n",
    "You will get full points if you \n",
    "*  Complete checkpoint 2\n",
    "*  Adjust chart width and height\n",
    "*  Plot charts with different colors\n",
    "\n",
    "\n",
    "You chart will look like:\n",
    "![](https://raw.githubusercontent.com/eytanadar/si649public/master/lab3/assets/imgs/v3/vis3_3.png?raw=true)\n"
   ]
  },
  {
   "cell_type": "markdown",
   "metadata": {
    "colab_type": "text",
    "id": "LriSxpeMqDHr"
   },
   "source": [
    "#### checkpoint 4: resolve axis and remove duplicated x-axis \n",
    "\n",
    "You will get full points if you \n",
    "*  Complete checkpoint 3\n",
    "*  Ensure that 3 charts are sharing the same x-axis \n",
    "*  Remove duplicate axis ticks. \n",
    "\n",
    "\n",
    "You chart will look like:\n",
    "\n",
    "![](https://raw.githubusercontent.com/eytanadar/si649public/master/lab3/assets/imgs/v3/vis3_4.png?raw=true)\n"
   ]
  },
  {
   "cell_type": "markdown",
   "metadata": {
    "colab_type": "text",
    "id": "GsEItvxnqfzS"
   },
   "source": [
    "## Visualization 4: Replicate this visualization\n"
   ]
  },
  {
   "cell_type": "markdown",
   "metadata": {
    "colab_type": "text",
    "id": "hgS_9oYNqlyw"
   },
   "source": [
    "![](https://raw.githubusercontent.com/eytanadar/si649public/master/lab3/assets/imgs/v4/vis4.png?raw=true)"
   ]
  },
  {
   "cell_type": "markdown",
   "metadata": {
    "colab_type": "text",
    "id": "INIMxJKcrtim"
   },
   "source": [
    "### Step 1: Write down your plan for the visualization (edit this cell)\n",
    "\n",
    "\n",
    "*   Data Name: *movieDF*\n",
    "*   mark type: *TODO:write your answer here*\n",
    "*   Encoding Specification:  \n",
    "*   > x:*TODO:write your answer here (x? y? N? Q? O?)*\n",
    "*   > y: *TODO:write your answer here (x? y? N? Q? O?)*\n",
    "\n",
    "\n",
    "\n",
    "\n"
   ]
  },
  {
   "cell_type": "markdown",
   "metadata": {
    "colab_type": "text",
    "id": "9GsYkwvWr7Eu"
   },
   "source": [
    "### Step 2: Create your chart. \n",
    "Please take a look at the checkpoints below. You can follow the checkpoint to work through the problem step-by-step. Don't forget to paste your FINAL answer to the cell immediately below this block (it will allow us to greade). You can search for the keyword \"TODO\" to locate cells that need your edits\n"
   ]
  },
  {
   "cell_type": "code",
   "execution_count": null,
   "metadata": {
    "colab": {},
    "colab_type": "code",
    "id": "Qhws1m7jNMtd"
   },
   "outputs": [],
   "source": [
    "#TODO: Replicate visualization 4 "
   ]
  },
  {
   "cell_type": "markdown",
   "metadata": {
    "colab_type": "text",
    "id": "9GsYkwvWr7Eu"
   },
   "source": [
    "*End of Lab*\n",
    "\n",
    "Please run all cells (Runtime->Run all), and \n",
    "1.  save to PDF \n",
    "    * We suggest using your browser's print feature: File->Print->Save PDF, you can try the notebook File->Download As->PDF, but we've noticed this doesn't work as well. If you're a Windows user and need help, take a look [here](https://www.digitaltrends.com/computing/print-pdf-windows/)\n",
    "2.  save to ipynb (File -> Download .ipynb)\n",
    "\n",
    "Rename both files with your uniqname: e.g. uniqname.pdf/ uniqname.ipynb\n",
    "Upload both files to canvas. \n"
   ]
  },
  {
   "cell_type": "code",
   "execution_count": null,
   "metadata": {},
   "outputs": [],
   "source": []
  }
 ],
 "metadata": {
  "colab": {
   "collapsed_sections": [
    "84FJ3UeaBy-D"
   ],
   "name": "lab2_answer_ver.ipynb",
   "provenance": []
  },
  "kernelspec": {
   "display_name": "Python 3",
   "language": "python",
   "name": "python3"
  },
  "language_info": {
   "codemirror_mode": {
    "name": "ipython",
    "version": 3
   },
   "file_extension": ".py",
   "mimetype": "text/x-python",
   "name": "python",
   "nbconvert_exporter": "python",
   "pygments_lexer": "ipython3",
   "version": "3.8.8"
  }
 },
 "nbformat": 4,
 "nbformat_minor": 1
}
