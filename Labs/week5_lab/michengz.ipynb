{
 "cells": [
  {
   "cell_type": "markdown",
   "metadata": {
    "colab_type": "text",
    "id": "lg4L-qmfwykD"
   },
   "source": [
    "# SI649-21-FALL Lab 6 -> Altair III\n",
    "School of Information, University of Michigan\n",
    "\n",
    "\n",
    "## Assignment Overview\n",
    "1. Interaction \n",
    "2. Review transform \n",
    "3. Comparing streamlit widget and altair widget\n",
    "\n",
    "We will replicate 3 visualizations (and a bonus visualization) created by the article posted on [Five Thirty Eight](https://fivethirtyeight.com) available  [online](https://fivethirtyeight.com/features/the-mayweather-mcgregor-fight-as-told-through-emojis/) (Hickey, Koeze, Dottle, Wezerek 2017). \n",
    "\n",
    "**For this lab, please write Altair code to answer the questions. It's fine if your visualization looks slightly different from the example (e.g., getting 1.1 instead of 1.0, use orange instead of red, have different titles, chart width/height,and mark size/opacity)**\n",
    "\n",
    "### Resources:\n",
    "- Article by [Five Thirty Eight](https://fivethirtyeight.com) available  [online] (https://fivethirtyeight.com/features/the-mayweather-mcgregor-fight-as-told-through-emojis/) (Hickey, Koeze, Dottle, Wezerek 2017)  \n",
    "- the original can be found on [Five Thirty Eight Mayweather vs McGregor] (https://github.com/fivethirtyeight/data/tree/master/mayweather-mcgregor)\n",
    "\n",
    "### General Hints: \n",
    "* Yes, you can render emojis in colab/jupyter notebook and in your chart. You can consider them as text. \n",
    "* We recommend that you finish all the static charts before adding interactions. \n",
    "* If you see duplicated axes, use `axis=None` to get rid of unnecessary axes.  \n",
    "* Don't forget to set `empty=\"none\"`. The default behavior is that when nothing is selected, *everything* is selected. When set to none, empty selections contain no data values.  \n",
    "* `resolve_scale` ensures charts share axes and scales. \n"
   ]
  },
  {
   "cell_type": "markdown",
   "metadata": {},
   "source": [
    "## Export to streamlit \n",
    "\n",
    "Like last lab, we want you to build a streamlit app for these visualization. You will be adding your visualizations to a streamlit .py file when you’re done. You can either do it as you go or at the end.\n",
    "\n",
    "The app you build will have\n",
    "\n",
    "1. A title with your name \n",
    "2. A selectbox in the sidebar that navigates to different charts. \n",
    "3. For chart 3, we want you to implement the radio widget interaction in streamlit, and putting BOTH the altair version and the streamlit version in the app. \n",
    "4. (OPTIONAL BONUS) For chart 4, we also want to see both the altair version and the streamlit version. \n",
    "\n",
    "Your finished app will look like this:\n",
    "\n",
    "![alt text](https://raw.githubusercontent.com/eytanadar/si649public/master/lab6/hw/uncompressed_full_export.gif)\n"
   ]
  },
  {
   "cell_type": "code",
   "execution_count": 1,
   "metadata": {
    "colab": {},
    "colab_type": "code",
    "id": "qwBVki-iwykM"
   },
   "outputs": [],
   "source": [
    "# start with the setup\n",
    "import pandas as pd\n",
    "import altair as alt\n",
    "import numpy as np\n",
    "import pprint\n"
   ]
  },
  {
   "cell_type": "code",
   "execution_count": 2,
   "metadata": {
    "colab": {},
    "colab_type": "code",
    "id": "Jd65eJsBwykP"
   },
   "outputs": [],
   "source": [
    "#load data \n",
    "df1=pd.read_csv(\"https://raw.githubusercontent.com/eytanadar/si649public/master/lab6/hw/data/df1.csv\")\n",
    "df2=pd.read_csv(\"https://raw.githubusercontent.com/eytanadar/si649public/master/lab6/hw/data/df2_count.csv\")\n",
    "df3=pd.read_csv(\"https://raw.githubusercontent.com/eytanadar/si649public/master/lab6/hw/data/df3.csv\")\n",
    "df4=pd.read_csv(\"https://raw.githubusercontent.com/eytanadar/si649public/master/lab6/hw/data/df4.csv\")"
   ]
  },
  {
   "cell_type": "code",
   "execution_count": 3,
   "metadata": {},
   "outputs": [],
   "source": [
    "# change the 'datetime' column to be explicitly a datetime object\n",
    "df2['datetime'] = pd.to_datetime(df2['datetime'])\n",
    "df3['datetime'] = pd.to_datetime(df3['datetime'])\n",
    "df4['datetime'] = pd.to_datetime(df4['datetime'])"
   ]
  },
  {
   "cell_type": "markdown",
   "metadata": {
    "colab_type": "text",
    "id": "3L6Ncgd1Csy-"
   },
   "source": [
    "## Visualization 1: Emoji and percentage of usage "
   ]
  },
  {
   "cell_type": "markdown",
   "metadata": {
    "colab_type": "text",
    "id": "Stjx8DV7C7oV"
   },
   "source": [
    "We will replicate the following visualization  \n",
    "![vis1_static](https://raw.githubusercontent.com/eytanadar/si649public/master/lab6/hw/vis1/static.png?raw=true)\n",
    "\n",
    "**Description of the visualization (static):**\n",
    "*   Use *df1* for this exercise\n",
    "*   This visualization has 3 components: **emoji**, **percentage text**, and **bars** \n",
    "*   All 3 components share the same y axis, which display the *rank* of percentage from highest to lowest. \n",
    "*   The width of the bar(along x axis) encodes *PERCENT*\n",
    "*   All 3 components have a low opacity because we want to add interactions (see the next cell). \n"
   ]
  },
  {
   "cell_type": "markdown",
   "metadata": {
    "colab_type": "text",
    "id": "Y4YUJ7X8EThT"
   },
   "source": [
    "**Description of the visualization (interactivity):**\n",
    "1. When hovering over bars, the associated emoji will show up as tooltip \n",
    "![alt text](https://raw.githubusercontent.com/eytanadar/si649public/master/lab6/hw/vis1/interactive_1.gif?raw=true)\n",
    "2. When hovering over emojis, percentage texts, or bars, the opacity of the selected row will change to 1. \n",
    "![alt text](https://raw.githubusercontent.com/eytanadar/si649public/master/lab6/hw/vis1/interactive_2.gif?raw=true)\n",
    "3. Brushing over the emojis will filter bars.\n",
    "![alt text](https://raw.githubusercontent.com/eytanadar/si649public/master/lab6/hw/vis1/interactive_3.gif?raw=true)\n",
    "4. Brushing over percentage text will filter bars.\n",
    "![alt text](https://raw.githubusercontent.com/eytanadar/si649public/master/lab6/hw/vis1/interactive_4.gif?raw=true)\n",
    "\n"
   ]
  },
  {
   "cell_type": "markdown",
   "metadata": {
    "colab_type": "text",
    "id": "Clq94x6QLIdX"
   },
   "source": [
    "**Sample style settings (optional):**\n",
    "Here's a list of default style settings we used to generate the graph.\n",
    "* Original opacity for all 3 components: 0.6. \n",
    "* Hovered opacity: 1\n",
    "* bar height = 15, color = orange\n",
    "* text chart and emoji width are both 20\n",
    "* after building the compound chart, use the following line to disable border : `.configure_view(strokeWidth=0)`\n",
    "\n"
   ]
  },
  {
   "cell_type": "markdown",
   "metadata": {
    "colab_type": "text",
    "id": "hBTgri54h9bT"
   },
   "source": [
    "Hint:\n",
    "* We recommend getting all static components working before writing any interactivity. \n",
    "* Add one interaction at a time and test whether or not it works. \n",
    "* To add an interaction that's not tooltip and zooming, you need four steps (review in-class demo). \n",
    "* Selection is used in two scenarios: 1) to add to a *condition*, which is used in `encode`. 2) to add in `transform_filter`. In this visualization, you will implement both. Think through which you will use where before trying to build this."
   ]
  },
  {
   "cell_type": "code",
   "execution_count": 4,
   "metadata": {
    "colab": {
     "base_uri": "https://localhost:8080/",
     "height": 204
    },
    "colab_type": "code",
    "executionInfo": {
     "elapsed": 322,
     "status": "ok",
     "timestamp": 1581363529779,
     "user": {
      "displayName": "Matthew Kay",
      "photoUrl": "https://lh3.googleusercontent.com/a-/AAuE7mAdky9qVH46I_7lBPGqO4FSfJRCbiW_k8cFLOUN=s64",
      "userId": "07352650379952094636"
     },
     "user_tz": 300
    },
    "id": "d48wnQjpnHSL",
    "outputId": "7b591559-bb01-446b-beda-47d88364b337"
   },
   "outputs": [
    {
     "data": {
      "text/html": [
       "<div>\n",
       "<style scoped>\n",
       "    .dataframe tbody tr th:only-of-type {\n",
       "        vertical-align: middle;\n",
       "    }\n",
       "\n",
       "    .dataframe tbody tr th {\n",
       "        vertical-align: top;\n",
       "    }\n",
       "\n",
       "    .dataframe thead th {\n",
       "        text-align: right;\n",
       "    }\n",
       "</style>\n",
       "<table border=\"1\" class=\"dataframe\">\n",
       "  <thead>\n",
       "    <tr style=\"text-align: right;\">\n",
       "      <th></th>\n",
       "      <th>Unnamed: 0</th>\n",
       "      <th>EMOJI</th>\n",
       "      <th>PERCENT</th>\n",
       "      <th>rank</th>\n",
       "      <th>PERCENT_TEXT</th>\n",
       "    </tr>\n",
       "  </thead>\n",
       "  <tbody>\n",
       "    <tr>\n",
       "      <th>0</th>\n",
       "      <td>0</td>\n",
       "      <td>😂</td>\n",
       "      <td>23.1</td>\n",
       "      <td>1</td>\n",
       "      <td>23.1 %</td>\n",
       "    </tr>\n",
       "    <tr>\n",
       "      <th>1</th>\n",
       "      <td>1</td>\n",
       "      <td>🥊</td>\n",
       "      <td>5.7</td>\n",
       "      <td>2</td>\n",
       "      <td>5.7 %</td>\n",
       "    </tr>\n",
       "    <tr>\n",
       "      <th>2</th>\n",
       "      <td>2</td>\n",
       "      <td>👊</td>\n",
       "      <td>3.5</td>\n",
       "      <td>3</td>\n",
       "      <td>3.5 %</td>\n",
       "    </tr>\n",
       "    <tr>\n",
       "      <th>3</th>\n",
       "      <td>3</td>\n",
       "      <td>👏</td>\n",
       "      <td>3.0</td>\n",
       "      <td>4</td>\n",
       "      <td>3.0 %</td>\n",
       "    </tr>\n",
       "    <tr>\n",
       "      <th>4</th>\n",
       "      <td>4</td>\n",
       "      <td>💪</td>\n",
       "      <td>2.5</td>\n",
       "      <td>5</td>\n",
       "      <td>2.5 %</td>\n",
       "    </tr>\n",
       "  </tbody>\n",
       "</table>\n",
       "</div>"
      ],
      "text/plain": [
       "   Unnamed: 0 EMOJI  PERCENT  rank PERCENT_TEXT\n",
       "0           0     😂     23.1     1       23.1 %\n",
       "1           1     🥊      5.7     2        5.7 %\n",
       "2           2     👊      3.5     3        3.5 %\n",
       "3           3     👏      3.0     4        3.0 %\n",
       "4           4     💪      2.5     5        2.5 %"
      ]
     },
     "execution_count": 4,
     "metadata": {},
     "output_type": "execute_result"
    }
   ],
   "source": [
    "df1.head()"
   ]
  },
  {
   "cell_type": "code",
   "execution_count": 5,
   "metadata": {
    "colab": {
     "base_uri": "https://localhost:8080/",
     "height": 1000
    },
    "colab_type": "code",
    "executionInfo": {
     "elapsed": 282,
     "status": "ok",
     "timestamp": 1581368957410,
     "user": {
      "displayName": "Matthew Kay",
      "photoUrl": "https://lh3.googleusercontent.com/a-/AAuE7mAdky9qVH46I_7lBPGqO4FSfJRCbiW_k8cFLOUN=s64",
      "userId": "07352650379952094636"
     },
     "user_tz": 300
    },
    "id": "Nu_lcwp78Fwe",
    "outputId": "b5e97f91-8083-4323-b252-8bdf7a526734"
   },
   "outputs": [
    {
     "data": {
      "text/html": [
       "\n",
       "<div id=\"altair-viz-03651ec3cd7d47b7882ac1a41f30de38\"></div>\n",
       "<script type=\"text/javascript\">\n",
       "  (function(spec, embedOpt){\n",
       "    let outputDiv = document.currentScript.previousElementSibling;\n",
       "    if (outputDiv.id !== \"altair-viz-03651ec3cd7d47b7882ac1a41f30de38\") {\n",
       "      outputDiv = document.getElementById(\"altair-viz-03651ec3cd7d47b7882ac1a41f30de38\");\n",
       "    }\n",
       "    const paths = {\n",
       "      \"vega\": \"https://cdn.jsdelivr.net/npm//vega@5?noext\",\n",
       "      \"vega-lib\": \"https://cdn.jsdelivr.net/npm//vega-lib?noext\",\n",
       "      \"vega-lite\": \"https://cdn.jsdelivr.net/npm//vega-lite@4.8.1?noext\",\n",
       "      \"vega-embed\": \"https://cdn.jsdelivr.net/npm//vega-embed@6?noext\",\n",
       "    };\n",
       "\n",
       "    function loadScript(lib) {\n",
       "      return new Promise(function(resolve, reject) {\n",
       "        var s = document.createElement('script');\n",
       "        s.src = paths[lib];\n",
       "        s.async = true;\n",
       "        s.onload = () => resolve(paths[lib]);\n",
       "        s.onerror = () => reject(`Error loading script: ${paths[lib]}`);\n",
       "        document.getElementsByTagName(\"head\")[0].appendChild(s);\n",
       "      });\n",
       "    }\n",
       "\n",
       "    function showError(err) {\n",
       "      outputDiv.innerHTML = `<div class=\"error\" style=\"color:red;\">${err}</div>`;\n",
       "      throw err;\n",
       "    }\n",
       "\n",
       "    function displayChart(vegaEmbed) {\n",
       "      vegaEmbed(outputDiv, spec, embedOpt)\n",
       "        .catch(err => showError(`Javascript Error: ${err.message}<br>This usually means there's a typo in your chart specification. See the javascript console for the full traceback.`));\n",
       "    }\n",
       "\n",
       "    if(typeof define === \"function\" && define.amd) {\n",
       "      requirejs.config({paths});\n",
       "      require([\"vega-embed\"], displayChart, err => showError(`Error loading script: ${err.message}`));\n",
       "    } else if (typeof vegaEmbed === \"function\") {\n",
       "      displayChart(vegaEmbed);\n",
       "    } else {\n",
       "      loadScript(\"vega\")\n",
       "        .then(() => loadScript(\"vega-lite\"))\n",
       "        .then(() => loadScript(\"vega-embed\"))\n",
       "        .catch(showError)\n",
       "        .then(() => displayChart(vegaEmbed));\n",
       "    }\n",
       "  })({\"config\": {\"view\": {\"continuousWidth\": 400, \"continuousHeight\": 300, \"strokeWidth\": 0}, \"axis\": {\"domain\": false}}, \"hconcat\": [{\"mark\": {\"type\": \"text\", \"align\": \"left\", \"baseline\": \"middle\", \"dx\": -10}, \"encoding\": {\"opacity\": {\"condition\": {\"value\": 1, \"selection\": \"selector001\"}, \"value\": 0.6}, \"text\": {\"type\": \"nominal\", \"field\": \"EMOJI\"}, \"y\": {\"type\": \"nominal\", \"axis\": null, \"field\": \"EMOJI\", \"sort\": {\"field\": \"emoji_rank\", \"order\": \"ascending\"}}}, \"selection\": {\"selector001\": {\"type\": \"single\", \"on\": \"mouseover\", \"empty\": \"none\"}, \"selector002\": {\"type\": \"interval\"}}}, {\"mark\": {\"type\": \"text\", \"align\": \"left\", \"baseline\": \"middle\", \"dx\": -10}, \"encoding\": {\"opacity\": {\"condition\": {\"value\": 1, \"selection\": \"selector001\"}, \"value\": 0.6}, \"text\": {\"type\": \"nominal\", \"field\": \"PERCENT_TEXT\"}, \"y\": {\"type\": \"nominal\", \"axis\": null, \"field\": \"EMOJI\", \"sort\": {\"field\": \"emoji_rank\", \"order\": \"ascending\"}}}, \"selection\": {\"selector001\": {\"type\": \"single\", \"on\": \"mouseover\", \"empty\": \"none\"}, \"selector002\": {\"type\": \"interval\"}}}, {\"mark\": {\"type\": \"bar\", \"color\": \"orange\", \"height\": 15, \"opacity\": 0.6}, \"encoding\": {\"opacity\": {\"condition\": {\"value\": 1, \"selection\": \"selector001\"}, \"value\": 0.6}, \"tooltip\": {\"type\": \"nominal\", \"field\": \"EMOJI\"}, \"x\": {\"type\": \"quantitative\", \"axis\": null, \"field\": \"PERCENT\"}, \"y\": {\"type\": \"nominal\", \"axis\": null, \"field\": \"EMOJI\", \"sort\": {\"field\": \"emoji_rank\", \"order\": \"ascending\"}}}, \"selection\": {\"selector001\": {\"type\": \"single\", \"on\": \"mouseover\", \"empty\": \"none\"}}, \"transform\": [{\"window\": [{\"op\": \"rank\", \"field\": \"*\", \"as\": \"emoji_rank\"}], \"sort\": [{\"field\": \"PERCENT\", \"order\": \"descending\"}]}, {\"filter\": \"(datum.emoji_rank <= 10)\"}, {\"filter\": {\"selection\": \"selector002\"}}]}], \"data\": {\"name\": \"data-6d0abc498dd05b01d992a7961942404a\"}, \"$schema\": \"https://vega.github.io/schema/vega-lite/v4.8.1.json\", \"datasets\": {\"data-6d0abc498dd05b01d992a7961942404a\": [{\"Unnamed: 0\": 0, \"EMOJI\": \"\\ud83d\\ude02\", \"PERCENT\": 23.1, \"rank\": 1, \"PERCENT_TEXT\": \"23.1 %\"}, {\"Unnamed: 0\": 1, \"EMOJI\": \"\\ud83e\\udd4a\", \"PERCENT\": 5.7, \"rank\": 2, \"PERCENT_TEXT\": \"5.7 %\"}, {\"Unnamed: 0\": 2, \"EMOJI\": \"\\ud83d\\udc4a\", \"PERCENT\": 3.5, \"rank\": 3, \"PERCENT_TEXT\": \"3.5 %\"}, {\"Unnamed: 0\": 3, \"EMOJI\": \"\\ud83d\\udc4f\", \"PERCENT\": 3.0, \"rank\": 4, \"PERCENT_TEXT\": \"3.0 %\"}, {\"Unnamed: 0\": 4, \"EMOJI\": \"\\ud83d\\udcaa\", \"PERCENT\": 2.5, \"rank\": 5, \"PERCENT_TEXT\": \"2.5 %\"}, {\"Unnamed: 0\": 5, \"EMOJI\": \"\\ud83c\\uddee\\ud83c\\uddea\", \"PERCENT\": 2.4, \"rank\": 6, \"PERCENT_TEXT\": \"2.4 %\"}, {\"Unnamed: 0\": 6, \"EMOJI\": \"\\ud83e\\udd23\", \"PERCENT\": 2.3, \"rank\": 7, \"PERCENT_TEXT\": \"2.3 %\"}, {\"Unnamed: 0\": 7, \"EMOJI\": \"\\ud83d\\udd25\", \"PERCENT\": 2.3, \"rank\": 8, \"PERCENT_TEXT\": \"2.3 %\"}, {\"Unnamed: 0\": 8, \"EMOJI\": \"\\ud83d\\ude2d\", \"PERCENT\": 2.0, \"rank\": 9, \"PERCENT_TEXT\": \"2.0 %\"}, {\"Unnamed: 0\": 9, \"EMOJI\": \"\\ud83d\\udcb0\", \"PERCENT\": 1.8, \"rank\": 10, \"PERCENT_TEXT\": \"1.8 %\"}]}}, {\"mode\": \"vega-lite\"});\n",
       "</script>"
      ],
      "text/plain": [
       "alt.HConcatChart(...)"
      ]
     },
     "execution_count": 5,
     "metadata": {},
     "output_type": "execute_result"
    }
   ],
   "source": [
    "##TODO: replicate vis 1\n",
    "\n",
    "#Interaction requirement 3 and 4, create brushing filter  \n",
    "selection = alt.selection_single(on = 'mouseover', empty = 'none')\n",
    "opacityCondition = alt.condition(selection, alt.value(1), alt.value(0.6))\n",
    "\n",
    "brush = alt.selection_interval()\n",
    "filterCondition = alt.condition(brush, alt.value(0.6), alt.value(0))\n",
    "\n",
    "\n",
    "\n",
    "##Static Component - Bars\n",
    "chart_bars = alt.Chart(df1).transform_window(\n",
    "    sort = [alt.SortField('PERCENT', order = 'descending')],\n",
    "    emoji_rank = 'rank(*)'\n",
    ").transform_filter(\n",
    "    alt.datum.emoji_rank <= 10\n",
    ").mark_bar(height = 15, color = 'orange', opacity = 0.6\n",
    ").encode(\n",
    "    alt.X('PERCENT:Q', axis = None),\n",
    "    alt.Y('EMOJI:N', axis = None, sort = alt.EncodingSortField(\n",
    "        field = 'emoji_rank', order = 'ascending')),\n",
    "    tooltip = 'EMOJI:N',\n",
    "    opacity = opacityCondition\n",
    ").add_selection(selection).transform_filter(\n",
    "    brush\n",
    ")\n",
    "\n",
    "base = alt.Chart(df1).mark_bar().encode(\n",
    "    alt.Y('EMOJI:N', axis = None, sort = alt.EncodingSortField(\n",
    "        field = 'emoji_rank', order = 'ascending')\n",
    "))\n",
    "\n",
    "\n",
    "\n",
    "##Static Component - Emojis\n",
    "emojis = base.mark_text(\n",
    "    align ='left',\n",
    "    baseline ='middle',\n",
    "    dx = -10\n",
    ").encode(\n",
    "    text=alt.Text('EMOJI:N'),\n",
    "    opacity = opacityCondition\n",
    ").add_selection(selection).add_selection(brush)\n",
    "\n",
    "\n",
    "\n",
    "##Static Component - Text\n",
    "texts = base.mark_text(\n",
    "    align ='left',\n",
    "    baseline ='middle',\n",
    "    dx = -10\n",
    ").encode(\n",
    "    text=alt.Text('PERCENT_TEXT:N'),\n",
    "    opacity = opacityCondition\n",
    ").add_selection(selection).add_selection(brush)\n",
    "\n",
    "\n",
    "\n",
    "##Put all together\n",
    "(emojis | texts | chart_bars).configure_view(strokeWidth = 0).configure_axis(domain = False)"
   ]
  },
  {
   "cell_type": "markdown",
   "metadata": {
    "colab_type": "text",
    "id": "gq5Gjgyowykw"
   },
   "source": [
    "## Visualization 2: Irish Pride vs. Money Team "
   ]
  },
  {
   "cell_type": "markdown",
   "metadata": {
    "colab_type": "text",
    "id": "OyrxrmFELuCQ"
   },
   "source": [
    "We will replicate the following visualization  \n",
    "![vis2_static](https://raw.githubusercontent.com/eytanadar/si649public/master/lab6/hw/vis2/static.png?raw=true)\n",
    "\n",
    "**Description of the visualization (static):**\n",
    "*   Use *df2* \n",
    "*   The visualization has 1 \"static\" component: **line chart**. It displays the relationship between *datetime* and *count* \n"
   ]
  },
  {
   "cell_type": "markdown",
   "metadata": {
    "colab_type": "text",
    "id": "NJ_-pE9qO6RX"
   },
   "source": [
    "**Description of the visualization (interactivity):**\n",
    "1. Enable zooming and panning along the x-axis. (The gif below only displays the line chart.)\n",
    "![alt text](https://raw.githubusercontent.com/eytanadar/si649public/master/lab6/hw/vis2/interactive_1.gif?raw=true)\n",
    "2. Display a vertical line that moves with the mouse. This will require you to add additional chart component(let's call it **vLine**).\n",
    "![alt text](https://raw.githubusercontent.com/eytanadar/si649public/master/lab6/hw/vis2/interactive_2.gif?raw=true)\n",
    "3. Display the intersection of the **vLine** with the **line chart** as 2 circles (let's call these two circles **intersection dots**). \n",
    "![alt text](https://raw.githubusercontent.com/eytanadar/si649public/master/lab6/hw/vis2/interactive_3.gif?raw=true)\n",
    "4. When hovering over these **intersection dots**, display the *tweet_count*, *datetime*, and *team* in tooltip.  \n",
    "![alt text](https://raw.githubusercontent.com/eytanadar/si649public/master/lab6/hw/vis2/interactive_4.gif?raw=true)\n",
    "\n"
   ]
  },
  {
   "cell_type": "markdown",
   "metadata": {
    "colab_type": "text",
    "id": "KoJGK0oLO7Bl"
   },
   "source": [
    "**Sample style settings (optional):**\n",
    "Here's a list of default style settings we used to generate the graph.\n",
    "\n",
    "* line chart size = 2.5, \n",
    "* vLine: size=4, color=\"lightgray\", initial opacity = 0 \n",
    "* indicator dot:  color=\"black\" size=70"
   ]
  },
  {
   "cell_type": "markdown",
   "metadata": {
    "colab_type": "text",
    "id": "QDPTEumZViP7"
   },
   "source": [
    "**Bugs**\n",
    "\n",
    "If your interaction look similar to this, don't worry about it. It's likely a altair/colab issue. \n",
    "\n",
    "1. Blinking lines: You can fix by making your **vLine** thicker, or view it in vegalite editor. \n",
    "\n",
    "![alt text](https://github.com/LiciaHe/SI649/blob/master/week4/images/vis2/interactive_2_bug1.gif?raw=true)\n"
   ]
  },
  {
   "cell_type": "markdown",
   "metadata": {
    "colab_type": "text",
    "id": "vnH0ZNZ-jhOg"
   },
   "source": [
    "**Hint**\n",
    "\n",
    "\n",
    "* We only want to enable zooming and panning along the x-axis.\n",
    "*  There are multiple ways of implementing the **vLine**. Here is one of them: \n",
    "> 1) use mark_rule to generate a line for every single data point and set these line's opacity to be 0.\n",
    "\n",
    " > 2)when mouse hovering over a line, display it by changing its opacity. \n",
    "\n",
    "*  The implementation of the **intersection dots** is similar to that of the **vLine**. Do you need a new selection/condition for the **intersection dots**?\n",
    "\n",
    "\n"
   ]
  },
  {
   "cell_type": "code",
   "execution_count": 6,
   "metadata": {},
   "outputs": [
    {
     "data": {
      "text/html": [
       "<div>\n",
       "<style scoped>\n",
       "    .dataframe tbody tr th:only-of-type {\n",
       "        vertical-align: middle;\n",
       "    }\n",
       "\n",
       "    .dataframe tbody tr th {\n",
       "        vertical-align: top;\n",
       "    }\n",
       "\n",
       "    .dataframe thead th {\n",
       "        text-align: right;\n",
       "    }\n",
       "</style>\n",
       "<table border=\"1\" class=\"dataframe\">\n",
       "  <thead>\n",
       "    <tr style=\"text-align: right;\">\n",
       "      <th></th>\n",
       "      <th>Unnamed: 0</th>\n",
       "      <th>datetime</th>\n",
       "      <th>tweet_count</th>\n",
       "      <th>team</th>\n",
       "    </tr>\n",
       "  </thead>\n",
       "  <tbody>\n",
       "    <tr>\n",
       "      <th>0</th>\n",
       "      <td>0</td>\n",
       "      <td>2017-08-27 00:05:30</td>\n",
       "      <td>2.774748</td>\n",
       "      <td>💸🤑💰💵</td>\n",
       "    </tr>\n",
       "    <tr>\n",
       "      <th>1</th>\n",
       "      <td>1</td>\n",
       "      <td>2017-08-27 00:05:45</td>\n",
       "      <td>1.090616</td>\n",
       "      <td>💸🤑💰💵</td>\n",
       "    </tr>\n",
       "    <tr>\n",
       "      <th>2</th>\n",
       "      <td>2</td>\n",
       "      <td>2017-08-27 00:06:00</td>\n",
       "      <td>0.797820</td>\n",
       "      <td>💸🤑💰💵</td>\n",
       "    </tr>\n",
       "    <tr>\n",
       "      <th>3</th>\n",
       "      <td>3</td>\n",
       "      <td>2017-08-27 00:06:15</td>\n",
       "      <td>0.756327</td>\n",
       "      <td>💸🤑💰💵</td>\n",
       "    </tr>\n",
       "    <tr>\n",
       "      <th>4</th>\n",
       "      <td>4</td>\n",
       "      <td>2017-08-27 00:06:30</td>\n",
       "      <td>0.802261</td>\n",
       "      <td>💸🤑💰💵</td>\n",
       "    </tr>\n",
       "  </tbody>\n",
       "</table>\n",
       "</div>"
      ],
      "text/plain": [
       "   Unnamed: 0            datetime  tweet_count  team\n",
       "0           0 2017-08-27 00:05:30     2.774748  💸🤑💰💵\n",
       "1           1 2017-08-27 00:05:45     1.090616  💸🤑💰💵\n",
       "2           2 2017-08-27 00:06:00     0.797820  💸🤑💰💵\n",
       "3           3 2017-08-27 00:06:15     0.756327  💸🤑💰💵\n",
       "4           4 2017-08-27 00:06:30     0.802261  💸🤑💰💵"
      ]
     },
     "execution_count": 6,
     "metadata": {},
     "output_type": "execute_result"
    }
   ],
   "source": [
    "df2.head()"
   ]
  },
  {
   "cell_type": "code",
   "execution_count": 7,
   "metadata": {
    "colab": {
     "base_uri": "https://localhost:8080/",
     "height": 352
    },
    "colab_type": "code",
    "executionInfo": {
     "elapsed": 1877,
     "status": "ok",
     "timestamp": 1581093009085,
     "user": {
      "displayName": "Shiqing (Licia) He",
      "photoUrl": "https://lh3.googleusercontent.com/a-/AAuE7mCJxAelrpcgBANpLNYl7jHbfJVhnk621_KLm7fInA=s64",
      "userId": "10870840754198798102"
     },
     "user_tz": 300
    },
    "id": "PJ0BNAJKoDNv",
    "outputId": "71014b21-30f3-4731-f7e5-95da57b0c290"
   },
   "outputs": [
    {
     "data": {
      "text/html": [
       "\n",
       "<div id=\"altair-viz-d489a30dac7e406c80edf893e150523c\"></div>\n",
       "<script type=\"text/javascript\">\n",
       "  (function(spec, embedOpt){\n",
       "    let outputDiv = document.currentScript.previousElementSibling;\n",
       "    if (outputDiv.id !== \"altair-viz-d489a30dac7e406c80edf893e150523c\") {\n",
       "      outputDiv = document.getElementById(\"altair-viz-d489a30dac7e406c80edf893e150523c\");\n",
       "    }\n",
       "    const paths = {\n",
       "      \"vega\": \"https://cdn.jsdelivr.net/npm//vega@5?noext\",\n",
       "      \"vega-lib\": \"https://cdn.jsdelivr.net/npm//vega-lib?noext\",\n",
       "      \"vega-lite\": \"https://cdn.jsdelivr.net/npm//vega-lite@4.8.1?noext\",\n",
       "      \"vega-embed\": \"https://cdn.jsdelivr.net/npm//vega-embed@6?noext\",\n",
       "    };\n",
       "\n",
       "    function loadScript(lib) {\n",
       "      return new Promise(function(resolve, reject) {\n",
       "        var s = document.createElement('script');\n",
       "        s.src = paths[lib];\n",
       "        s.async = true;\n",
       "        s.onload = () => resolve(paths[lib]);\n",
       "        s.onerror = () => reject(`Error loading script: ${paths[lib]}`);\n",
       "        document.getElementsByTagName(\"head\")[0].appendChild(s);\n",
       "      });\n",
       "    }\n",
       "\n",
       "    function showError(err) {\n",
       "      outputDiv.innerHTML = `<div class=\"error\" style=\"color:red;\">${err}</div>`;\n",
       "      throw err;\n",
       "    }\n",
       "\n",
       "    function displayChart(vegaEmbed) {\n",
       "      vegaEmbed(outputDiv, spec, embedOpt)\n",
       "        .catch(err => showError(`Javascript Error: ${err.message}<br>This usually means there's a typo in your chart specification. See the javascript console for the full traceback.`));\n",
       "    }\n",
       "\n",
       "    if(typeof define === \"function\" && define.amd) {\n",
       "      requirejs.config({paths});\n",
       "      require([\"vega-embed\"], displayChart, err => showError(`Error loading script: ${err.message}`));\n",
       "    } else if (typeof vegaEmbed === \"function\") {\n",
       "      displayChart(vegaEmbed);\n",
       "    } else {\n",
       "      loadScript(\"vega\")\n",
       "        .then(() => loadScript(\"vega-lite\"))\n",
       "        .then(() => loadScript(\"vega-embed\"))\n",
       "        .catch(showError)\n",
       "        .then(() => displayChart(vegaEmbed));\n",
       "    }\n",
       "  })({\"config\": {\"view\": {\"continuousWidth\": 400, \"continuousHeight\": 300}}, \"layer\": [{\"mark\": {\"type\": \"rule\", \"color\": \"lightgray\", \"size\": 4}, \"encoding\": {\"opacity\": {\"condition\": {\"value\": 1, \"selection\": \"selector004\"}, \"value\": 0}, \"x\": {\"type\": \"temporal\", \"field\": \"datetime\"}}, \"selection\": {\"selector004\": {\"type\": \"single\", \"on\": \"mouseover\", \"empty\": \"none\", \"nearest\": true, \"init\": {\"datetime\": \"12:10\"}}}}, {\"mark\": \"line\", \"encoding\": {\"color\": {\"type\": \"nominal\", \"field\": \"team\"}, \"x\": {\"type\": \"temporal\", \"field\": \"datetime\"}, \"y\": {\"type\": \"quantitative\", \"field\": \"tweet_count\"}}, \"selection\": {\"selector003\": {\"type\": \"interval\", \"bind\": \"scales\", \"encodings\": [\"x\"]}}}, {\"mark\": {\"type\": \"circle\", \"color\": \"black\", \"size\": 70}, \"encoding\": {\"opacity\": {\"condition\": {\"value\": 1, \"selection\": \"selector004\"}, \"value\": 0}, \"tooltip\": [{\"type\": \"quantitative\", \"field\": \"tweet_count\"}, {\"type\": \"temporal\", \"field\": \"datetime\"}, {\"type\": \"nominal\", \"field\": \"team\"}], \"x\": {\"type\": \"temporal\", \"field\": \"datetime\"}, \"y\": {\"type\": \"quantitative\", \"field\": \"tweet_count\"}}, \"selection\": {\"selector005\": {\"type\": \"single\", \"on\": \"mouseover\", \"fields\": [\"datetime:T\"], \"empty\": \"none\"}}}], \"data\": {\"name\": \"data-681bd685269e91d74dece031c1bee907\"}, \"$schema\": \"https://vega.github.io/schema/vega-lite/v4.8.1.json\", \"datasets\": {\"data-681bd685269e91d74dece031c1bee907\": [{\"Unnamed: 0\": 0, \"datetime\": \"2017-08-27T00:05:30\", \"tweet_count\": 2.774748161810684, \"team\": \"\\ud83d\\udcb8\\ud83e\\udd11\\ud83d\\udcb0\\ud83d\\udcb5\"}, {\"Unnamed: 0\": 1, \"datetime\": \"2017-08-27T00:05:45\", \"tweet_count\": 1.0906162955173322, \"team\": \"\\ud83d\\udcb8\\ud83e\\udd11\\ud83d\\udcb0\\ud83d\\udcb5\"}, {\"Unnamed: 0\": 2, \"datetime\": \"2017-08-27T00:06:00\", \"tweet_count\": 0.7978197729537929, \"team\": \"\\ud83d\\udcb8\\ud83e\\udd11\\ud83d\\udcb0\\ud83d\\udcb5\"}, {\"Unnamed: 0\": 3, \"datetime\": \"2017-08-27T00:06:15\", \"tweet_count\": 0.7563270531437325, \"team\": \"\\ud83d\\udcb8\\ud83e\\udd11\\ud83d\\udcb0\\ud83d\\udcb5\"}, {\"Unnamed: 0\": 4, \"datetime\": \"2017-08-27T00:06:30\", \"tweet_count\": 0.8022612945063461, \"team\": \"\\ud83d\\udcb8\\ud83e\\udd11\\ud83d\\udcb0\\ud83d\\udcb5\"}, {\"Unnamed: 0\": 5, \"datetime\": \"2017-08-27T00:06:45\", \"tweet_count\": 0.6901120109916374, \"team\": \"\\ud83d\\udcb8\\ud83e\\udd11\\ud83d\\udcb0\\ud83d\\udcb5\"}, {\"Unnamed: 0\": 6, \"datetime\": \"2017-08-27T00:07:00\", \"tweet_count\": 0.6481768984320003, \"team\": \"\\ud83d\\udcb8\\ud83e\\udd11\\ud83d\\udcb0\\ud83d\\udcb5\"}, {\"Unnamed: 0\": 7, \"datetime\": \"2017-08-27T00:07:15\", \"tweet_count\": 0.6823777071087693, \"team\": \"\\ud83d\\udcb8\\ud83e\\udd11\\ud83d\\udcb0\\ud83d\\udcb5\"}, {\"Unnamed: 0\": 8, \"datetime\": \"2017-08-27T00:07:30\", \"tweet_count\": 0.676341770792413, \"team\": \"\\ud83d\\udcb8\\ud83e\\udd11\\ud83d\\udcb0\\ud83d\\udcb5\"}, {\"Unnamed: 0\": 9, \"datetime\": \"2017-08-27T00:07:45\", \"tweet_count\": 0.6231063668033531, \"team\": \"\\ud83d\\udcb8\\ud83e\\udd11\\ud83d\\udcb0\\ud83d\\udcb5\"}, {\"Unnamed: 0\": 10, \"datetime\": \"2017-08-27T00:08:00\", \"tweet_count\": 0.5804756993136571, \"team\": \"\\ud83d\\udcb8\\ud83e\\udd11\\ud83d\\udcb0\\ud83d\\udcb5\"}, {\"Unnamed: 0\": 11, \"datetime\": \"2017-08-27T00:08:15\", \"tweet_count\": 0.5518534060992761, \"team\": \"\\ud83d\\udcb8\\ud83e\\udd11\\ud83d\\udcb0\\ud83d\\udcb5\"}, {\"Unnamed: 0\": 12, \"datetime\": \"2017-08-27T00:08:30\", \"tweet_count\": 0.5290670653185491, \"team\": \"\\ud83d\\udcb8\\ud83e\\udd11\\ud83d\\udcb0\\ud83d\\udcb5\"}, {\"Unnamed: 0\": 13, \"datetime\": \"2017-08-27T00:08:45\", \"tweet_count\": 0.5164818302909773, \"team\": \"\\ud83d\\udcb8\\ud83e\\udd11\\ud83d\\udcb0\\ud83d\\udcb5\"}, {\"Unnamed: 0\": 14, \"datetime\": \"2017-08-27T00:09:00\", \"tweet_count\": 0.4913737417147912, \"team\": \"\\ud83d\\udcb8\\ud83e\\udd11\\ud83d\\udcb0\\ud83d\\udcb5\"}, {\"Unnamed: 0\": 15, \"datetime\": \"2017-08-27T00:09:15\", \"tweet_count\": 0.4822851354439705, \"team\": \"\\ud83d\\udcb8\\ud83e\\udd11\\ud83d\\udcb0\\ud83d\\udcb5\"}, {\"Unnamed: 0\": 16, \"datetime\": \"2017-08-27T00:09:30\", \"tweet_count\": 0.4686281597541022, \"team\": \"\\ud83d\\udcb8\\ud83e\\udd11\\ud83d\\udcb0\\ud83d\\udcb5\"}, {\"Unnamed: 0\": 17, \"datetime\": \"2017-08-27T00:09:45\", \"tweet_count\": 0.4787885280150811, \"team\": \"\\ud83d\\udcb8\\ud83e\\udd11\\ud83d\\udcb0\\ud83d\\udcb5\"}, {\"Unnamed: 0\": 18, \"datetime\": \"2017-08-27T00:10:00\", \"tweet_count\": 0.5344080590730701, \"team\": \"\\ud83d\\udcb8\\ud83e\\udd11\\ud83d\\udcb0\\ud83d\\udcb5\"}, {\"Unnamed: 0\": 19, \"datetime\": \"2017-08-27T00:10:15\", \"tweet_count\": 0.5198241602029042, \"team\": \"\\ud83d\\udcb8\\ud83e\\udd11\\ud83d\\udcb0\\ud83d\\udcb5\"}, {\"Unnamed: 0\": 20, \"datetime\": \"2017-08-27T00:10:30\", \"tweet_count\": 0.4903536531569366, \"team\": \"\\ud83d\\udcb8\\ud83e\\udd11\\ud83d\\udcb0\\ud83d\\udcb5\"}, {\"Unnamed: 0\": 21, \"datetime\": \"2017-08-27T00:10:45\", \"tweet_count\": 0.4994594261557723, \"team\": \"\\ud83d\\udcb8\\ud83e\\udd11\\ud83d\\udcb0\\ud83d\\udcb5\"}, {\"Unnamed: 0\": 22, \"datetime\": \"2017-08-27T00:11:00\", \"tweet_count\": 0.4918575412768799, \"team\": \"\\ud83d\\udcb8\\ud83e\\udd11\\ud83d\\udcb0\\ud83d\\udcb5\"}, {\"Unnamed: 0\": 23, \"datetime\": \"2017-08-27T00:11:15\", \"tweet_count\": 0.4815455890658304, \"team\": \"\\ud83d\\udcb8\\ud83e\\udd11\\ud83d\\udcb0\\ud83d\\udcb5\"}, {\"Unnamed: 0\": 24, \"datetime\": \"2017-08-27T00:11:30\", \"tweet_count\": 0.506295309750792, \"team\": \"\\ud83d\\udcb8\\ud83e\\udd11\\ud83d\\udcb0\\ud83d\\udcb5\"}, {\"Unnamed: 0\": 25, \"datetime\": \"2017-08-27T00:11:45\", \"tweet_count\": 0.5495857946660377, \"team\": \"\\ud83d\\udcb8\\ud83e\\udd11\\ud83d\\udcb0\\ud83d\\udcb5\"}, {\"Unnamed: 0\": 26, \"datetime\": \"2017-08-27T00:12:00\", \"tweet_count\": 0.7145796724706894, \"team\": \"\\ud83d\\udcb8\\ud83e\\udd11\\ud83d\\udcb0\\ud83d\\udcb5\"}, {\"Unnamed: 0\": 27, \"datetime\": \"2017-08-27T00:12:15\", \"tweet_count\": 0.7537521466430261, \"team\": \"\\ud83d\\udcb8\\ud83e\\udd11\\ud83d\\udcb0\\ud83d\\udcb5\"}, {\"Unnamed: 0\": 28, \"datetime\": \"2017-08-27T00:12:30\", \"tweet_count\": 0.824065436272611, \"team\": \"\\ud83d\\udcb8\\ud83e\\udd11\\ud83d\\udcb0\\ud83d\\udcb5\"}, {\"Unnamed: 0\": 29, \"datetime\": \"2017-08-27T00:12:45\", \"tweet_count\": 0.8814711455954782, \"team\": \"\\ud83d\\udcb8\\ud83e\\udd11\\ud83d\\udcb0\\ud83d\\udcb5\"}, {\"Unnamed: 0\": 30, \"datetime\": \"2017-08-27T00:13:00\", \"tweet_count\": 1.0344923688098202, \"team\": \"\\ud83d\\udcb8\\ud83e\\udd11\\ud83d\\udcb0\\ud83d\\udcb5\"}, {\"Unnamed: 0\": 31, \"datetime\": \"2017-08-27T00:13:15\", \"tweet_count\": 1.10785568811421, \"team\": \"\\ud83d\\udcb8\\ud83e\\udd11\\ud83d\\udcb0\\ud83d\\udcb5\"}, {\"Unnamed: 0\": 32, \"datetime\": \"2017-08-27T00:13:30\", \"tweet_count\": 1.150532748331771, \"team\": \"\\ud83d\\udcb8\\ud83e\\udd11\\ud83d\\udcb0\\ud83d\\udcb5\"}, {\"Unnamed: 0\": 33, \"datetime\": \"2017-08-27T00:13:45\", \"tweet_count\": 1.1275561136493577, \"team\": \"\\ud83d\\udcb8\\ud83e\\udd11\\ud83d\\udcb0\\ud83d\\udcb5\"}, {\"Unnamed: 0\": 34, \"datetime\": \"2017-08-27T00:14:00\", \"tweet_count\": 1.1178346917074369, \"team\": \"\\ud83d\\udcb8\\ud83e\\udd11\\ud83d\\udcb0\\ud83d\\udcb5\"}, {\"Unnamed: 0\": 35, \"datetime\": \"2017-08-27T00:14:15\", \"tweet_count\": 1.138856750291206, \"team\": \"\\ud83d\\udcb8\\ud83e\\udd11\\ud83d\\udcb0\\ud83d\\udcb5\"}, {\"Unnamed: 0\": 36, \"datetime\": \"2017-08-27T00:14:30\", \"tweet_count\": 1.123962280694228, \"team\": \"\\ud83d\\udcb8\\ud83e\\udd11\\ud83d\\udcb0\\ud83d\\udcb5\"}, {\"Unnamed: 0\": 37, \"datetime\": \"2017-08-27T00:14:45\", \"tweet_count\": 1.1538374735423222, \"team\": \"\\ud83d\\udcb8\\ud83e\\udd11\\ud83d\\udcb0\\ud83d\\udcb5\"}, {\"Unnamed: 0\": 38, \"datetime\": \"2017-08-27T00:15:00\", \"tweet_count\": 1.1814997098207685, \"team\": \"\\ud83d\\udcb8\\ud83e\\udd11\\ud83d\\udcb0\\ud83d\\udcb5\"}, {\"Unnamed: 0\": 39, \"datetime\": \"2017-08-27T00:15:15\", \"tweet_count\": 1.149388090890731, \"team\": \"\\ud83d\\udcb8\\ud83e\\udd11\\ud83d\\udcb0\\ud83d\\udcb5\"}, {\"Unnamed: 0\": 40, \"datetime\": \"2017-08-27T00:15:30\", \"tweet_count\": 1.0875509527033105, \"team\": \"\\ud83d\\udcb8\\ud83e\\udd11\\ud83d\\udcb0\\ud83d\\udcb5\"}, {\"Unnamed: 0\": 41, \"datetime\": \"2017-08-27T00:15:45\", \"tweet_count\": 1.0365659000100491, \"team\": \"\\ud83d\\udcb8\\ud83e\\udd11\\ud83d\\udcb0\\ud83d\\udcb5\"}, {\"Unnamed: 0\": 42, \"datetime\": \"2017-08-27T00:16:00\", \"tweet_count\": 0.8457835109202496, \"team\": \"\\ud83d\\udcb8\\ud83e\\udd11\\ud83d\\udcb0\\ud83d\\udcb5\"}, {\"Unnamed: 0\": 43, \"datetime\": \"2017-08-27T00:16:15\", \"tweet_count\": 0.8180951187576615, \"team\": \"\\ud83d\\udcb8\\ud83e\\udd11\\ud83d\\udcb0\\ud83d\\udcb5\"}, {\"Unnamed: 0\": 44, \"datetime\": \"2017-08-27T00:16:30\", \"tweet_count\": 0.7528274688336845, \"team\": \"\\ud83d\\udcb8\\ud83e\\udd11\\ud83d\\udcb0\\ud83d\\udcb5\"}, {\"Unnamed: 0\": 45, \"datetime\": \"2017-08-27T00:16:45\", \"tweet_count\": 0.7949096037110874, \"team\": \"\\ud83d\\udcb8\\ud83e\\udd11\\ud83d\\udcb0\\ud83d\\udcb5\"}, {\"Unnamed: 0\": 46, \"datetime\": \"2017-08-27T00:17:00\", \"tweet_count\": 0.6273310516126203, \"team\": \"\\ud83d\\udcb8\\ud83e\\udd11\\ud83d\\udcb0\\ud83d\\udcb5\"}, {\"Unnamed: 0\": 47, \"datetime\": \"2017-08-27T00:17:15\", \"tweet_count\": 0.6078550388589247, \"team\": \"\\ud83d\\udcb8\\ud83e\\udd11\\ud83d\\udcb0\\ud83d\\udcb5\"}, {\"Unnamed: 0\": 48, \"datetime\": \"2017-08-27T00:17:30\", \"tweet_count\": 0.4953330030043, \"team\": \"\\ud83d\\udcb8\\ud83e\\udd11\\ud83d\\udcb0\\ud83d\\udcb5\"}, {\"Unnamed: 0\": 49, \"datetime\": \"2017-08-27T00:17:45\", \"tweet_count\": 0.5309536712068065, \"team\": \"\\ud83d\\udcb8\\ud83e\\udd11\\ud83d\\udcb0\\ud83d\\udcb5\"}, {\"Unnamed: 0\": 50, \"datetime\": \"2017-08-27T00:18:00\", \"tweet_count\": 0.4346270444516877, \"team\": \"\\ud83d\\udcb8\\ud83e\\udd11\\ud83d\\udcb0\\ud83d\\udcb5\"}, {\"Unnamed: 0\": 51, \"datetime\": \"2017-08-27T00:18:15\", \"tweet_count\": 0.4956504427161294, \"team\": \"\\ud83d\\udcb8\\ud83e\\udd11\\ud83d\\udcb0\\ud83d\\udcb5\"}, {\"Unnamed: 0\": 52, \"datetime\": \"2017-08-27T00:18:30\", \"tweet_count\": 0.5197662538857046, \"team\": \"\\ud83d\\udcb8\\ud83e\\udd11\\ud83d\\udcb0\\ud83d\\udcb5\"}, {\"Unnamed: 0\": 53, \"datetime\": \"2017-08-27T00:18:45\", \"tweet_count\": 0.4919498129445518, \"team\": \"\\ud83d\\udcb8\\ud83e\\udd11\\ud83d\\udcb0\\ud83d\\udcb5\"}, {\"Unnamed: 0\": 54, \"datetime\": \"2017-08-27T00:19:00\", \"tweet_count\": 0.4591329612436951, \"team\": \"\\ud83d\\udcb8\\ud83e\\udd11\\ud83d\\udcb0\\ud83d\\udcb5\"}, {\"Unnamed: 0\": 55, \"datetime\": \"2017-08-27T00:19:15\", \"tweet_count\": 0.4506347396923191, \"team\": \"\\ud83d\\udcb8\\ud83e\\udd11\\ud83d\\udcb0\\ud83d\\udcb5\"}, {\"Unnamed: 0\": 56, \"datetime\": \"2017-08-27T00:19:30\", \"tweet_count\": 0.4580047614344267, \"team\": \"\\ud83d\\udcb8\\ud83e\\udd11\\ud83d\\udcb0\\ud83d\\udcb5\"}, {\"Unnamed: 0\": 57, \"datetime\": \"2017-08-27T00:19:45\", \"tweet_count\": 0.4561107029588546, \"team\": \"\\ud83d\\udcb8\\ud83e\\udd11\\ud83d\\udcb0\\ud83d\\udcb5\"}, {\"Unnamed: 0\": 58, \"datetime\": \"2017-08-27T00:20:00\", \"tweet_count\": 0.5348250229076553, \"team\": \"\\ud83d\\udcb8\\ud83e\\udd11\\ud83d\\udcb0\\ud83d\\udcb5\"}, {\"Unnamed: 0\": 59, \"datetime\": \"2017-08-27T00:20:15\", \"tweet_count\": 0.7105423314154241, \"team\": \"\\ud83d\\udcb8\\ud83e\\udd11\\ud83d\\udcb0\\ud83d\\udcb5\"}, {\"Unnamed: 0\": 60, \"datetime\": \"2017-08-27T00:20:30\", \"tweet_count\": 0.6972745415101745, \"team\": \"\\ud83d\\udcb8\\ud83e\\udd11\\ud83d\\udcb0\\ud83d\\udcb5\"}, {\"Unnamed: 0\": 61, \"datetime\": \"2017-08-27T00:20:45\", \"tweet_count\": 0.6093189105098309, \"team\": \"\\ud83d\\udcb8\\ud83e\\udd11\\ud83d\\udcb0\\ud83d\\udcb5\"}, {\"Unnamed: 0\": 62, \"datetime\": \"2017-08-27T00:21:00\", \"tweet_count\": 0.6589016438323735, \"team\": \"\\ud83d\\udcb8\\ud83e\\udd11\\ud83d\\udcb0\\ud83d\\udcb5\"}, {\"Unnamed: 0\": 63, \"datetime\": \"2017-08-27T00:21:15\", \"tweet_count\": 0.6494418124090416, \"team\": \"\\ud83d\\udcb8\\ud83e\\udd11\\ud83d\\udcb0\\ud83d\\udcb5\"}, {\"Unnamed: 0\": 64, \"datetime\": \"2017-08-27T00:21:30\", \"tweet_count\": 0.6716849019987672, \"team\": \"\\ud83d\\udcb8\\ud83e\\udd11\\ud83d\\udcb0\\ud83d\\udcb5\"}, {\"Unnamed: 0\": 65, \"datetime\": \"2017-08-27T00:21:45\", \"tweet_count\": 0.6223138762975443, \"team\": \"\\ud83d\\udcb8\\ud83e\\udd11\\ud83d\\udcb0\\ud83d\\udcb5\"}, {\"Unnamed: 0\": 66, \"datetime\": \"2017-08-27T00:22:00\", \"tweet_count\": 0.6173974538735822, \"team\": \"\\ud83d\\udcb8\\ud83e\\udd11\\ud83d\\udcb0\\ud83d\\udcb5\"}, {\"Unnamed: 0\": 67, \"datetime\": \"2017-08-27T00:22:15\", \"tweet_count\": 0.5571099056019592, \"team\": \"\\ud83d\\udcb8\\ud83e\\udd11\\ud83d\\udcb0\\ud83d\\udcb5\"}, {\"Unnamed: 0\": 68, \"datetime\": \"2017-08-27T00:22:30\", \"tweet_count\": 0.5272831329234009, \"team\": \"\\ud83d\\udcb8\\ud83e\\udd11\\ud83d\\udcb0\\ud83d\\udcb5\"}, {\"Unnamed: 0\": 69, \"datetime\": \"2017-08-27T00:22:45\", \"tweet_count\": 0.517867268962071, \"team\": \"\\ud83d\\udcb8\\ud83e\\udd11\\ud83d\\udcb0\\ud83d\\udcb5\"}, {\"Unnamed: 0\": 70, \"datetime\": \"2017-08-27T00:23:00\", \"tweet_count\": 0.5154708782735804, \"team\": \"\\ud83d\\udcb8\\ud83e\\udd11\\ud83d\\udcb0\\ud83d\\udcb5\"}, {\"Unnamed: 0\": 71, \"datetime\": \"2017-08-27T00:23:15\", \"tweet_count\": 0.5066984238010106, \"team\": \"\\ud83d\\udcb8\\ud83e\\udd11\\ud83d\\udcb0\\ud83d\\udcb5\"}, {\"Unnamed: 0\": 72, \"datetime\": \"2017-08-27T00:23:30\", \"tweet_count\": 0.4885567287756038, \"team\": \"\\ud83d\\udcb8\\ud83e\\udd11\\ud83d\\udcb0\\ud83d\\udcb5\"}, {\"Unnamed: 0\": 73, \"datetime\": \"2017-08-27T00:23:45\", \"tweet_count\": 0.4834993955417605, \"team\": \"\\ud83d\\udcb8\\ud83e\\udd11\\ud83d\\udcb0\\ud83d\\udcb5\"}, {\"Unnamed: 0\": 74, \"datetime\": \"2017-08-27T00:24:00\", \"tweet_count\": 0.3748456109568068, \"team\": \"\\ud83d\\udcb8\\ud83e\\udd11\\ud83d\\udcb0\\ud83d\\udcb5\"}, {\"Unnamed: 0\": 75, \"datetime\": \"2017-08-27T00:24:15\", \"tweet_count\": 0.1914361259063169, \"team\": \"\\ud83d\\udcb8\\ud83e\\udd11\\ud83d\\udcb0\\ud83d\\udcb5\"}, {\"Unnamed: 0\": 76, \"datetime\": \"2017-08-27T00:24:30\", \"tweet_count\": 0.1841868643918837, \"team\": \"\\ud83d\\udcb8\\ud83e\\udd11\\ud83d\\udcb0\\ud83d\\udcb5\"}, {\"Unnamed: 0\": 77, \"datetime\": \"2017-08-27T00:24:45\", \"tweet_count\": 0.1910558884649612, \"team\": \"\\ud83d\\udcb8\\ud83e\\udd11\\ud83d\\udcb0\\ud83d\\udcb5\"}, {\"Unnamed: 0\": 78, \"datetime\": \"2017-08-27T00:25:00\", \"tweet_count\": 0.1529367235914035, \"team\": \"\\ud83d\\udcb8\\ud83e\\udd11\\ud83d\\udcb0\\ud83d\\udcb5\"}, {\"Unnamed: 0\": 79, \"datetime\": \"2017-08-27T00:25:15\", \"tweet_count\": 0.138914804295609, \"team\": \"\\ud83d\\udcb8\\ud83e\\udd11\\ud83d\\udcb0\\ud83d\\udcb5\"}, {\"Unnamed: 0\": 80, \"datetime\": \"2017-08-27T00:25:30\", \"tweet_count\": 0.1232615647884178, \"team\": \"\\ud83d\\udcb8\\ud83e\\udd11\\ud83d\\udcb0\\ud83d\\udcb5\"}, {\"Unnamed: 0\": 81, \"datetime\": \"2017-08-27T00:25:45\", \"tweet_count\": 0.142137923005008, \"team\": \"\\ud83d\\udcb8\\ud83e\\udd11\\ud83d\\udcb0\\ud83d\\udcb5\"}, {\"Unnamed: 0\": 82, \"datetime\": \"2017-08-27T00:26:00\", \"tweet_count\": 0.1370581919116102, \"team\": \"\\ud83d\\udcb8\\ud83e\\udd11\\ud83d\\udcb0\\ud83d\\udcb5\"}, {\"Unnamed: 0\": 83, \"datetime\": \"2017-08-27T00:26:15\", \"tweet_count\": 0.1258919007896385, \"team\": \"\\ud83d\\udcb8\\ud83e\\udd11\\ud83d\\udcb0\\ud83d\\udcb5\"}, {\"Unnamed: 0\": 84, \"datetime\": \"2017-08-27T00:26:30\", \"tweet_count\": 0.104432729864775, \"team\": \"\\ud83d\\udcb8\\ud83e\\udd11\\ud83d\\udcb0\\ud83d\\udcb5\"}, {\"Unnamed: 0\": 85, \"datetime\": \"2017-08-27T00:26:45\", \"tweet_count\": 0.1119364824623721, \"team\": \"\\ud83d\\udcb8\\ud83e\\udd11\\ud83d\\udcb0\\ud83d\\udcb5\"}, {\"Unnamed: 0\": 86, \"datetime\": \"2017-08-27T00:27:00\", \"tweet_count\": 0.1127913484780338, \"team\": \"\\ud83d\\udcb8\\ud83e\\udd11\\ud83d\\udcb0\\ud83d\\udcb5\"}, {\"Unnamed: 0\": 87, \"datetime\": \"2017-08-27T00:27:15\", \"tweet_count\": 0.1137277548348102, \"team\": \"\\ud83d\\udcb8\\ud83e\\udd11\\ud83d\\udcb0\\ud83d\\udcb5\"}, {\"Unnamed: 0\": 88, \"datetime\": \"2017-08-27T00:27:30\", \"tweet_count\": 0.1278542406268452, \"team\": \"\\ud83d\\udcb8\\ud83e\\udd11\\ud83d\\udcb0\\ud83d\\udcb5\"}, {\"Unnamed: 0\": 89, \"datetime\": \"2017-08-27T00:27:45\", \"tweet_count\": 0.1443869071488087, \"team\": \"\\ud83d\\udcb8\\ud83e\\udd11\\ud83d\\udcb0\\ud83d\\udcb5\"}, {\"Unnamed: 0\": 90, \"datetime\": \"2017-08-27T00:28:00\", \"tweet_count\": 0.1454312264752708, \"team\": \"\\ud83d\\udcb8\\ud83e\\udd11\\ud83d\\udcb0\\ud83d\\udcb5\"}, {\"Unnamed: 0\": 91, \"datetime\": \"2017-08-27T00:28:15\", \"tweet_count\": 0.1451977640075881, \"team\": \"\\ud83d\\udcb8\\ud83e\\udd11\\ud83d\\udcb0\\ud83d\\udcb5\"}, {\"Unnamed: 0\": 92, \"datetime\": \"2017-08-27T00:28:30\", \"tweet_count\": 0.1408434869437266, \"team\": \"\\ud83d\\udcb8\\ud83e\\udd11\\ud83d\\udcb0\\ud83d\\udcb5\"}, {\"Unnamed: 0\": 93, \"datetime\": \"2017-08-27T00:28:45\", \"tweet_count\": 0.1304455630367775, \"team\": \"\\ud83d\\udcb8\\ud83e\\udd11\\ud83d\\udcb0\\ud83d\\udcb5\"}, {\"Unnamed: 0\": 94, \"datetime\": \"2017-08-27T00:29:00\", \"tweet_count\": 0.13275114886824, \"team\": \"\\ud83d\\udcb8\\ud83e\\udd11\\ud83d\\udcb0\\ud83d\\udcb5\"}, {\"Unnamed: 0\": 95, \"datetime\": \"2017-08-27T00:29:15\", \"tweet_count\": 0.1178750801425809, \"team\": \"\\ud83d\\udcb8\\ud83e\\udd11\\ud83d\\udcb0\\ud83d\\udcb5\"}, {\"Unnamed: 0\": 96, \"datetime\": \"2017-08-27T00:29:30\", \"tweet_count\": 0.1049412344076748, \"team\": \"\\ud83d\\udcb8\\ud83e\\udd11\\ud83d\\udcb0\\ud83d\\udcb5\"}, {\"Unnamed: 0\": 97, \"datetime\": \"2017-08-27T00:29:45\", \"tweet_count\": 0.0856231418308955, \"team\": \"\\ud83d\\udcb8\\ud83e\\udd11\\ud83d\\udcb0\\ud83d\\udcb5\"}, {\"Unnamed: 0\": 98, \"datetime\": \"2017-08-27T00:30:00\", \"tweet_count\": 0.1033282072095474, \"team\": \"\\ud83d\\udcb8\\ud83e\\udd11\\ud83d\\udcb0\\ud83d\\udcb5\"}, {\"Unnamed: 0\": 99, \"datetime\": \"2017-08-27T00:30:15\", \"tweet_count\": 0.1038550987991854, \"team\": \"\\ud83d\\udcb8\\ud83e\\udd11\\ud83d\\udcb0\\ud83d\\udcb5\"}, {\"Unnamed: 0\": 100, \"datetime\": \"2017-08-27T00:30:30\", \"tweet_count\": 0.0985550961228311, \"team\": \"\\ud83d\\udcb8\\ud83e\\udd11\\ud83d\\udcb0\\ud83d\\udcb5\"}, {\"Unnamed: 0\": 101, \"datetime\": \"2017-08-27T00:30:45\", \"tweet_count\": 0.0694012210339131, \"team\": \"\\ud83d\\udcb8\\ud83e\\udd11\\ud83d\\udcb0\\ud83d\\udcb5\"}, {\"Unnamed: 0\": 102, \"datetime\": \"2017-08-27T00:31:00\", \"tweet_count\": 0.1287424864036186, \"team\": \"\\ud83d\\udcb8\\ud83e\\udd11\\ud83d\\udcb0\\ud83d\\udcb5\"}, {\"Unnamed: 0\": 103, \"datetime\": \"2017-08-27T00:31:15\", \"tweet_count\": 0.1570388217716193, \"team\": \"\\ud83d\\udcb8\\ud83e\\udd11\\ud83d\\udcb0\\ud83d\\udcb5\"}, {\"Unnamed: 0\": 104, \"datetime\": \"2017-08-27T00:31:30\", \"tweet_count\": 0.1842886749227144, \"team\": \"\\ud83d\\udcb8\\ud83e\\udd11\\ud83d\\udcb0\\ud83d\\udcb5\"}, {\"Unnamed: 0\": 105, \"datetime\": \"2017-08-27T00:31:45\", \"tweet_count\": 0.2417933794540369, \"team\": \"\\ud83d\\udcb8\\ud83e\\udd11\\ud83d\\udcb0\\ud83d\\udcb5\"}, {\"Unnamed: 0\": 106, \"datetime\": \"2017-08-27T00:32:00\", \"tweet_count\": 0.2771230731358076, \"team\": \"\\ud83d\\udcb8\\ud83e\\udd11\\ud83d\\udcb0\\ud83d\\udcb5\"}, {\"Unnamed: 0\": 107, \"datetime\": \"2017-08-27T00:32:15\", \"tweet_count\": 0.2767492882818875, \"team\": \"\\ud83d\\udcb8\\ud83e\\udd11\\ud83d\\udcb0\\ud83d\\udcb5\"}, {\"Unnamed: 0\": 108, \"datetime\": \"2017-08-27T00:32:30\", \"tweet_count\": 0.2810288515757188, \"team\": \"\\ud83d\\udcb8\\ud83e\\udd11\\ud83d\\udcb0\\ud83d\\udcb5\"}, {\"Unnamed: 0\": 109, \"datetime\": \"2017-08-27T00:32:45\", \"tweet_count\": 0.285149990442364, \"team\": \"\\ud83d\\udcb8\\ud83e\\udd11\\ud83d\\udcb0\\ud83d\\udcb5\"}, {\"Unnamed: 0\": 110, \"datetime\": \"2017-08-27T00:33:00\", \"tweet_count\": 0.2651932379907104, \"team\": \"\\ud83d\\udcb8\\ud83e\\udd11\\ud83d\\udcb0\\ud83d\\udcb5\"}, {\"Unnamed: 0\": 111, \"datetime\": \"2017-08-27T00:33:15\", \"tweet_count\": 0.2811131225985885, \"team\": \"\\ud83d\\udcb8\\ud83e\\udd11\\ud83d\\udcb0\\ud83d\\udcb5\"}, {\"Unnamed: 0\": 112, \"datetime\": \"2017-08-27T00:33:30\", \"tweet_count\": 0.3278646044597979, \"team\": \"\\ud83d\\udcb8\\ud83e\\udd11\\ud83d\\udcb0\\ud83d\\udcb5\"}, {\"Unnamed: 0\": 113, \"datetime\": \"2017-08-27T00:33:45\", \"tweet_count\": 0.3387737253210472, \"team\": \"\\ud83d\\udcb8\\ud83e\\udd11\\ud83d\\udcb0\\ud83d\\udcb5\"}, {\"Unnamed: 0\": 114, \"datetime\": \"2017-08-27T00:34:00\", \"tweet_count\": 0.3310462412669748, \"team\": \"\\ud83d\\udcb8\\ud83e\\udd11\\ud83d\\udcb0\\ud83d\\udcb5\"}, {\"Unnamed: 0\": 115, \"datetime\": \"2017-08-27T00:34:15\", \"tweet_count\": 0.4104694994345096, \"team\": \"\\ud83d\\udcb8\\ud83e\\udd11\\ud83d\\udcb0\\ud83d\\udcb5\"}, {\"Unnamed: 0\": 116, \"datetime\": \"2017-08-27T00:34:30\", \"tweet_count\": 0.4256276627043737, \"team\": \"\\ud83d\\udcb8\\ud83e\\udd11\\ud83d\\udcb0\\ud83d\\udcb5\"}, {\"Unnamed: 0\": 117, \"datetime\": \"2017-08-27T00:34:45\", \"tweet_count\": 0.4486336278421571, \"team\": \"\\ud83d\\udcb8\\ud83e\\udd11\\ud83d\\udcb0\\ud83d\\udcb5\"}, {\"Unnamed: 0\": 118, \"datetime\": \"2017-08-27T00:35:00\", \"tweet_count\": 0.4243210497822944, \"team\": \"\\ud83d\\udcb8\\ud83e\\udd11\\ud83d\\udcb0\\ud83d\\udcb5\"}, {\"Unnamed: 0\": 119, \"datetime\": \"2017-08-27T00:35:15\", \"tweet_count\": 0.3910666840033397, \"team\": \"\\ud83d\\udcb8\\ud83e\\udd11\\ud83d\\udcb0\\ud83d\\udcb5\"}, {\"Unnamed: 0\": 120, \"datetime\": \"2017-08-27T00:35:30\", \"tweet_count\": 0.3565482522192325, \"team\": \"\\ud83d\\udcb8\\ud83e\\udd11\\ud83d\\udcb0\\ud83d\\udcb5\"}, {\"Unnamed: 0\": 121, \"datetime\": \"2017-08-27T00:35:45\", \"tweet_count\": 0.3302575154895216, \"team\": \"\\ud83d\\udcb8\\ud83e\\udd11\\ud83d\\udcb0\\ud83d\\udcb5\"}, {\"Unnamed: 0\": 122, \"datetime\": \"2017-08-27T00:36:00\", \"tweet_count\": 0.3514053060666973, \"team\": \"\\ud83d\\udcb8\\ud83e\\udd11\\ud83d\\udcb0\\ud83d\\udcb5\"}, {\"Unnamed: 0\": 123, \"datetime\": \"2017-08-27T00:36:15\", \"tweet_count\": 0.3591444170861261, \"team\": \"\\ud83d\\udcb8\\ud83e\\udd11\\ud83d\\udcb0\\ud83d\\udcb5\"}, {\"Unnamed: 0\": 124, \"datetime\": \"2017-08-27T00:36:30\", \"tweet_count\": 0.3665980780815415, \"team\": \"\\ud83d\\udcb8\\ud83e\\udd11\\ud83d\\udcb0\\ud83d\\udcb5\"}, {\"Unnamed: 0\": 125, \"datetime\": \"2017-08-27T00:36:45\", \"tweet_count\": 0.4059869502025331, \"team\": \"\\ud83d\\udcb8\\ud83e\\udd11\\ud83d\\udcb0\\ud83d\\udcb5\"}, {\"Unnamed: 0\": 126, \"datetime\": \"2017-08-27T00:37:00\", \"tweet_count\": 0.4963632380896252, \"team\": \"\\ud83d\\udcb8\\ud83e\\udd11\\ud83d\\udcb0\\ud83d\\udcb5\"}, {\"Unnamed: 0\": 127, \"datetime\": \"2017-08-27T00:37:15\", \"tweet_count\": 0.7538458430602621, \"team\": \"\\ud83d\\udcb8\\ud83e\\udd11\\ud83d\\udcb0\\ud83d\\udcb5\"}, {\"Unnamed: 0\": 128, \"datetime\": \"2017-08-27T00:37:30\", \"tweet_count\": 0.7208413270344622, \"team\": \"\\ud83d\\udcb8\\ud83e\\udd11\\ud83d\\udcb0\\ud83d\\udcb5\"}, {\"Unnamed: 0\": 129, \"datetime\": \"2017-08-27T00:37:45\", \"tweet_count\": 0.7244119402168708, \"team\": \"\\ud83d\\udcb8\\ud83e\\udd11\\ud83d\\udcb0\\ud83d\\udcb5\"}, {\"Unnamed: 0\": 130, \"datetime\": \"2017-08-27T00:38:00\", \"tweet_count\": 0.7201129415400078, \"team\": \"\\ud83d\\udcb8\\ud83e\\udd11\\ud83d\\udcb0\\ud83d\\udcb5\"}, {\"Unnamed: 0\": 131, \"datetime\": \"2017-08-27T00:38:15\", \"tweet_count\": 0.6647567196478275, \"team\": \"\\ud83d\\udcb8\\ud83e\\udd11\\ud83d\\udcb0\\ud83d\\udcb5\"}, {\"Unnamed: 0\": 132, \"datetime\": \"2017-08-27T00:38:30\", \"tweet_count\": 0.6635112821301297, \"team\": \"\\ud83d\\udcb8\\ud83e\\udd11\\ud83d\\udcb0\\ud83d\\udcb5\"}, {\"Unnamed: 0\": 133, \"datetime\": \"2017-08-27T00:38:45\", \"tweet_count\": 0.6527550485110529, \"team\": \"\\ud83d\\udcb8\\ud83e\\udd11\\ud83d\\udcb0\\ud83d\\udcb5\"}, {\"Unnamed: 0\": 134, \"datetime\": \"2017-08-27T00:39:00\", \"tweet_count\": 0.6442018063957677, \"team\": \"\\ud83d\\udcb8\\ud83e\\udd11\\ud83d\\udcb0\\ud83d\\udcb5\"}, {\"Unnamed: 0\": 135, \"datetime\": \"2017-08-27T00:39:15\", \"tweet_count\": 0.6566364478153158, \"team\": \"\\ud83d\\udcb8\\ud83e\\udd11\\ud83d\\udcb0\\ud83d\\udcb5\"}, {\"Unnamed: 0\": 136, \"datetime\": \"2017-08-27T00:39:30\", \"tweet_count\": 0.6447812119192354, \"team\": \"\\ud83d\\udcb8\\ud83e\\udd11\\ud83d\\udcb0\\ud83d\\udcb5\"}, {\"Unnamed: 0\": 137, \"datetime\": \"2017-08-27T00:39:45\", \"tweet_count\": 0.6159327685851175, \"team\": \"\\ud83d\\udcb8\\ud83e\\udd11\\ud83d\\udcb0\\ud83d\\udcb5\"}, {\"Unnamed: 0\": 138, \"datetime\": \"2017-08-27T00:40:00\", \"tweet_count\": 0.6523818939218311, \"team\": \"\\ud83d\\udcb8\\ud83e\\udd11\\ud83d\\udcb0\\ud83d\\udcb5\"}, {\"Unnamed: 0\": 139, \"datetime\": \"2017-08-27T00:40:15\", \"tweet_count\": 0.7500187731854336, \"team\": \"\\ud83d\\udcb8\\ud83e\\udd11\\ud83d\\udcb0\\ud83d\\udcb5\"}, {\"Unnamed: 0\": 140, \"datetime\": \"2017-08-27T00:40:30\", \"tweet_count\": 0.7477601879733826, \"team\": \"\\ud83d\\udcb8\\ud83e\\udd11\\ud83d\\udcb0\\ud83d\\udcb5\"}, {\"Unnamed: 0\": 141, \"datetime\": \"2017-08-27T00:40:45\", \"tweet_count\": 0.7077301544158993, \"team\": \"\\ud83d\\udcb8\\ud83e\\udd11\\ud83d\\udcb0\\ud83d\\udcb5\"}, {\"Unnamed: 0\": 142, \"datetime\": \"2017-08-27T00:41:00\", \"tweet_count\": 0.6233462083646077, \"team\": \"\\ud83d\\udcb8\\ud83e\\udd11\\ud83d\\udcb0\\ud83d\\udcb5\"}, {\"Unnamed: 0\": 143, \"datetime\": \"2017-08-27T00:41:15\", \"tweet_count\": 0.3072001850320101, \"team\": \"\\ud83d\\udcb8\\ud83e\\udd11\\ud83d\\udcb0\\ud83d\\udcb5\"}, {\"Unnamed: 0\": 144, \"datetime\": \"2017-08-27T00:41:30\", \"tweet_count\": 0.2988706979375919, \"team\": \"\\ud83d\\udcb8\\ud83e\\udd11\\ud83d\\udcb0\\ud83d\\udcb5\"}, {\"Unnamed: 0\": 145, \"datetime\": \"2017-08-27T00:41:45\", \"tweet_count\": 0.3297831717346781, \"team\": \"\\ud83d\\udcb8\\ud83e\\udd11\\ud83d\\udcb0\\ud83d\\udcb5\"}, {\"Unnamed: 0\": 146, \"datetime\": \"2017-08-27T00:42:00\", \"tweet_count\": 0.352762655794894, \"team\": \"\\ud83d\\udcb8\\ud83e\\udd11\\ud83d\\udcb0\\ud83d\\udcb5\"}, {\"Unnamed: 0\": 147, \"datetime\": \"2017-08-27T00:42:15\", \"tweet_count\": 0.3835622525306732, \"team\": \"\\ud83d\\udcb8\\ud83e\\udd11\\ud83d\\udcb0\\ud83d\\udcb5\"}, {\"Unnamed: 0\": 148, \"datetime\": \"2017-08-27T00:42:30\", \"tweet_count\": 0.3640848326192001, \"team\": \"\\ud83d\\udcb8\\ud83e\\udd11\\ud83d\\udcb0\\ud83d\\udcb5\"}, {\"Unnamed: 0\": 149, \"datetime\": \"2017-08-27T00:42:45\", \"tweet_count\": 0.3529145975463438, \"team\": \"\\ud83d\\udcb8\\ud83e\\udd11\\ud83d\\udcb0\\ud83d\\udcb5\"}, {\"Unnamed: 0\": 150, \"datetime\": \"2017-08-27T00:43:00\", \"tweet_count\": 0.3608114576511729, \"team\": \"\\ud83d\\udcb8\\ud83e\\udd11\\ud83d\\udcb0\\ud83d\\udcb5\"}, {\"Unnamed: 0\": 151, \"datetime\": \"2017-08-27T00:43:15\", \"tweet_count\": 0.5382800224750565, \"team\": \"\\ud83d\\udcb8\\ud83e\\udd11\\ud83d\\udcb0\\ud83d\\udcb5\"}, {\"Unnamed: 0\": 152, \"datetime\": \"2017-08-27T00:43:30\", \"tweet_count\": 1.160526974067514, \"team\": \"\\ud83d\\udcb8\\ud83e\\udd11\\ud83d\\udcb0\\ud83d\\udcb5\"}, {\"Unnamed: 0\": 153, \"datetime\": \"2017-08-27T00:43:45\", \"tweet_count\": 1.1449685755906882, \"team\": \"\\ud83d\\udcb8\\ud83e\\udd11\\ud83d\\udcb0\\ud83d\\udcb5\"}, {\"Unnamed: 0\": 154, \"datetime\": \"2017-08-27T00:44:00\", \"tweet_count\": 1.048080270435531, \"team\": \"\\ud83d\\udcb8\\ud83e\\udd11\\ud83d\\udcb0\\ud83d\\udcb5\"}, {\"Unnamed: 0\": 155, \"datetime\": \"2017-08-27T00:44:15\", \"tweet_count\": 0.9627753205457388, \"team\": \"\\ud83d\\udcb8\\ud83e\\udd11\\ud83d\\udcb0\\ud83d\\udcb5\"}, {\"Unnamed: 0\": 156, \"datetime\": \"2017-08-27T00:44:30\", \"tweet_count\": 0.9571741501739413, \"team\": \"\\ud83d\\udcb8\\ud83e\\udd11\\ud83d\\udcb0\\ud83d\\udcb5\"}, {\"Unnamed: 0\": 157, \"datetime\": \"2017-08-27T00:44:45\", \"tweet_count\": 0.9504190474105368, \"team\": \"\\ud83d\\udcb8\\ud83e\\udd11\\ud83d\\udcb0\\ud83d\\udcb5\"}, {\"Unnamed: 0\": 158, \"datetime\": \"2017-08-27T00:45:00\", \"tweet_count\": 0.9865983175722024, \"team\": \"\\ud83d\\udcb8\\ud83e\\udd11\\ud83d\\udcb0\\ud83d\\udcb5\"}, {\"Unnamed: 0\": 159, \"datetime\": \"2017-08-27T00:45:15\", \"tweet_count\": 1.013369126646266, \"team\": \"\\ud83d\\udcb8\\ud83e\\udd11\\ud83d\\udcb0\\ud83d\\udcb5\"}, {\"Unnamed: 0\": 160, \"datetime\": \"2017-08-27T00:45:30\", \"tweet_count\": 1.0490967259232948, \"team\": \"\\ud83d\\udcb8\\ud83e\\udd11\\ud83d\\udcb0\\ud83d\\udcb5\"}, {\"Unnamed: 0\": 161, \"datetime\": \"2017-08-27T00:45:45\", \"tweet_count\": 0.995270134091636, \"team\": \"\\ud83d\\udcb8\\ud83e\\udd11\\ud83d\\udcb0\\ud83d\\udcb5\"}, {\"Unnamed: 0\": 162, \"datetime\": \"2017-08-27T00:46:00\", \"tweet_count\": 0.9709061361939312, \"team\": \"\\ud83d\\udcb8\\ud83e\\udd11\\ud83d\\udcb0\\ud83d\\udcb5\"}, {\"Unnamed: 0\": 163, \"datetime\": \"2017-08-27T00:46:15\", \"tweet_count\": 0.943256118152242, \"team\": \"\\ud83d\\udcb8\\ud83e\\udd11\\ud83d\\udcb0\\ud83d\\udcb5\"}, {\"Unnamed: 0\": 164, \"datetime\": \"2017-08-27T00:46:30\", \"tweet_count\": 0.945888975764042, \"team\": \"\\ud83d\\udcb8\\ud83e\\udd11\\ud83d\\udcb0\\ud83d\\udcb5\"}, {\"Unnamed: 0\": 165, \"datetime\": \"2017-08-27T00:46:45\", \"tweet_count\": 0.9791711425254764, \"team\": \"\\ud83d\\udcb8\\ud83e\\udd11\\ud83d\\udcb0\\ud83d\\udcb5\"}, {\"Unnamed: 0\": 166, \"datetime\": \"2017-08-27T00:47:00\", \"tweet_count\": 1.022901550845205, \"team\": \"\\ud83d\\udcb8\\ud83e\\udd11\\ud83d\\udcb0\\ud83d\\udcb5\"}, {\"Unnamed: 0\": 167, \"datetime\": \"2017-08-27T00:47:15\", \"tweet_count\": 0.8766678457556903, \"team\": \"\\ud83d\\udcb8\\ud83e\\udd11\\ud83d\\udcb0\\ud83d\\udcb5\"}, {\"Unnamed: 0\": 168, \"datetime\": \"2017-08-27T00:47:30\", \"tweet_count\": 0.239735885578836, \"team\": \"\\ud83d\\udcb8\\ud83e\\udd11\\ud83d\\udcb0\\ud83d\\udcb5\"}, {\"Unnamed: 0\": 169, \"datetime\": \"2017-08-27T00:47:45\", \"tweet_count\": 0.236897824280046, \"team\": \"\\ud83d\\udcb8\\ud83e\\udd11\\ud83d\\udcb0\\ud83d\\udcb5\"}, {\"Unnamed: 0\": 170, \"datetime\": \"2017-08-27T00:48:00\", \"tweet_count\": 0.2313640675360313, \"team\": \"\\ud83d\\udcb8\\ud83e\\udd11\\ud83d\\udcb0\\ud83d\\udcb5\"}, {\"Unnamed: 0\": 171, \"datetime\": \"2017-08-27T00:48:15\", \"tweet_count\": 0.2949218017200646, \"team\": \"\\ud83d\\udcb8\\ud83e\\udd11\\ud83d\\udcb0\\ud83d\\udcb5\"}, {\"Unnamed: 0\": 172, \"datetime\": \"2017-08-27T00:48:30\", \"tweet_count\": 0.3012303025400347, \"team\": \"\\ud83d\\udcb8\\ud83e\\udd11\\ud83d\\udcb0\\ud83d\\udcb5\"}, {\"Unnamed: 0\": 173, \"datetime\": \"2017-08-27T00:48:45\", \"tweet_count\": 0.2956832713019108, \"team\": \"\\ud83d\\udcb8\\ud83e\\udd11\\ud83d\\udcb0\\ud83d\\udcb5\"}, {\"Unnamed: 0\": 174, \"datetime\": \"2017-08-27T00:49:00\", \"tweet_count\": 0.254206975423153, \"team\": \"\\ud83d\\udcb8\\ud83e\\udd11\\ud83d\\udcb0\\ud83d\\udcb5\"}, {\"Unnamed: 0\": 175, \"datetime\": \"2017-08-27T00:49:15\", \"tweet_count\": 0.3060982163361203, \"team\": \"\\ud83d\\udcb8\\ud83e\\udd11\\ud83d\\udcb0\\ud83d\\udcb5\"}, {\"Unnamed: 0\": 176, \"datetime\": \"2017-08-27T00:49:30\", \"tweet_count\": 0.3049306885462185, \"team\": \"\\ud83d\\udcb8\\ud83e\\udd11\\ud83d\\udcb0\\ud83d\\udcb5\"}, {\"Unnamed: 0\": 177, \"datetime\": \"2017-08-27T00:49:45\", \"tweet_count\": 0.3058936914268034, \"team\": \"\\ud83d\\udcb8\\ud83e\\udd11\\ud83d\\udcb0\\ud83d\\udcb5\"}, {\"Unnamed: 0\": 178, \"datetime\": \"2017-08-27T00:50:00\", \"tweet_count\": 0.3228806868075643, \"team\": \"\\ud83d\\udcb8\\ud83e\\udd11\\ud83d\\udcb0\\ud83d\\udcb5\"}, {\"Unnamed: 0\": 179, \"datetime\": \"2017-08-27T00:50:15\", \"tweet_count\": 0.3459165873249468, \"team\": \"\\ud83d\\udcb8\\ud83e\\udd11\\ud83d\\udcb0\\ud83d\\udcb5\"}, {\"Unnamed: 0\": 180, \"datetime\": \"2017-08-27T00:50:30\", \"tweet_count\": 0.3502108740644982, \"team\": \"\\ud83d\\udcb8\\ud83e\\udd11\\ud83d\\udcb0\\ud83d\\udcb5\"}, {\"Unnamed: 0\": 181, \"datetime\": \"2017-08-27T00:50:45\", \"tweet_count\": 0.3612700567113911, \"team\": \"\\ud83d\\udcb8\\ud83e\\udd11\\ud83d\\udcb0\\ud83d\\udcb5\"}, {\"Unnamed: 0\": 182, \"datetime\": \"2017-08-27T00:51:00\", \"tweet_count\": 0.3561312421044472, \"team\": \"\\ud83d\\udcb8\\ud83e\\udd11\\ud83d\\udcb0\\ud83d\\udcb5\"}, {\"Unnamed: 0\": 183, \"datetime\": \"2017-08-27T00:51:15\", \"tweet_count\": 0.3882206233312135, \"team\": \"\\ud83d\\udcb8\\ud83e\\udd11\\ud83d\\udcb0\\ud83d\\udcb5\"}, {\"Unnamed: 0\": 184, \"datetime\": \"2017-08-27T00:51:30\", \"tweet_count\": 0.4734221512424459, \"team\": \"\\ud83d\\udcb8\\ud83e\\udd11\\ud83d\\udcb0\\ud83d\\udcb5\"}, {\"Unnamed: 0\": 185, \"datetime\": \"2017-08-27T00:51:45\", \"tweet_count\": 0.600504087126918, \"team\": \"\\ud83d\\udcb8\\ud83e\\udd11\\ud83d\\udcb0\\ud83d\\udcb5\"}, {\"Unnamed: 0\": 186, \"datetime\": \"2017-08-27T00:52:00\", \"tweet_count\": 0.7088602932200812, \"team\": \"\\ud83d\\udcb8\\ud83e\\udd11\\ud83d\\udcb0\\ud83d\\udcb5\"}, {\"Unnamed: 0\": 187, \"datetime\": \"2017-08-27T00:52:15\", \"tweet_count\": 0.7691034921879896, \"team\": \"\\ud83d\\udcb8\\ud83e\\udd11\\ud83d\\udcb0\\ud83d\\udcb5\"}, {\"Unnamed: 0\": 188, \"datetime\": \"2017-08-27T00:52:30\", \"tweet_count\": 0.9421560492014902, \"team\": \"\\ud83d\\udcb8\\ud83e\\udd11\\ud83d\\udcb0\\ud83d\\udcb5\"}, {\"Unnamed: 0\": 189, \"datetime\": \"2017-08-27T00:52:45\", \"tweet_count\": 1.193985173112809, \"team\": \"\\ud83d\\udcb8\\ud83e\\udd11\\ud83d\\udcb0\\ud83d\\udcb5\"}, {\"Unnamed: 0\": 190, \"datetime\": \"2017-08-27T00:53:00\", \"tweet_count\": 1.2758209178416615, \"team\": \"\\ud83d\\udcb8\\ud83e\\udd11\\ud83d\\udcb0\\ud83d\\udcb5\"}, {\"Unnamed: 0\": 191, \"datetime\": \"2017-08-27T00:53:15\", \"tweet_count\": 1.400173479327897, \"team\": \"\\ud83d\\udcb8\\ud83e\\udd11\\ud83d\\udcb0\\ud83d\\udcb5\"}, {\"Unnamed: 0\": 192, \"datetime\": \"2017-08-27T00:53:30\", \"tweet_count\": 1.476156005823118, \"team\": \"\\ud83d\\udcb8\\ud83e\\udd11\\ud83d\\udcb0\\ud83d\\udcb5\"}, {\"Unnamed: 0\": 193, \"datetime\": \"2017-08-27T00:53:45\", \"tweet_count\": 1.535899569819503, \"team\": \"\\ud83d\\udcb8\\ud83e\\udd11\\ud83d\\udcb0\\ud83d\\udcb5\"}, {\"Unnamed: 0\": 194, \"datetime\": \"2017-08-27T00:54:00\", \"tweet_count\": 1.5861069597055708, \"team\": \"\\ud83d\\udcb8\\ud83e\\udd11\\ud83d\\udcb0\\ud83d\\udcb5\"}, {\"Unnamed: 0\": 195, \"datetime\": \"2017-08-27T00:54:15\", \"tweet_count\": 1.6098945894043797, \"team\": \"\\ud83d\\udcb8\\ud83e\\udd11\\ud83d\\udcb0\\ud83d\\udcb5\"}, {\"Unnamed: 0\": 196, \"datetime\": \"2017-08-27T00:54:30\", \"tweet_count\": 1.7217361871019088, \"team\": \"\\ud83d\\udcb8\\ud83e\\udd11\\ud83d\\udcb0\\ud83d\\udcb5\"}, {\"Unnamed: 0\": 197, \"datetime\": \"2017-08-27T00:54:45\", \"tweet_count\": 1.707707361690847, \"team\": \"\\ud83d\\udcb8\\ud83e\\udd11\\ud83d\\udcb0\\ud83d\\udcb5\"}, {\"Unnamed: 0\": 198, \"datetime\": \"2017-08-27T00:55:00\", \"tweet_count\": 1.7351022428908536, \"team\": \"\\ud83d\\udcb8\\ud83e\\udd11\\ud83d\\udcb0\\ud83d\\udcb5\"}, {\"Unnamed: 0\": 199, \"datetime\": \"2017-08-27T00:55:15\", \"tweet_count\": 1.846689322040088, \"team\": \"\\ud83d\\udcb8\\ud83e\\udd11\\ud83d\\udcb0\\ud83d\\udcb5\"}, {\"Unnamed: 0\": 200, \"datetime\": \"2017-08-27T00:55:30\", \"tweet_count\": 1.797022124441852, \"team\": \"\\ud83d\\udcb8\\ud83e\\udd11\\ud83d\\udcb0\\ud83d\\udcb5\"}, {\"Unnamed: 0\": 201, \"datetime\": \"2017-08-27T00:55:45\", \"tweet_count\": 1.7349346843315354, \"team\": \"\\ud83d\\udcb8\\ud83e\\udd11\\ud83d\\udcb0\\ud83d\\udcb5\"}, {\"Unnamed: 0\": 202, \"datetime\": \"2017-08-27T00:56:00\", \"tweet_count\": 1.7797236023736638, \"team\": \"\\ud83d\\udcb8\\ud83e\\udd11\\ud83d\\udcb0\\ud83d\\udcb5\"}, {\"Unnamed: 0\": 203, \"datetime\": \"2017-08-27T00:56:15\", \"tweet_count\": 1.7978136031093648, \"team\": \"\\ud83d\\udcb8\\ud83e\\udd11\\ud83d\\udcb0\\ud83d\\udcb5\"}, {\"Unnamed: 0\": 204, \"datetime\": \"2017-08-27T00:56:30\", \"tweet_count\": 1.7271794855711209, \"team\": \"\\ud83d\\udcb8\\ud83e\\udd11\\ud83d\\udcb0\\ud83d\\udcb5\"}, {\"Unnamed: 0\": 205, \"datetime\": \"2017-08-27T00:56:45\", \"tweet_count\": 1.5794572046148925, \"team\": \"\\ud83d\\udcb8\\ud83e\\udd11\\ud83d\\udcb0\\ud83d\\udcb5\"}, {\"Unnamed: 0\": 206, \"datetime\": \"2017-08-27T00:57:00\", \"tweet_count\": 1.5357131500076646, \"team\": \"\\ud83d\\udcb8\\ud83e\\udd11\\ud83d\\udcb0\\ud83d\\udcb5\"}, {\"Unnamed: 0\": 207, \"datetime\": \"2017-08-27T00:57:15\", \"tweet_count\": 1.4636461908239151, \"team\": \"\\ud83d\\udcb8\\ud83e\\udd11\\ud83d\\udcb0\\ud83d\\udcb5\"}, {\"Unnamed: 0\": 208, \"datetime\": \"2017-08-27T00:57:30\", \"tweet_count\": 1.4118527983063431, \"team\": \"\\ud83d\\udcb8\\ud83e\\udd11\\ud83d\\udcb0\\ud83d\\udcb5\"}, {\"Unnamed: 0\": 209, \"datetime\": \"2017-08-27T00:57:45\", \"tweet_count\": 1.4114267887615748, \"team\": \"\\ud83d\\udcb8\\ud83e\\udd11\\ud83d\\udcb0\\ud83d\\udcb5\"}, {\"Unnamed: 0\": 210, \"datetime\": \"2017-08-27T00:58:00\", \"tweet_count\": 1.385045737970676, \"team\": \"\\ud83d\\udcb8\\ud83e\\udd11\\ud83d\\udcb0\\ud83d\\udcb5\"}, {\"Unnamed: 0\": 211, \"datetime\": \"2017-08-27T00:58:15\", \"tweet_count\": 1.3513280563769534, \"team\": \"\\ud83d\\udcb8\\ud83e\\udd11\\ud83d\\udcb0\\ud83d\\udcb5\"}, {\"Unnamed: 0\": 212, \"datetime\": \"2017-08-27T00:58:30\", \"tweet_count\": 1.2498073483511416, \"team\": \"\\ud83d\\udcb8\\ud83e\\udd11\\ud83d\\udcb0\\ud83d\\udcb5\"}, {\"Unnamed: 0\": 213, \"datetime\": \"2017-08-27T00:58:45\", \"tweet_count\": 1.2944838474184797, \"team\": \"\\ud83d\\udcb8\\ud83e\\udd11\\ud83d\\udcb0\\ud83d\\udcb5\"}, {\"Unnamed: 0\": 214, \"datetime\": \"2017-08-27T00:59:00\", \"tweet_count\": 1.2328827736533583, \"team\": \"\\ud83d\\udcb8\\ud83e\\udd11\\ud83d\\udcb0\\ud83d\\udcb5\"}, {\"Unnamed: 0\": 215, \"datetime\": \"2017-08-27T00:59:15\", \"tweet_count\": 1.1096935824489904, \"team\": \"\\ud83d\\udcb8\\ud83e\\udd11\\ud83d\\udcb0\\ud83d\\udcb5\"}, {\"Unnamed: 0\": 216, \"datetime\": \"2017-08-27T00:59:30\", \"tweet_count\": 1.11589320737777, \"team\": \"\\ud83d\\udcb8\\ud83e\\udd11\\ud83d\\udcb0\\ud83d\\udcb5\"}, {\"Unnamed: 0\": 217, \"datetime\": \"2017-08-27T00:59:45\", \"tweet_count\": 1.1053929226186796, \"team\": \"\\ud83d\\udcb8\\ud83e\\udd11\\ud83d\\udcb0\\ud83d\\udcb5\"}, {\"Unnamed: 0\": 218, \"datetime\": \"2017-08-27T01:00:00\", \"tweet_count\": 1.053280156988322, \"team\": \"\\ud83d\\udcb8\\ud83e\\udd11\\ud83d\\udcb0\\ud83d\\udcb5\"}, {\"Unnamed: 0\": 219, \"datetime\": \"2017-08-27T01:00:15\", \"tweet_count\": 1.3395884096565238, \"team\": \"\\ud83d\\udcb8\\ud83e\\udd11\\ud83d\\udcb0\\ud83d\\udcb5\"}, {\"Unnamed: 0\": 220, \"datetime\": \"2017-08-27T01:00:30\", \"tweet_count\": 1.319625712781724, \"team\": \"\\ud83d\\udcb8\\ud83e\\udd11\\ud83d\\udcb0\\ud83d\\udcb5\"}, {\"Unnamed: 0\": 221, \"datetime\": \"2017-08-27T01:00:45\", \"tweet_count\": 1.2747778526279645, \"team\": \"\\ud83d\\udcb8\\ud83e\\udd11\\ud83d\\udcb0\\ud83d\\udcb5\"}, {\"Unnamed: 0\": 222, \"datetime\": \"2017-08-27T01:01:00\", \"tweet_count\": 1.2247303204760531, \"team\": \"\\ud83d\\udcb8\\ud83e\\udd11\\ud83d\\udcb0\\ud83d\\udcb5\"}, {\"Unnamed: 0\": 223, \"datetime\": \"2017-08-27T01:01:15\", \"tweet_count\": 1.2022721514703107, \"team\": \"\\ud83d\\udcb8\\ud83e\\udd11\\ud83d\\udcb0\\ud83d\\udcb5\"}, {\"Unnamed: 0\": 224, \"datetime\": \"2017-08-27T01:01:30\", \"tweet_count\": 1.22013126441787, \"team\": \"\\ud83d\\udcb8\\ud83e\\udd11\\ud83d\\udcb0\\ud83d\\udcb5\"}, {\"Unnamed: 0\": 225, \"datetime\": \"2017-08-27T01:01:45\", \"tweet_count\": 1.2105801317041298, \"team\": \"\\ud83d\\udcb8\\ud83e\\udd11\\ud83d\\udcb0\\ud83d\\udcb5\"}, {\"Unnamed: 0\": 226, \"datetime\": \"2017-08-27T01:02:00\", \"tweet_count\": 1.235870383674395, \"team\": \"\\ud83d\\udcb8\\ud83e\\udd11\\ud83d\\udcb0\\ud83d\\udcb5\"}, {\"Unnamed: 0\": 227, \"datetime\": \"2017-08-27T01:02:15\", \"tweet_count\": 1.2392653310813009, \"team\": \"\\ud83d\\udcb8\\ud83e\\udd11\\ud83d\\udcb0\\ud83d\\udcb5\"}, {\"Unnamed: 0\": 228, \"datetime\": \"2017-08-27T01:02:30\", \"tweet_count\": 1.2671991723798015, \"team\": \"\\ud83d\\udcb8\\ud83e\\udd11\\ud83d\\udcb0\\ud83d\\udcb5\"}, {\"Unnamed: 0\": 229, \"datetime\": \"2017-08-27T01:02:45\", \"tweet_count\": 1.3362855600407206, \"team\": \"\\ud83d\\udcb8\\ud83e\\udd11\\ud83d\\udcb0\\ud83d\\udcb5\"}, {\"Unnamed: 0\": 230, \"datetime\": \"2017-08-27T01:03:00\", \"tweet_count\": 1.3416379352219048, \"team\": \"\\ud83d\\udcb8\\ud83e\\udd11\\ud83d\\udcb0\\ud83d\\udcb5\"}, {\"Unnamed: 0\": 231, \"datetime\": \"2017-08-27T01:03:15\", \"tweet_count\": 1.3665592454762805, \"team\": \"\\ud83d\\udcb8\\ud83e\\udd11\\ud83d\\udcb0\\ud83d\\udcb5\"}, {\"Unnamed: 0\": 232, \"datetime\": \"2017-08-27T01:03:30\", \"tweet_count\": 1.3747757007523476, \"team\": \"\\ud83d\\udcb8\\ud83e\\udd11\\ud83d\\udcb0\\ud83d\\udcb5\"}, {\"Unnamed: 0\": 233, \"datetime\": \"2017-08-27T01:03:45\", \"tweet_count\": 1.4084894984066505, \"team\": \"\\ud83d\\udcb8\\ud83e\\udd11\\ud83d\\udcb0\\ud83d\\udcb5\"}, {\"Unnamed: 0\": 234, \"datetime\": \"2017-08-27T01:04:00\", \"tweet_count\": 1.343927780766918, \"team\": \"\\ud83d\\udcb8\\ud83e\\udd11\\ud83d\\udcb0\\ud83d\\udcb5\"}, {\"Unnamed: 0\": 235, \"datetime\": \"2017-08-27T01:04:15\", \"tweet_count\": 0.966440518774116, \"team\": \"\\ud83d\\udcb8\\ud83e\\udd11\\ud83d\\udcb0\\ud83d\\udcb5\"}, {\"Unnamed: 0\": 236, \"datetime\": \"2017-08-27T01:04:30\", \"tweet_count\": 0.9412386652970812, \"team\": \"\\ud83d\\udcb8\\ud83e\\udd11\\ud83d\\udcb0\\ud83d\\udcb5\"}, {\"Unnamed: 0\": 237, \"datetime\": \"2017-08-27T01:04:45\", \"tweet_count\": 0.9473018001823972, \"team\": \"\\ud83d\\udcb8\\ud83e\\udd11\\ud83d\\udcb0\\ud83d\\udcb5\"}, {\"Unnamed: 0\": 238, \"datetime\": \"2017-08-27T01:05:00\", \"tweet_count\": 0.9803439845254532, \"team\": \"\\ud83d\\udcb8\\ud83e\\udd11\\ud83d\\udcb0\\ud83d\\udcb5\"}, {\"Unnamed: 0\": 239, \"datetime\": \"2017-08-27T01:05:15\", \"tweet_count\": 1.112818192867974, \"team\": \"\\ud83d\\udcb8\\ud83e\\udd11\\ud83d\\udcb0\\ud83d\\udcb5\"}, {\"Unnamed: 0\": 240, \"datetime\": \"2017-08-27T01:05:30\", \"tweet_count\": 1.1726243805401468, \"team\": \"\\ud83d\\udcb8\\ud83e\\udd11\\ud83d\\udcb0\\ud83d\\udcb5\"}, {\"Unnamed: 0\": 241, \"datetime\": \"2017-08-27T01:05:45\", \"tweet_count\": 1.096388581876095, \"team\": \"\\ud83d\\udcb8\\ud83e\\udd11\\ud83d\\udcb0\\ud83d\\udcb5\"}, {\"Unnamed: 0\": 242, \"datetime\": \"2017-08-27T01:06:00\", \"tweet_count\": 1.125635024600868, \"team\": \"\\ud83d\\udcb8\\ud83e\\udd11\\ud83d\\udcb0\\ud83d\\udcb5\"}, {\"Unnamed: 0\": 243, \"datetime\": \"2017-08-27T01:06:15\", \"tweet_count\": 1.1664517901786264, \"team\": \"\\ud83d\\udcb8\\ud83e\\udd11\\ud83d\\udcb0\\ud83d\\udcb5\"}, {\"Unnamed: 0\": 244, \"datetime\": \"2017-08-27T01:06:30\", \"tweet_count\": 1.1340951508355408, \"team\": \"\\ud83d\\udcb8\\ud83e\\udd11\\ud83d\\udcb0\\ud83d\\udcb5\"}, {\"Unnamed: 0\": 245, \"datetime\": \"2017-08-27T01:06:45\", \"tweet_count\": 0.9737079693081624, \"team\": \"\\ud83d\\udcb8\\ud83e\\udd11\\ud83d\\udcb0\\ud83d\\udcb5\"}, {\"Unnamed: 0\": 246, \"datetime\": \"2017-08-27T01:07:00\", \"tweet_count\": 0.9760852810566538, \"team\": \"\\ud83d\\udcb8\\ud83e\\udd11\\ud83d\\udcb0\\ud83d\\udcb5\"}, {\"Unnamed: 0\": 247, \"datetime\": \"2017-08-27T01:07:15\", \"tweet_count\": 0.9968184225361426, \"team\": \"\\ud83d\\udcb8\\ud83e\\udd11\\ud83d\\udcb0\\ud83d\\udcb5\"}, {\"Unnamed: 0\": 248, \"datetime\": \"2017-08-27T01:07:30\", \"tweet_count\": 0.9727469033464278, \"team\": \"\\ud83d\\udcb8\\ud83e\\udd11\\ud83d\\udcb0\\ud83d\\udcb5\"}, {\"Unnamed: 0\": 249, \"datetime\": \"2017-08-27T01:07:45\", \"tweet_count\": 1.8643781801710213, \"team\": \"\\ud83d\\udcb8\\ud83e\\udd11\\ud83d\\udcb0\\ud83d\\udcb5\"}, {\"Unnamed: 0\": 250, \"datetime\": \"2017-08-27T01:08:00\", \"tweet_count\": 1.9409263605738936, \"team\": \"\\ud83d\\udcb8\\ud83e\\udd11\\ud83d\\udcb0\\ud83d\\udcb5\"}, {\"Unnamed: 0\": 251, \"datetime\": \"2017-08-27T01:08:15\", \"tweet_count\": 1.9687041703882509, \"team\": \"\\ud83d\\udcb8\\ud83e\\udd11\\ud83d\\udcb0\\ud83d\\udcb5\"}, {\"Unnamed: 0\": 252, \"datetime\": \"2017-08-27T01:08:30\", \"tweet_count\": 2.022628457043156, \"team\": \"\\ud83d\\udcb8\\ud83e\\udd11\\ud83d\\udcb0\\ud83d\\udcb5\"}, {\"Unnamed: 0\": 253, \"datetime\": \"2017-08-27T01:08:45\", \"tweet_count\": 2.0564005120975093, \"team\": \"\\ud83d\\udcb8\\ud83e\\udd11\\ud83d\\udcb0\\ud83d\\udcb5\"}, {\"Unnamed: 0\": 254, \"datetime\": \"2017-08-27T01:09:00\", \"tweet_count\": 2.145726540759901, \"team\": \"\\ud83d\\udcb8\\ud83e\\udd11\\ud83d\\udcb0\\ud83d\\udcb5\"}, {\"Unnamed: 0\": 255, \"datetime\": \"2017-08-27T01:09:15\", \"tweet_count\": 2.170260142792275, \"team\": \"\\ud83d\\udcb8\\ud83e\\udd11\\ud83d\\udcb0\\ud83d\\udcb5\"}, {\"Unnamed: 0\": 256, \"datetime\": \"2017-08-27T01:09:30\", \"tweet_count\": 2.1006005973956388, \"team\": \"\\ud83d\\udcb8\\ud83e\\udd11\\ud83d\\udcb0\\ud83d\\udcb5\"}, {\"Unnamed: 0\": 257, \"datetime\": \"2017-08-27T01:09:45\", \"tweet_count\": 2.1943024830243383, \"team\": \"\\ud83d\\udcb8\\ud83e\\udd11\\ud83d\\udcb0\\ud83d\\udcb5\"}, {\"Unnamed: 0\": 258, \"datetime\": \"2017-08-27T01:10:00\", \"tweet_count\": 2.177521252666038, \"team\": \"\\ud83d\\udcb8\\ud83e\\udd11\\ud83d\\udcb0\\ud83d\\udcb5\"}, {\"Unnamed: 0\": 259, \"datetime\": \"2017-08-27T01:10:15\", \"tweet_count\": 2.1501248179873307, \"team\": \"\\ud83d\\udcb8\\ud83e\\udd11\\ud83d\\udcb0\\ud83d\\udcb5\"}, {\"Unnamed: 0\": 260, \"datetime\": \"2017-08-27T01:10:30\", \"tweet_count\": 2.158088713139357, \"team\": \"\\ud83d\\udcb8\\ud83e\\udd11\\ud83d\\udcb0\\ud83d\\udcb5\"}, {\"Unnamed: 0\": 261, \"datetime\": \"2017-08-27T01:10:45\", \"tweet_count\": 2.210737777905361, \"team\": \"\\ud83d\\udcb8\\ud83e\\udd11\\ud83d\\udcb0\\ud83d\\udcb5\"}, {\"Unnamed: 0\": 262, \"datetime\": \"2017-08-27T01:11:00\", \"tweet_count\": 2.176093218802796, \"team\": \"\\ud83d\\udcb8\\ud83e\\udd11\\ud83d\\udcb0\\ud83d\\udcb5\"}, {\"Unnamed: 0\": 263, \"datetime\": \"2017-08-27T01:11:15\", \"tweet_count\": 2.1163981311257944, \"team\": \"\\ud83d\\udcb8\\ud83e\\udd11\\ud83d\\udcb0\\ud83d\\udcb5\"}, {\"Unnamed: 0\": 264, \"datetime\": \"2017-08-27T01:11:30\", \"tweet_count\": 2.1905364177758218, \"team\": \"\\ud83d\\udcb8\\ud83e\\udd11\\ud83d\\udcb0\\ud83d\\udcb5\"}, {\"Unnamed: 0\": 265, \"datetime\": \"2017-08-27T01:11:45\", \"tweet_count\": 1.128778386014679, \"team\": \"\\ud83d\\udcb8\\ud83e\\udd11\\ud83d\\udcb0\\ud83d\\udcb5\"}, {\"Unnamed: 0\": 266, \"datetime\": \"2017-08-27T01:12:00\", \"tweet_count\": 1.135633365233322, \"team\": \"\\ud83d\\udcb8\\ud83e\\udd11\\ud83d\\udcb0\\ud83d\\udcb5\"}, {\"Unnamed: 0\": 267, \"datetime\": \"2017-08-27T01:12:15\", \"tweet_count\": null, \"team\": \"\\ud83d\\udcb8\\ud83e\\udd11\\ud83d\\udcb0\\ud83d\\udcb5\"}, {\"Unnamed: 0\": 268, \"datetime\": \"2017-08-27T01:12:30\", \"tweet_count\": 1.1813147868647689, \"team\": \"\\ud83d\\udcb8\\ud83e\\udd11\\ud83d\\udcb0\\ud83d\\udcb5\"}, {\"Unnamed: 0\": 269, \"datetime\": \"2017-08-27T01:12:45\", \"tweet_count\": 1.1846574394303688, \"team\": \"\\ud83d\\udcb8\\ud83e\\udd11\\ud83d\\udcb0\\ud83d\\udcb5\"}, {\"Unnamed: 0\": 270, \"datetime\": \"2017-08-27T01:13:00\", \"tweet_count\": 1.1270474507988923, \"team\": \"\\ud83d\\udcb8\\ud83e\\udd11\\ud83d\\udcb0\\ud83d\\udcb5\"}, {\"Unnamed: 0\": 271, \"datetime\": \"2017-08-27T01:13:15\", \"tweet_count\": 0.9046662002497, \"team\": \"\\ud83d\\udcb8\\ud83e\\udd11\\ud83d\\udcb0\\ud83d\\udcb5\"}, {\"Unnamed: 0\": 272, \"datetime\": \"2017-08-27T01:13:30\", \"tweet_count\": 1.0366135900982727, \"team\": \"\\ud83d\\udcb8\\ud83e\\udd11\\ud83d\\udcb0\\ud83d\\udcb5\"}, {\"Unnamed: 0\": 273, \"datetime\": \"2017-08-27T01:13:45\", \"tweet_count\": 0.9883712681095258, \"team\": \"\\ud83d\\udcb8\\ud83e\\udd11\\ud83d\\udcb0\\ud83d\\udcb5\"}, {\"Unnamed: 0\": 274, \"datetime\": \"2017-08-27T01:14:00\", \"tweet_count\": 0.9549357448000426, \"team\": \"\\ud83d\\udcb8\\ud83e\\udd11\\ud83d\\udcb0\\ud83d\\udcb5\"}, {\"Unnamed: 0\": 275, \"datetime\": \"2017-08-27T01:14:15\", \"tweet_count\": 1.0067451347922285, \"team\": \"\\ud83d\\udcb8\\ud83e\\udd11\\ud83d\\udcb0\\ud83d\\udcb5\"}, {\"Unnamed: 0\": 276, \"datetime\": \"2017-08-27T01:14:30\", \"tweet_count\": 0.992523403039147, \"team\": \"\\ud83d\\udcb8\\ud83e\\udd11\\ud83d\\udcb0\\ud83d\\udcb5\"}, {\"Unnamed: 0\": 277, \"datetime\": \"2017-08-27T01:14:45\", \"tweet_count\": 0.9707329902127232, \"team\": \"\\ud83d\\udcb8\\ud83e\\udd11\\ud83d\\udcb0\\ud83d\\udcb5\"}, {\"Unnamed: 0\": 0, \"datetime\": \"2017-08-27T00:05:30\", \"tweet_count\": 5.031849259262732, \"team\": \"\\u2618\\ufe0f\\ud83c\\udf40\\ud83c\\uddee\\ud83c\\uddea\"}, {\"Unnamed: 0\": 1, \"datetime\": \"2017-08-27T00:05:45\", \"tweet_count\": 3.3085912678159133, \"team\": \"\\u2618\\ufe0f\\ud83c\\udf40\\ud83c\\uddee\\ud83c\\uddea\"}, {\"Unnamed: 0\": 2, \"datetime\": \"2017-08-27T00:06:00\", \"tweet_count\": 2.7584893930977428, \"team\": \"\\u2618\\ufe0f\\ud83c\\udf40\\ud83c\\uddee\\ud83c\\uddea\"}, {\"Unnamed: 0\": 3, \"datetime\": \"2017-08-27T00:06:15\", \"tweet_count\": 2.2813144473137323, \"team\": \"\\u2618\\ufe0f\\ud83c\\udf40\\ud83c\\uddee\\ud83c\\uddea\"}, {\"Unnamed: 0\": 4, \"datetime\": \"2017-08-27T00:06:30\", \"tweet_count\": 2.1390827511914754, \"team\": \"\\u2618\\ufe0f\\ud83c\\udf40\\ud83c\\uddee\\ud83c\\uddea\"}, {\"Unnamed: 0\": 5, \"datetime\": \"2017-08-27T00:06:45\", \"tweet_count\": 2.0351024807250027, \"team\": \"\\u2618\\ufe0f\\ud83c\\udf40\\ud83c\\uddee\\ud83c\\uddea\"}, {\"Unnamed: 0\": 6, \"datetime\": \"2017-08-27T00:07:00\", \"tweet_count\": 1.789583457899412, \"team\": \"\\u2618\\ufe0f\\ud83c\\udf40\\ud83c\\uddee\\ud83c\\uddea\"}, {\"Unnamed: 0\": 7, \"datetime\": \"2017-08-27T00:07:15\", \"tweet_count\": 1.6846958542923975, \"team\": \"\\u2618\\ufe0f\\ud83c\\udf40\\ud83c\\uddee\\ud83c\\uddea\"}, {\"Unnamed: 0\": 8, \"datetime\": \"2017-08-27T00:07:30\", \"tweet_count\": 1.6063849249951918, \"team\": \"\\u2618\\ufe0f\\ud83c\\udf40\\ud83c\\uddee\\ud83c\\uddea\"}, {\"Unnamed: 0\": 9, \"datetime\": \"2017-08-27T00:07:45\", \"tweet_count\": 1.5134548102283831, \"team\": \"\\u2618\\ufe0f\\ud83c\\udf40\\ud83c\\uddee\\ud83c\\uddea\"}, {\"Unnamed: 0\": 10, \"datetime\": \"2017-08-27T00:08:00\", \"tweet_count\": 1.4453989175871755, \"team\": \"\\u2618\\ufe0f\\ud83c\\udf40\\ud83c\\uddee\\ud83c\\uddea\"}, {\"Unnamed: 0\": 11, \"datetime\": \"2017-08-27T00:08:15\", \"tweet_count\": 1.3708720642504484, \"team\": \"\\u2618\\ufe0f\\ud83c\\udf40\\ud83c\\uddee\\ud83c\\uddea\"}, {\"Unnamed: 0\": 12, \"datetime\": \"2017-08-27T00:08:30\", \"tweet_count\": 1.2835207102921578, \"team\": \"\\u2618\\ufe0f\\ud83c\\udf40\\ud83c\\uddee\\ud83c\\uddea\"}, {\"Unnamed: 0\": 13, \"datetime\": \"2017-08-27T00:08:45\", \"tweet_count\": 1.3449190942180922, \"team\": \"\\u2618\\ufe0f\\ud83c\\udf40\\ud83c\\uddee\\ud83c\\uddea\"}, {\"Unnamed: 0\": 14, \"datetime\": \"2017-08-27T00:09:00\", \"tweet_count\": 1.314537827558588, \"team\": \"\\u2618\\ufe0f\\ud83c\\udf40\\ud83c\\uddee\\ud83c\\uddea\"}, {\"Unnamed: 0\": 15, \"datetime\": \"2017-08-27T00:09:15\", \"tweet_count\": 1.3123109029846778, \"team\": \"\\u2618\\ufe0f\\ud83c\\udf40\\ud83c\\uddee\\ud83c\\uddea\"}, {\"Unnamed: 0\": 16, \"datetime\": \"2017-08-27T00:09:30\", \"tweet_count\": 1.308605151334982, \"team\": \"\\u2618\\ufe0f\\ud83c\\udf40\\ud83c\\uddee\\ud83c\\uddea\"}, {\"Unnamed: 0\": 17, \"datetime\": \"2017-08-27T00:09:45\", \"tweet_count\": 1.531857428953485, \"team\": \"\\u2618\\ufe0f\\ud83c\\udf40\\ud83c\\uddee\\ud83c\\uddea\"}, {\"Unnamed: 0\": 18, \"datetime\": \"2017-08-27T00:10:00\", \"tweet_count\": 1.475729132514244, \"team\": \"\\u2618\\ufe0f\\ud83c\\udf40\\ud83c\\uddee\\ud83c\\uddea\"}, {\"Unnamed: 0\": 19, \"datetime\": \"2017-08-27T00:10:15\", \"tweet_count\": 1.62618568722207, \"team\": \"\\u2618\\ufe0f\\ud83c\\udf40\\ud83c\\uddee\\ud83c\\uddea\"}, {\"Unnamed: 0\": 20, \"datetime\": \"2017-08-27T00:10:30\", \"tweet_count\": 1.5845973836484424, \"team\": \"\\u2618\\ufe0f\\ud83c\\udf40\\ud83c\\uddee\\ud83c\\uddea\"}, {\"Unnamed: 0\": 21, \"datetime\": \"2017-08-27T00:10:45\", \"tweet_count\": 1.5534049630043043, \"team\": \"\\u2618\\ufe0f\\ud83c\\udf40\\ud83c\\uddee\\ud83c\\uddea\"}, {\"Unnamed: 0\": 22, \"datetime\": \"2017-08-27T00:11:00\", \"tweet_count\": 1.6045341485003246, \"team\": \"\\u2618\\ufe0f\\ud83c\\udf40\\ud83c\\uddee\\ud83c\\uddea\"}, {\"Unnamed: 0\": 23, \"datetime\": \"2017-08-27T00:11:15\", \"tweet_count\": 1.6196682950064876, \"team\": \"\\u2618\\ufe0f\\ud83c\\udf40\\ud83c\\uddee\\ud83c\\uddea\"}, {\"Unnamed: 0\": 24, \"datetime\": \"2017-08-27T00:11:30\", \"tweet_count\": 1.6320154465999588, \"team\": \"\\u2618\\ufe0f\\ud83c\\udf40\\ud83c\\uddee\\ud83c\\uddea\"}, {\"Unnamed: 0\": 25, \"datetime\": \"2017-08-27T00:11:45\", \"tweet_count\": 1.735974775899186, \"team\": \"\\u2618\\ufe0f\\ud83c\\udf40\\ud83c\\uddee\\ud83c\\uddea\"}, {\"Unnamed: 0\": 26, \"datetime\": \"2017-08-27T00:12:00\", \"tweet_count\": 1.7586798464868958, \"team\": \"\\u2618\\ufe0f\\ud83c\\udf40\\ud83c\\uddee\\ud83c\\uddea\"}, {\"Unnamed: 0\": 27, \"datetime\": \"2017-08-27T00:12:15\", \"tweet_count\": 1.9995541414437, \"team\": \"\\u2618\\ufe0f\\ud83c\\udf40\\ud83c\\uddee\\ud83c\\uddea\"}, {\"Unnamed: 0\": 28, \"datetime\": \"2017-08-27T00:12:30\", \"tweet_count\": 2.072740920914433, \"team\": \"\\u2618\\ufe0f\\ud83c\\udf40\\ud83c\\uddee\\ud83c\\uddea\"}, {\"Unnamed: 0\": 29, \"datetime\": \"2017-08-27T00:12:45\", \"tweet_count\": 2.0175831375495763, \"team\": \"\\u2618\\ufe0f\\ud83c\\udf40\\ud83c\\uddee\\ud83c\\uddea\"}, {\"Unnamed: 0\": 30, \"datetime\": \"2017-08-27T00:13:00\", \"tweet_count\": 1.9963143066634483, \"team\": \"\\u2618\\ufe0f\\ud83c\\udf40\\ud83c\\uddee\\ud83c\\uddea\"}, {\"Unnamed: 0\": 31, \"datetime\": \"2017-08-27T00:13:15\", \"tweet_count\": 2.072257668041573, \"team\": \"\\u2618\\ufe0f\\ud83c\\udf40\\ud83c\\uddee\\ud83c\\uddea\"}, {\"Unnamed: 0\": 32, \"datetime\": \"2017-08-27T00:13:30\", \"tweet_count\": 2.0465812886252084, \"team\": \"\\u2618\\ufe0f\\ud83c\\udf40\\ud83c\\uddee\\ud83c\\uddea\"}, {\"Unnamed: 0\": 33, \"datetime\": \"2017-08-27T00:13:45\", \"tweet_count\": 1.6652074530041403, \"team\": \"\\u2618\\ufe0f\\ud83c\\udf40\\ud83c\\uddee\\ud83c\\uddea\"}, {\"Unnamed: 0\": 34, \"datetime\": \"2017-08-27T00:14:00\", \"tweet_count\": 1.6488389162585826, \"team\": \"\\u2618\\ufe0f\\ud83c\\udf40\\ud83c\\uddee\\ud83c\\uddea\"}, {\"Unnamed: 0\": 35, \"datetime\": \"2017-08-27T00:14:15\", \"tweet_count\": 1.4428666241551669, \"team\": \"\\u2618\\ufe0f\\ud83c\\udf40\\ud83c\\uddee\\ud83c\\uddea\"}, {\"Unnamed: 0\": 36, \"datetime\": \"2017-08-27T00:14:30\", \"tweet_count\": 1.4622602760478378, \"team\": \"\\u2618\\ufe0f\\ud83c\\udf40\\ud83c\\uddee\\ud83c\\uddea\"}, {\"Unnamed: 0\": 37, \"datetime\": \"2017-08-27T00:14:45\", \"tweet_count\": 1.6253234756215655, \"team\": \"\\u2618\\ufe0f\\ud83c\\udf40\\ud83c\\uddee\\ud83c\\uddea\"}, {\"Unnamed: 0\": 38, \"datetime\": \"2017-08-27T00:15:00\", \"tweet_count\": 1.6908124878356197, \"team\": \"\\u2618\\ufe0f\\ud83c\\udf40\\ud83c\\uddee\\ud83c\\uddea\"}, {\"Unnamed: 0\": 39, \"datetime\": \"2017-08-27T00:15:15\", \"tweet_count\": 1.6861728391381123, \"team\": \"\\u2618\\ufe0f\\ud83c\\udf40\\ud83c\\uddee\\ud83c\\uddea\"}, {\"Unnamed: 0\": 40, \"datetime\": \"2017-08-27T00:15:30\", \"tweet_count\": 1.720260954091461, \"team\": \"\\u2618\\ufe0f\\ud83c\\udf40\\ud83c\\uddee\\ud83c\\uddea\"}, {\"Unnamed: 0\": 41, \"datetime\": \"2017-08-27T00:15:45\", \"tweet_count\": 1.631395965147168, \"team\": \"\\u2618\\ufe0f\\ud83c\\udf40\\ud83c\\uddee\\ud83c\\uddea\"}, {\"Unnamed: 0\": 42, \"datetime\": \"2017-08-27T00:16:00\", \"tweet_count\": 1.6016426149567342, \"team\": \"\\u2618\\ufe0f\\ud83c\\udf40\\ud83c\\uddee\\ud83c\\uddea\"}, {\"Unnamed: 0\": 43, \"datetime\": \"2017-08-27T00:16:15\", \"tweet_count\": 1.4313593187594655, \"team\": \"\\u2618\\ufe0f\\ud83c\\udf40\\ud83c\\uddee\\ud83c\\uddea\"}, {\"Unnamed: 0\": 44, \"datetime\": \"2017-08-27T00:16:30\", \"tweet_count\": 1.37436946218068, \"team\": \"\\u2618\\ufe0f\\ud83c\\udf40\\ud83c\\uddee\\ud83c\\uddea\"}, {\"Unnamed: 0\": 45, \"datetime\": \"2017-08-27T00:16:45\", \"tweet_count\": 1.455124298660011, \"team\": \"\\u2618\\ufe0f\\ud83c\\udf40\\ud83c\\uddee\\ud83c\\uddea\"}, {\"Unnamed: 0\": 46, \"datetime\": \"2017-08-27T00:17:00\", \"tweet_count\": 1.4582026627332725, \"team\": \"\\u2618\\ufe0f\\ud83c\\udf40\\ud83c\\uddee\\ud83c\\uddea\"}, {\"Unnamed: 0\": 47, \"datetime\": \"2017-08-27T00:17:15\", \"tweet_count\": 1.3562917044896832, \"team\": \"\\u2618\\ufe0f\\ud83c\\udf40\\ud83c\\uddee\\ud83c\\uddea\"}, {\"Unnamed: 0\": 48, \"datetime\": \"2017-08-27T00:17:30\", \"tweet_count\": 1.1981536628267246, \"team\": \"\\u2618\\ufe0f\\ud83c\\udf40\\ud83c\\uddee\\ud83c\\uddea\"}, {\"Unnamed: 0\": 49, \"datetime\": \"2017-08-27T00:17:45\", \"tweet_count\": 1.1727402550877868, \"team\": \"\\u2618\\ufe0f\\ud83c\\udf40\\ud83c\\uddee\\ud83c\\uddea\"}, {\"Unnamed: 0\": 50, \"datetime\": \"2017-08-27T00:18:00\", \"tweet_count\": 1.1767071510303864, \"team\": \"\\u2618\\ufe0f\\ud83c\\udf40\\ud83c\\uddee\\ud83c\\uddea\"}, {\"Unnamed: 0\": 51, \"datetime\": \"2017-08-27T00:18:15\", \"tweet_count\": 1.1610434638750742, \"team\": \"\\u2618\\ufe0f\\ud83c\\udf40\\ud83c\\uddee\\ud83c\\uddea\"}, {\"Unnamed: 0\": 52, \"datetime\": \"2017-08-27T00:18:30\", \"tweet_count\": 1.1165694789226954, \"team\": \"\\u2618\\ufe0f\\ud83c\\udf40\\ud83c\\uddee\\ud83c\\uddea\"}, {\"Unnamed: 0\": 53, \"datetime\": \"2017-08-27T00:18:45\", \"tweet_count\": 0.9886445707010656, \"team\": \"\\u2618\\ufe0f\\ud83c\\udf40\\ud83c\\uddee\\ud83c\\uddea\"}, {\"Unnamed: 0\": 54, \"datetime\": \"2017-08-27T00:19:00\", \"tweet_count\": 1.0658988636513418, \"team\": \"\\u2618\\ufe0f\\ud83c\\udf40\\ud83c\\uddee\\ud83c\\uddea\"}, {\"Unnamed: 0\": 55, \"datetime\": \"2017-08-27T00:19:15\", \"tweet_count\": 1.0828478820128469, \"team\": \"\\u2618\\ufe0f\\ud83c\\udf40\\ud83c\\uddee\\ud83c\\uddea\"}, {\"Unnamed: 0\": 56, \"datetime\": \"2017-08-27T00:19:30\", \"tweet_count\": 1.038583487010733, \"team\": \"\\u2618\\ufe0f\\ud83c\\udf40\\ud83c\\uddee\\ud83c\\uddea\"}, {\"Unnamed: 0\": 57, \"datetime\": \"2017-08-27T00:19:45\", \"tweet_count\": 1.0558587215096562, \"team\": \"\\u2618\\ufe0f\\ud83c\\udf40\\ud83c\\uddee\\ud83c\\uddea\"}, {\"Unnamed: 0\": 58, \"datetime\": \"2017-08-27T00:20:00\", \"tweet_count\": 1.1771636326521626, \"team\": \"\\u2618\\ufe0f\\ud83c\\udf40\\ud83c\\uddee\\ud83c\\uddea\"}, {\"Unnamed: 0\": 59, \"datetime\": \"2017-08-27T00:20:15\", \"tweet_count\": 1.237008251433501, \"team\": \"\\u2618\\ufe0f\\ud83c\\udf40\\ud83c\\uddee\\ud83c\\uddea\"}, {\"Unnamed: 0\": 60, \"datetime\": \"2017-08-27T00:20:30\", \"tweet_count\": 1.2076283425242504, \"team\": \"\\u2618\\ufe0f\\ud83c\\udf40\\ud83c\\uddee\\ud83c\\uddea\"}, {\"Unnamed: 0\": 61, \"datetime\": \"2017-08-27T00:20:45\", \"tweet_count\": 1.181031187318102, \"team\": \"\\u2618\\ufe0f\\ud83c\\udf40\\ud83c\\uddee\\ud83c\\uddea\"}, {\"Unnamed: 0\": 62, \"datetime\": \"2017-08-27T00:21:00\", \"tweet_count\": 1.2424795319703856, \"team\": \"\\u2618\\ufe0f\\ud83c\\udf40\\ud83c\\uddee\\ud83c\\uddea\"}, {\"Unnamed: 0\": 63, \"datetime\": \"2017-08-27T00:21:15\", \"tweet_count\": 1.25355475884545, \"team\": \"\\u2618\\ufe0f\\ud83c\\udf40\\ud83c\\uddee\\ud83c\\uddea\"}, {\"Unnamed: 0\": 64, \"datetime\": \"2017-08-27T00:21:30\", \"tweet_count\": 1.2283023586705648, \"team\": \"\\u2618\\ufe0f\\ud83c\\udf40\\ud83c\\uddee\\ud83c\\uddea\"}, {\"Unnamed: 0\": 65, \"datetime\": \"2017-08-27T00:21:45\", \"tweet_count\": 1.221497995054262, \"team\": \"\\u2618\\ufe0f\\ud83c\\udf40\\ud83c\\uddee\\ud83c\\uddea\"}, {\"Unnamed: 0\": 66, \"datetime\": \"2017-08-27T00:22:00\", \"tweet_count\": 1.3061252196606576, \"team\": \"\\u2618\\ufe0f\\ud83c\\udf40\\ud83c\\uddee\\ud83c\\uddea\"}, {\"Unnamed: 0\": 67, \"datetime\": \"2017-08-27T00:22:15\", \"tweet_count\": 1.33632515434287, \"team\": \"\\u2618\\ufe0f\\ud83c\\udf40\\ud83c\\uddee\\ud83c\\uddea\"}, {\"Unnamed: 0\": 68, \"datetime\": \"2017-08-27T00:22:30\", \"tweet_count\": 1.4284177955714092, \"team\": \"\\u2618\\ufe0f\\ud83c\\udf40\\ud83c\\uddee\\ud83c\\uddea\"}, {\"Unnamed: 0\": 69, \"datetime\": \"2017-08-27T00:22:45\", \"tweet_count\": 1.3203764246438148, \"team\": \"\\u2618\\ufe0f\\ud83c\\udf40\\ud83c\\uddee\\ud83c\\uddea\"}, {\"Unnamed: 0\": 70, \"datetime\": \"2017-08-27T00:23:00\", \"tweet_count\": 1.1698013719489218, \"team\": \"\\u2618\\ufe0f\\ud83c\\udf40\\ud83c\\uddee\\ud83c\\uddea\"}, {\"Unnamed: 0\": 71, \"datetime\": \"2017-08-27T00:23:15\", \"tweet_count\": 1.16574395693293, \"team\": \"\\u2618\\ufe0f\\ud83c\\udf40\\ud83c\\uddee\\ud83c\\uddea\"}, {\"Unnamed: 0\": 72, \"datetime\": \"2017-08-27T00:23:30\", \"tweet_count\": 1.204280450759701, \"team\": \"\\u2618\\ufe0f\\ud83c\\udf40\\ud83c\\uddee\\ud83c\\uddea\"}, {\"Unnamed: 0\": 73, \"datetime\": \"2017-08-27T00:23:45\", \"tweet_count\": 1.1797359823100448, \"team\": \"\\u2618\\ufe0f\\ud83c\\udf40\\ud83c\\uddee\\ud83c\\uddea\"}, {\"Unnamed: 0\": 74, \"datetime\": \"2017-08-27T00:24:00\", \"tweet_count\": 1.043901516051505, \"team\": \"\\u2618\\ufe0f\\ud83c\\udf40\\ud83c\\uddee\\ud83c\\uddea\"}, {\"Unnamed: 0\": 75, \"datetime\": \"2017-08-27T00:24:15\", \"tweet_count\": 0.9516769021549776, \"team\": \"\\u2618\\ufe0f\\ud83c\\udf40\\ud83c\\uddee\\ud83c\\uddea\"}, {\"Unnamed: 0\": 76, \"datetime\": \"2017-08-27T00:24:30\", \"tweet_count\": 0.9311877204908012, \"team\": \"\\u2618\\ufe0f\\ud83c\\udf40\\ud83c\\uddee\\ud83c\\uddea\"}, {\"Unnamed: 0\": 77, \"datetime\": \"2017-08-27T00:24:45\", \"tweet_count\": 0.822426359215197, \"team\": \"\\u2618\\ufe0f\\ud83c\\udf40\\ud83c\\uddee\\ud83c\\uddea\"}, {\"Unnamed: 0\": 78, \"datetime\": \"2017-08-27T00:25:00\", \"tweet_count\": 0.7608323576887364, \"team\": \"\\u2618\\ufe0f\\ud83c\\udf40\\ud83c\\uddee\\ud83c\\uddea\"}, {\"Unnamed: 0\": 79, \"datetime\": \"2017-08-27T00:25:15\", \"tweet_count\": 0.7687297173271632, \"team\": \"\\u2618\\ufe0f\\ud83c\\udf40\\ud83c\\uddee\\ud83c\\uddea\"}, {\"Unnamed: 0\": 80, \"datetime\": \"2017-08-27T00:25:30\", \"tweet_count\": 0.8369654262369943, \"team\": \"\\u2618\\ufe0f\\ud83c\\udf40\\ud83c\\uddee\\ud83c\\uddea\"}, {\"Unnamed: 0\": 81, \"datetime\": \"2017-08-27T00:25:45\", \"tweet_count\": 0.8667594181549361, \"team\": \"\\u2618\\ufe0f\\ud83c\\udf40\\ud83c\\uddee\\ud83c\\uddea\"}, {\"Unnamed: 0\": 82, \"datetime\": \"2017-08-27T00:26:00\", \"tweet_count\": 0.7839361326344647, \"team\": \"\\u2618\\ufe0f\\ud83c\\udf40\\ud83c\\uddee\\ud83c\\uddea\"}, {\"Unnamed: 0\": 83, \"datetime\": \"2017-08-27T00:26:15\", \"tweet_count\": 0.7359182974528808, \"team\": \"\\u2618\\ufe0f\\ud83c\\udf40\\ud83c\\uddee\\ud83c\\uddea\"}, {\"Unnamed: 0\": 84, \"datetime\": \"2017-08-27T00:26:30\", \"tweet_count\": 0.6876141133720113, \"team\": \"\\u2618\\ufe0f\\ud83c\\udf40\\ud83c\\uddee\\ud83c\\uddea\"}, {\"Unnamed: 0\": 85, \"datetime\": \"2017-08-27T00:26:45\", \"tweet_count\": 0.7861825595108614, \"team\": \"\\u2618\\ufe0f\\ud83c\\udf40\\ud83c\\uddee\\ud83c\\uddea\"}, {\"Unnamed: 0\": 86, \"datetime\": \"2017-08-27T00:27:00\", \"tweet_count\": 0.8701046882591184, \"team\": \"\\u2618\\ufe0f\\ud83c\\udf40\\ud83c\\uddee\\ud83c\\uddea\"}, {\"Unnamed: 0\": 87, \"datetime\": \"2017-08-27T00:27:15\", \"tweet_count\": 0.839020200205764, \"team\": \"\\u2618\\ufe0f\\ud83c\\udf40\\ud83c\\uddee\\ud83c\\uddea\"}, {\"Unnamed: 0\": 88, \"datetime\": \"2017-08-27T00:27:30\", \"tweet_count\": 0.8070629013928959, \"team\": \"\\u2618\\ufe0f\\ud83c\\udf40\\ud83c\\uddee\\ud83c\\uddea\"}, {\"Unnamed: 0\": 89, \"datetime\": \"2017-08-27T00:27:45\", \"tweet_count\": 0.8158048189116593, \"team\": \"\\u2618\\ufe0f\\ud83c\\udf40\\ud83c\\uddee\\ud83c\\uddea\"}, {\"Unnamed: 0\": 90, \"datetime\": \"2017-08-27T00:28:00\", \"tweet_count\": 0.8016820761212767, \"team\": \"\\u2618\\ufe0f\\ud83c\\udf40\\ud83c\\uddee\\ud83c\\uddea\"}, {\"Unnamed: 0\": 91, \"datetime\": \"2017-08-27T00:28:15\", \"tweet_count\": 0.8050330904234236, \"team\": \"\\u2618\\ufe0f\\ud83c\\udf40\\ud83c\\uddee\\ud83c\\uddea\"}, {\"Unnamed: 0\": 92, \"datetime\": \"2017-08-27T00:28:30\", \"tweet_count\": 0.8155187444511793, \"team\": \"\\u2618\\ufe0f\\ud83c\\udf40\\ud83c\\uddee\\ud83c\\uddea\"}, {\"Unnamed: 0\": 93, \"datetime\": \"2017-08-27T00:28:45\", \"tweet_count\": 0.8032778173710126, \"team\": \"\\u2618\\ufe0f\\ud83c\\udf40\\ud83c\\uddee\\ud83c\\uddea\"}, {\"Unnamed: 0\": 94, \"datetime\": \"2017-08-27T00:29:00\", \"tweet_count\": 0.8771812999572419, \"team\": \"\\u2618\\ufe0f\\ud83c\\udf40\\ud83c\\uddee\\ud83c\\uddea\"}, {\"Unnamed: 0\": 95, \"datetime\": \"2017-08-27T00:29:15\", \"tweet_count\": 0.9407769708295588, \"team\": \"\\u2618\\ufe0f\\ud83c\\udf40\\ud83c\\uddee\\ud83c\\uddea\"}, {\"Unnamed: 0\": 96, \"datetime\": \"2017-08-27T00:29:30\", \"tweet_count\": 1.6065194650079424, \"team\": \"\\u2618\\ufe0f\\ud83c\\udf40\\ud83c\\uddee\\ud83c\\uddea\"}, {\"Unnamed: 0\": 97, \"datetime\": \"2017-08-27T00:29:45\", \"tweet_count\": 1.5601894404418633, \"team\": \"\\u2618\\ufe0f\\ud83c\\udf40\\ud83c\\uddee\\ud83c\\uddea\"}, {\"Unnamed: 0\": 98, \"datetime\": \"2017-08-27T00:30:00\", \"tweet_count\": 1.5507436943666952, \"team\": \"\\u2618\\ufe0f\\ud83c\\udf40\\ud83c\\uddee\\ud83c\\uddea\"}, {\"Unnamed: 0\": 99, \"datetime\": \"2017-08-27T00:30:15\", \"tweet_count\": 1.5274979373560085, \"team\": \"\\u2618\\ufe0f\\ud83c\\udf40\\ud83c\\uddee\\ud83c\\uddea\"}, {\"Unnamed: 0\": 100, \"datetime\": \"2017-08-27T00:30:30\", \"tweet_count\": 1.513833873046062, \"team\": \"\\u2618\\ufe0f\\ud83c\\udf40\\ud83c\\uddee\\ud83c\\uddea\"}, {\"Unnamed: 0\": 101, \"datetime\": \"2017-08-27T00:30:45\", \"tweet_count\": 1.4254026551690435, \"team\": \"\\u2618\\ufe0f\\ud83c\\udf40\\ud83c\\uddee\\ud83c\\uddea\"}, {\"Unnamed: 0\": 102, \"datetime\": \"2017-08-27T00:31:00\", \"tweet_count\": 1.3722312925804272, \"team\": \"\\u2618\\ufe0f\\ud83c\\udf40\\ud83c\\uddee\\ud83c\\uddea\"}, {\"Unnamed: 0\": 103, \"datetime\": \"2017-08-27T00:31:15\", \"tweet_count\": 1.386762300636872, \"team\": \"\\u2618\\ufe0f\\ud83c\\udf40\\ud83c\\uddee\\ud83c\\uddea\"}, {\"Unnamed: 0\": 104, \"datetime\": \"2017-08-27T00:31:30\", \"tweet_count\": 1.3778157521985763, \"team\": \"\\u2618\\ufe0f\\ud83c\\udf40\\ud83c\\uddee\\ud83c\\uddea\"}, {\"Unnamed: 0\": 105, \"datetime\": \"2017-08-27T00:31:45\", \"tweet_count\": 1.362203636949736, \"team\": \"\\u2618\\ufe0f\\ud83c\\udf40\\ud83c\\uddee\\ud83c\\uddea\"}, {\"Unnamed: 0\": 106, \"datetime\": \"2017-08-27T00:32:00\", \"tweet_count\": 1.3586619795722623, \"team\": \"\\u2618\\ufe0f\\ud83c\\udf40\\ud83c\\uddee\\ud83c\\uddea\"}, {\"Unnamed: 0\": 107, \"datetime\": \"2017-08-27T00:32:15\", \"tweet_count\": 1.380769235887782, \"team\": \"\\u2618\\ufe0f\\ud83c\\udf40\\ud83c\\uddee\\ud83c\\uddea\"}, {\"Unnamed: 0\": 108, \"datetime\": \"2017-08-27T00:32:30\", \"tweet_count\": 1.4060540926724343, \"team\": \"\\u2618\\ufe0f\\ud83c\\udf40\\ud83c\\uddee\\ud83c\\uddea\"}, {\"Unnamed: 0\": 109, \"datetime\": \"2017-08-27T00:32:45\", \"tweet_count\": 1.5411590785543527, \"team\": \"\\u2618\\ufe0f\\ud83c\\udf40\\ud83c\\uddee\\ud83c\\uddea\"}, {\"Unnamed: 0\": 110, \"datetime\": \"2017-08-27T00:33:00\", \"tweet_count\": 1.443489067269514, \"team\": \"\\u2618\\ufe0f\\ud83c\\udf40\\ud83c\\uddee\\ud83c\\uddea\"}, {\"Unnamed: 0\": 111, \"datetime\": \"2017-08-27T00:33:15\", \"tweet_count\": 1.2543594410375132, \"team\": \"\\u2618\\ufe0f\\ud83c\\udf40\\ud83c\\uddee\\ud83c\\uddea\"}, {\"Unnamed: 0\": 112, \"datetime\": \"2017-08-27T00:33:30\", \"tweet_count\": 0.5804731844737738, \"team\": \"\\u2618\\ufe0f\\ud83c\\udf40\\ud83c\\uddee\\ud83c\\uddea\"}, {\"Unnamed: 0\": 113, \"datetime\": \"2017-08-27T00:33:45\", \"tweet_count\": 0.5490103210903037, \"team\": \"\\u2618\\ufe0f\\ud83c\\udf40\\ud83c\\uddee\\ud83c\\uddea\"}, {\"Unnamed: 0\": 114, \"datetime\": \"2017-08-27T00:34:00\", \"tweet_count\": 0.5355347731583469, \"team\": \"\\u2618\\ufe0f\\ud83c\\udf40\\ud83c\\uddee\\ud83c\\uddea\"}, {\"Unnamed: 0\": 115, \"datetime\": \"2017-08-27T00:34:15\", \"tweet_count\": 0.5408945030572211, \"team\": \"\\u2618\\ufe0f\\ud83c\\udf40\\ud83c\\uddee\\ud83c\\uddea\"}, {\"Unnamed: 0\": 116, \"datetime\": \"2017-08-27T00:34:30\", \"tweet_count\": 0.6163091774388991, \"team\": \"\\u2618\\ufe0f\\ud83c\\udf40\\ud83c\\uddee\\ud83c\\uddea\"}, {\"Unnamed: 0\": 117, \"datetime\": \"2017-08-27T00:34:45\", \"tweet_count\": 0.6267191949783613, \"team\": \"\\u2618\\ufe0f\\ud83c\\udf40\\ud83c\\uddee\\ud83c\\uddea\"}, {\"Unnamed: 0\": 118, \"datetime\": \"2017-08-27T00:35:00\", \"tweet_count\": 0.5509550892745199, \"team\": \"\\u2618\\ufe0f\\ud83c\\udf40\\ud83c\\uddee\\ud83c\\uddea\"}, {\"Unnamed: 0\": 119, \"datetime\": \"2017-08-27T00:35:15\", \"tweet_count\": 0.5193837135654645, \"team\": \"\\u2618\\ufe0f\\ud83c\\udf40\\ud83c\\uddee\\ud83c\\uddea\"}, {\"Unnamed: 0\": 120, \"datetime\": \"2017-08-27T00:35:30\", \"tweet_count\": 0.5046610753548094, \"team\": \"\\u2618\\ufe0f\\ud83c\\udf40\\ud83c\\uddee\\ud83c\\uddea\"}, {\"Unnamed: 0\": 121, \"datetime\": \"2017-08-27T00:35:45\", \"tweet_count\": 0.4801065334134676, \"team\": \"\\u2618\\ufe0f\\ud83c\\udf40\\ud83c\\uddee\\ud83c\\uddea\"}, {\"Unnamed: 0\": 122, \"datetime\": \"2017-08-27T00:36:00\", \"tweet_count\": 0.5003258194516667, \"team\": \"\\u2618\\ufe0f\\ud83c\\udf40\\ud83c\\uddee\\ud83c\\uddea\"}, {\"Unnamed: 0\": 123, \"datetime\": \"2017-08-27T00:36:15\", \"tweet_count\": 0.4811309914119445, \"team\": \"\\u2618\\ufe0f\\ud83c\\udf40\\ud83c\\uddee\\ud83c\\uddea\"}, {\"Unnamed: 0\": 124, \"datetime\": \"2017-08-27T00:36:30\", \"tweet_count\": 0.4576786499945242, \"team\": \"\\u2618\\ufe0f\\ud83c\\udf40\\ud83c\\uddee\\ud83c\\uddea\"}, {\"Unnamed: 0\": 125, \"datetime\": \"2017-08-27T00:36:45\", \"tweet_count\": 0.3457629370575822, \"team\": \"\\u2618\\ufe0f\\ud83c\\udf40\\ud83c\\uddee\\ud83c\\uddea\"}, {\"Unnamed: 0\": 126, \"datetime\": \"2017-08-27T00:37:00\", \"tweet_count\": 0.3471870612018463, \"team\": \"\\u2618\\ufe0f\\ud83c\\udf40\\ud83c\\uddee\\ud83c\\uddea\"}, {\"Unnamed: 0\": 127, \"datetime\": \"2017-08-27T00:37:15\", \"tweet_count\": 0.3619149606464492, \"team\": \"\\u2618\\ufe0f\\ud83c\\udf40\\ud83c\\uddee\\ud83c\\uddea\"}, {\"Unnamed: 0\": 128, \"datetime\": \"2017-08-27T00:37:30\", \"tweet_count\": 0.3896233421030319, \"team\": \"\\u2618\\ufe0f\\ud83c\\udf40\\ud83c\\uddee\\ud83c\\uddea\"}, {\"Unnamed: 0\": 129, \"datetime\": \"2017-08-27T00:37:45\", \"tweet_count\": 0.3923898009508052, \"team\": \"\\u2618\\ufe0f\\ud83c\\udf40\\ud83c\\uddee\\ud83c\\uddea\"}, {\"Unnamed: 0\": 130, \"datetime\": \"2017-08-27T00:38:00\", \"tweet_count\": 0.3986612537313744, \"team\": \"\\u2618\\ufe0f\\ud83c\\udf40\\ud83c\\uddee\\ud83c\\uddea\"}, {\"Unnamed: 0\": 131, \"datetime\": \"2017-08-27T00:38:15\", \"tweet_count\": 0.4190738086724803, \"team\": \"\\u2618\\ufe0f\\ud83c\\udf40\\ud83c\\uddee\\ud83c\\uddea\"}, {\"Unnamed: 0\": 132, \"datetime\": \"2017-08-27T00:38:30\", \"tweet_count\": 0.3532399817622969, \"team\": \"\\u2618\\ufe0f\\ud83c\\udf40\\ud83c\\uddee\\ud83c\\uddea\"}, {\"Unnamed: 0\": 133, \"datetime\": \"2017-08-27T00:38:45\", \"tweet_count\": 0.3159400408717879, \"team\": \"\\u2618\\ufe0f\\ud83c\\udf40\\ud83c\\uddee\\ud83c\\uddea\"}, {\"Unnamed: 0\": 134, \"datetime\": \"2017-08-27T00:39:00\", \"tweet_count\": 0.3314160265763128, \"team\": \"\\u2618\\ufe0f\\ud83c\\udf40\\ud83c\\uddee\\ud83c\\uddea\"}, {\"Unnamed: 0\": 135, \"datetime\": \"2017-08-27T00:39:15\", \"tweet_count\": 0.3145030566737203, \"team\": \"\\u2618\\ufe0f\\ud83c\\udf40\\ud83c\\uddee\\ud83c\\uddea\"}, {\"Unnamed: 0\": 136, \"datetime\": \"2017-08-27T00:39:30\", \"tweet_count\": 0.3025898930139131, \"team\": \"\\u2618\\ufe0f\\ud83c\\udf40\\ud83c\\uddee\\ud83c\\uddea\"}, {\"Unnamed: 0\": 137, \"datetime\": \"2017-08-27T00:39:45\", \"tweet_count\": 0.3428019169138546, \"team\": \"\\u2618\\ufe0f\\ud83c\\udf40\\ud83c\\uddee\\ud83c\\uddea\"}, {\"Unnamed: 0\": 138, \"datetime\": \"2017-08-27T00:40:00\", \"tweet_count\": 0.3912954089644931, \"team\": \"\\u2618\\ufe0f\\ud83c\\udf40\\ud83c\\uddee\\ud83c\\uddea\"}, {\"Unnamed: 0\": 139, \"datetime\": \"2017-08-27T00:40:15\", \"tweet_count\": 0.3924096243682511, \"team\": \"\\u2618\\ufe0f\\ud83c\\udf40\\ud83c\\uddee\\ud83c\\uddea\"}, {\"Unnamed: 0\": 140, \"datetime\": \"2017-08-27T00:40:30\", \"tweet_count\": 0.3955088079059393, \"team\": \"\\u2618\\ufe0f\\ud83c\\udf40\\ud83c\\uddee\\ud83c\\uddea\"}, {\"Unnamed: 0\": 141, \"datetime\": \"2017-08-27T00:40:45\", \"tweet_count\": 0.4653277707331976, \"team\": \"\\u2618\\ufe0f\\ud83c\\udf40\\ud83c\\uddee\\ud83c\\uddea\"}, {\"Unnamed: 0\": 142, \"datetime\": \"2017-08-27T00:41:00\", \"tweet_count\": 0.4772756552306216, \"team\": \"\\u2618\\ufe0f\\ud83c\\udf40\\ud83c\\uddee\\ud83c\\uddea\"}, {\"Unnamed: 0\": 143, \"datetime\": \"2017-08-27T00:41:15\", \"tweet_count\": 0.4703807656961286, \"team\": \"\\u2618\\ufe0f\\ud83c\\udf40\\ud83c\\uddee\\ud83c\\uddea\"}, {\"Unnamed: 0\": 144, \"datetime\": \"2017-08-27T00:41:30\", \"tweet_count\": 0.4483060469063878, \"team\": \"\\u2618\\ufe0f\\ud83c\\udf40\\ud83c\\uddee\\ud83c\\uddea\"}, {\"Unnamed: 0\": 145, \"datetime\": \"2017-08-27T00:41:45\", \"tweet_count\": 0.4485075978250729, \"team\": \"\\u2618\\ufe0f\\ud83c\\udf40\\ud83c\\uddee\\ud83c\\uddea\"}, {\"Unnamed: 0\": 146, \"datetime\": \"2017-08-27T00:42:00\", \"tweet_count\": 0.4688523799106874, \"team\": \"\\u2618\\ufe0f\\ud83c\\udf40\\ud83c\\uddee\\ud83c\\uddea\"}, {\"Unnamed: 0\": 147, \"datetime\": \"2017-08-27T00:42:15\", \"tweet_count\": 0.4559588333430908, \"team\": \"\\u2618\\ufe0f\\ud83c\\udf40\\ud83c\\uddee\\ud83c\\uddea\"}, {\"Unnamed: 0\": 148, \"datetime\": \"2017-08-27T00:42:30\", \"tweet_count\": 0.4369313374558583, \"team\": \"\\u2618\\ufe0f\\ud83c\\udf40\\ud83c\\uddee\\ud83c\\uddea\"}, {\"Unnamed: 0\": 149, \"datetime\": \"2017-08-27T00:42:45\", \"tweet_count\": 0.5026504181270679, \"team\": \"\\u2618\\ufe0f\\ud83c\\udf40\\ud83c\\uddee\\ud83c\\uddea\"}, {\"Unnamed: 0\": 150, \"datetime\": \"2017-08-27T00:43:00\", \"tweet_count\": 0.4874253035927594, \"team\": \"\\u2618\\ufe0f\\ud83c\\udf40\\ud83c\\uddee\\ud83c\\uddea\"}, {\"Unnamed: 0\": 151, \"datetime\": \"2017-08-27T00:43:15\", \"tweet_count\": 0.4682327593434278, \"team\": \"\\u2618\\ufe0f\\ud83c\\udf40\\ud83c\\uddee\\ud83c\\uddea\"}, {\"Unnamed: 0\": 152, \"datetime\": \"2017-08-27T00:43:30\", \"tweet_count\": 0.4941319424186627, \"team\": \"\\u2618\\ufe0f\\ud83c\\udf40\\ud83c\\uddee\\ud83c\\uddea\"}, {\"Unnamed: 0\": 153, \"datetime\": \"2017-08-27T00:43:45\", \"tweet_count\": 0.4448955949762089, \"team\": \"\\u2618\\ufe0f\\ud83c\\udf40\\ud83c\\uddee\\ud83c\\uddea\"}, {\"Unnamed: 0\": 154, \"datetime\": \"2017-08-27T00:44:00\", \"tweet_count\": 0.3791737995839453, \"team\": \"\\u2618\\ufe0f\\ud83c\\udf40\\ud83c\\uddee\\ud83c\\uddea\"}, {\"Unnamed: 0\": 155, \"datetime\": \"2017-08-27T00:44:15\", \"tweet_count\": 0.3682052860173355, \"team\": \"\\u2618\\ufe0f\\ud83c\\udf40\\ud83c\\uddee\\ud83c\\uddea\"}, {\"Unnamed: 0\": 156, \"datetime\": \"2017-08-27T00:44:30\", \"tweet_count\": 0.3701688367716685, \"team\": \"\\u2618\\ufe0f\\ud83c\\udf40\\ud83c\\uddee\\ud83c\\uddea\"}, {\"Unnamed: 0\": 157, \"datetime\": \"2017-08-27T00:44:45\", \"tweet_count\": 0.3216349850229669, \"team\": \"\\u2618\\ufe0f\\ud83c\\udf40\\ud83c\\uddee\\ud83c\\uddea\"}, {\"Unnamed: 0\": 158, \"datetime\": \"2017-08-27T00:45:00\", \"tweet_count\": 0.3046310838792476, \"team\": \"\\u2618\\ufe0f\\ud83c\\udf40\\ud83c\\uddee\\ud83c\\uddea\"}, {\"Unnamed: 0\": 159, \"datetime\": \"2017-08-27T00:45:15\", \"tweet_count\": 0.3290280273539293, \"team\": \"\\u2618\\ufe0f\\ud83c\\udf40\\ud83c\\uddee\\ud83c\\uddea\"}, {\"Unnamed: 0\": 160, \"datetime\": \"2017-08-27T00:45:30\", \"tweet_count\": 0.3602924792123668, \"team\": \"\\u2618\\ufe0f\\ud83c\\udf40\\ud83c\\uddee\\ud83c\\uddea\"}, {\"Unnamed: 0\": 161, \"datetime\": \"2017-08-27T00:45:45\", \"tweet_count\": 0.3801128344076563, \"team\": \"\\u2618\\ufe0f\\ud83c\\udf40\\ud83c\\uddee\\ud83c\\uddea\"}, {\"Unnamed: 0\": 162, \"datetime\": \"2017-08-27T00:46:00\", \"tweet_count\": 0.3908951081059054, \"team\": \"\\u2618\\ufe0f\\ud83c\\udf40\\ud83c\\uddee\\ud83c\\uddea\"}, {\"Unnamed: 0\": 163, \"datetime\": \"2017-08-27T00:46:15\", \"tweet_count\": 0.373887784745994, \"team\": \"\\u2618\\ufe0f\\ud83c\\udf40\\ud83c\\uddee\\ud83c\\uddea\"}, {\"Unnamed: 0\": 164, \"datetime\": \"2017-08-27T00:46:30\", \"tweet_count\": 0.3747380373075373, \"team\": \"\\u2618\\ufe0f\\ud83c\\udf40\\ud83c\\uddee\\ud83c\\uddea\"}, {\"Unnamed: 0\": 165, \"datetime\": \"2017-08-27T00:46:45\", \"tweet_count\": 0.338307816348937, \"team\": \"\\u2618\\ufe0f\\ud83c\\udf40\\ud83c\\uddee\\ud83c\\uddea\"}, {\"Unnamed: 0\": 166, \"datetime\": \"2017-08-27T00:47:00\", \"tweet_count\": 0.3561226860762304, \"team\": \"\\u2618\\ufe0f\\ud83c\\udf40\\ud83c\\uddee\\ud83c\\uddea\"}, {\"Unnamed: 0\": 167, \"datetime\": \"2017-08-27T00:47:15\", \"tweet_count\": 0.368858270221073, \"team\": \"\\u2618\\ufe0f\\ud83c\\udf40\\ud83c\\uddee\\ud83c\\uddea\"}, {\"Unnamed: 0\": 168, \"datetime\": \"2017-08-27T00:47:30\", \"tweet_count\": 0.3242846362348174, \"team\": \"\\u2618\\ufe0f\\ud83c\\udf40\\ud83c\\uddee\\ud83c\\uddea\"}, {\"Unnamed: 0\": 169, \"datetime\": \"2017-08-27T00:47:45\", \"tweet_count\": 0.3179646193778062, \"team\": \"\\u2618\\ufe0f\\ud83c\\udf40\\ud83c\\uddee\\ud83c\\uddea\"}, {\"Unnamed: 0\": 170, \"datetime\": \"2017-08-27T00:48:00\", \"tweet_count\": 0.3159012943209645, \"team\": \"\\u2618\\ufe0f\\ud83c\\udf40\\ud83c\\uddee\\ud83c\\uddea\"}, {\"Unnamed: 0\": 171, \"datetime\": \"2017-08-27T00:48:15\", \"tweet_count\": 0.315647225940749, \"team\": \"\\u2618\\ufe0f\\ud83c\\udf40\\ud83c\\uddee\\ud83c\\uddea\"}, {\"Unnamed: 0\": 172, \"datetime\": \"2017-08-27T00:48:30\", \"tweet_count\": 0.329228856267646, \"team\": \"\\u2618\\ufe0f\\ud83c\\udf40\\ud83c\\uddee\\ud83c\\uddea\"}, {\"Unnamed: 0\": 173, \"datetime\": \"2017-08-27T00:48:45\", \"tweet_count\": 0.3199306938157741, \"team\": \"\\u2618\\ufe0f\\ud83c\\udf40\\ud83c\\uddee\\ud83c\\uddea\"}, {\"Unnamed: 0\": 174, \"datetime\": \"2017-08-27T00:49:00\", \"tweet_count\": 0.321529088109446, \"team\": \"\\u2618\\ufe0f\\ud83c\\udf40\\ud83c\\uddee\\ud83c\\uddea\"}, {\"Unnamed: 0\": 175, \"datetime\": \"2017-08-27T00:49:15\", \"tweet_count\": 0.2908311792297147, \"team\": \"\\u2618\\ufe0f\\ud83c\\udf40\\ud83c\\uddee\\ud83c\\uddea\"}, {\"Unnamed: 0\": 176, \"datetime\": \"2017-08-27T00:49:30\", \"tweet_count\": 0.2726734188503107, \"team\": \"\\u2618\\ufe0f\\ud83c\\udf40\\ud83c\\uddee\\ud83c\\uddea\"}, {\"Unnamed: 0\": 177, \"datetime\": \"2017-08-27T00:49:45\", \"tweet_count\": 0.2881548701654082, \"team\": \"\\u2618\\ufe0f\\ud83c\\udf40\\ud83c\\uddee\\ud83c\\uddea\"}, {\"Unnamed: 0\": 178, \"datetime\": \"2017-08-27T00:50:00\", \"tweet_count\": 0.2494863049961485, \"team\": \"\\u2618\\ufe0f\\ud83c\\udf40\\ud83c\\uddee\\ud83c\\uddea\"}, {\"Unnamed: 0\": 179, \"datetime\": \"2017-08-27T00:50:15\", \"tweet_count\": 0.2833573594902525, \"team\": \"\\u2618\\ufe0f\\ud83c\\udf40\\ud83c\\uddee\\ud83c\\uddea\"}, {\"Unnamed: 0\": 180, \"datetime\": \"2017-08-27T00:50:30\", \"tweet_count\": 0.2985188725858232, \"team\": \"\\u2618\\ufe0f\\ud83c\\udf40\\ud83c\\uddee\\ud83c\\uddea\"}, {\"Unnamed: 0\": 181, \"datetime\": \"2017-08-27T00:50:45\", \"tweet_count\": 0.288727144927435, \"team\": \"\\u2618\\ufe0f\\ud83c\\udf40\\ud83c\\uddee\\ud83c\\uddea\"}, {\"Unnamed: 0\": 182, \"datetime\": \"2017-08-27T00:51:00\", \"tweet_count\": 0.2793815501367624, \"team\": \"\\u2618\\ufe0f\\ud83c\\udf40\\ud83c\\uddee\\ud83c\\uddea\"}, {\"Unnamed: 0\": 183, \"datetime\": \"2017-08-27T00:51:15\", \"tweet_count\": 0.2615558595312164, \"team\": \"\\u2618\\ufe0f\\ud83c\\udf40\\ud83c\\uddee\\ud83c\\uddea\"}, {\"Unnamed: 0\": 184, \"datetime\": \"2017-08-27T00:51:30\", \"tweet_count\": 0.2639916578279224, \"team\": \"\\u2618\\ufe0f\\ud83c\\udf40\\ud83c\\uddee\\ud83c\\uddea\"}, {\"Unnamed: 0\": 185, \"datetime\": \"2017-08-27T00:51:45\", \"tweet_count\": 0.2584199835645648, \"team\": \"\\u2618\\ufe0f\\ud83c\\udf40\\ud83c\\uddee\\ud83c\\uddea\"}, {\"Unnamed: 0\": 186, \"datetime\": \"2017-08-27T00:52:00\", \"tweet_count\": 0.2779197932413932, \"team\": \"\\u2618\\ufe0f\\ud83c\\udf40\\ud83c\\uddee\\ud83c\\uddea\"}, {\"Unnamed: 0\": 187, \"datetime\": \"2017-08-27T00:52:15\", \"tweet_count\": 0.2832855624865648, \"team\": \"\\u2618\\ufe0f\\ud83c\\udf40\\ud83c\\uddee\\ud83c\\uddea\"}, {\"Unnamed: 0\": 188, \"datetime\": \"2017-08-27T00:52:30\", \"tweet_count\": 0.2665753511680261, \"team\": \"\\u2618\\ufe0f\\ud83c\\udf40\\ud83c\\uddee\\ud83c\\uddea\"}, {\"Unnamed: 0\": 189, \"datetime\": \"2017-08-27T00:52:45\", \"tweet_count\": 0.2759947812737913, \"team\": \"\\u2618\\ufe0f\\ud83c\\udf40\\ud83c\\uddee\\ud83c\\uddea\"}, {\"Unnamed: 0\": 190, \"datetime\": \"2017-08-27T00:53:00\", \"tweet_count\": 0.2799727312856914, \"team\": \"\\u2618\\ufe0f\\ud83c\\udf40\\ud83c\\uddee\\ud83c\\uddea\"}, {\"Unnamed: 0\": 191, \"datetime\": \"2017-08-27T00:53:15\", \"tweet_count\": 0.2779793567187012, \"team\": \"\\u2618\\ufe0f\\ud83c\\udf40\\ud83c\\uddee\\ud83c\\uddea\"}, {\"Unnamed: 0\": 192, \"datetime\": \"2017-08-27T00:53:30\", \"tweet_count\": 0.2912224429774125, \"team\": \"\\u2618\\ufe0f\\ud83c\\udf40\\ud83c\\uddee\\ud83c\\uddea\"}, {\"Unnamed: 0\": 193, \"datetime\": \"2017-08-27T00:53:45\", \"tweet_count\": 0.2651501958121151, \"team\": \"\\u2618\\ufe0f\\ud83c\\udf40\\ud83c\\uddee\\ud83c\\uddea\"}, {\"Unnamed: 0\": 194, \"datetime\": \"2017-08-27T00:54:00\", \"tweet_count\": 0.2824499609112405, \"team\": \"\\u2618\\ufe0f\\ud83c\\udf40\\ud83c\\uddee\\ud83c\\uddea\"}, {\"Unnamed: 0\": 195, \"datetime\": \"2017-08-27T00:54:15\", \"tweet_count\": 0.3000733077256368, \"team\": \"\\u2618\\ufe0f\\ud83c\\udf40\\ud83c\\uddee\\ud83c\\uddea\"}, {\"Unnamed: 0\": 196, \"datetime\": \"2017-08-27T00:54:30\", \"tweet_count\": 0.2784864051566178, \"team\": \"\\u2618\\ufe0f\\ud83c\\udf40\\ud83c\\uddee\\ud83c\\uddea\"}, {\"Unnamed: 0\": 197, \"datetime\": \"2017-08-27T00:54:45\", \"tweet_count\": 0.2670998544130674, \"team\": \"\\u2618\\ufe0f\\ud83c\\udf40\\ud83c\\uddee\\ud83c\\uddea\"}, {\"Unnamed: 0\": 198, \"datetime\": \"2017-08-27T00:55:00\", \"tweet_count\": 0.2764419261984279, \"team\": \"\\u2618\\ufe0f\\ud83c\\udf40\\ud83c\\uddee\\ud83c\\uddea\"}, {\"Unnamed: 0\": 199, \"datetime\": \"2017-08-27T00:55:15\", \"tweet_count\": 0.2996779321460481, \"team\": \"\\u2618\\ufe0f\\ud83c\\udf40\\ud83c\\uddee\\ud83c\\uddea\"}, {\"Unnamed: 0\": 200, \"datetime\": \"2017-08-27T00:55:30\", \"tweet_count\": 0.3199826685943971, \"team\": \"\\u2618\\ufe0f\\ud83c\\udf40\\ud83c\\uddee\\ud83c\\uddea\"}, {\"Unnamed: 0\": 201, \"datetime\": \"2017-08-27T00:55:45\", \"tweet_count\": 0.3228321585389608, \"team\": \"\\u2618\\ufe0f\\ud83c\\udf40\\ud83c\\uddee\\ud83c\\uddea\"}, {\"Unnamed: 0\": 202, \"datetime\": \"2017-08-27T00:56:00\", \"tweet_count\": 0.3060352856687713, \"team\": \"\\u2618\\ufe0f\\ud83c\\udf40\\ud83c\\uddee\\ud83c\\uddea\"}, {\"Unnamed: 0\": 203, \"datetime\": \"2017-08-27T00:56:15\", \"tweet_count\": 0.3150703031862318, \"team\": \"\\u2618\\ufe0f\\ud83c\\udf40\\ud83c\\uddee\\ud83c\\uddea\"}, {\"Unnamed: 0\": 204, \"datetime\": \"2017-08-27T00:56:30\", \"tweet_count\": 0.3568197024563727, \"team\": \"\\u2618\\ufe0f\\ud83c\\udf40\\ud83c\\uddee\\ud83c\\uddea\"}, {\"Unnamed: 0\": 205, \"datetime\": \"2017-08-27T00:56:45\", \"tweet_count\": 0.3746599684152504, \"team\": \"\\u2618\\ufe0f\\ud83c\\udf40\\ud83c\\uddee\\ud83c\\uddea\"}, {\"Unnamed: 0\": 206, \"datetime\": \"2017-08-27T00:57:00\", \"tweet_count\": 0.4050967754393358, \"team\": \"\\u2618\\ufe0f\\ud83c\\udf40\\ud83c\\uddee\\ud83c\\uddea\"}, {\"Unnamed: 0\": 207, \"datetime\": \"2017-08-27T00:57:15\", \"tweet_count\": 0.4217026644570718, \"team\": \"\\u2618\\ufe0f\\ud83c\\udf40\\ud83c\\uddee\\ud83c\\uddea\"}, {\"Unnamed: 0\": 208, \"datetime\": \"2017-08-27T00:57:30\", \"tweet_count\": 0.4007972854382852, \"team\": \"\\u2618\\ufe0f\\ud83c\\udf40\\ud83c\\uddee\\ud83c\\uddea\"}, {\"Unnamed: 0\": 209, \"datetime\": \"2017-08-27T00:57:45\", \"tweet_count\": 0.4209037599729026, \"team\": \"\\u2618\\ufe0f\\ud83c\\udf40\\ud83c\\uddee\\ud83c\\uddea\"}, {\"Unnamed: 0\": 210, \"datetime\": \"2017-08-27T00:58:00\", \"tweet_count\": 0.454699043365211, \"team\": \"\\u2618\\ufe0f\\ud83c\\udf40\\ud83c\\uddee\\ud83c\\uddea\"}, {\"Unnamed: 0\": 211, \"datetime\": \"2017-08-27T00:58:15\", \"tweet_count\": 0.4344973398939139, \"team\": \"\\u2618\\ufe0f\\ud83c\\udf40\\ud83c\\uddee\\ud83c\\uddea\"}, {\"Unnamed: 0\": 212, \"datetime\": \"2017-08-27T00:58:30\", \"tweet_count\": 0.4328387324655742, \"team\": \"\\u2618\\ufe0f\\ud83c\\udf40\\ud83c\\uddee\\ud83c\\uddea\"}, {\"Unnamed: 0\": 213, \"datetime\": \"2017-08-27T00:58:45\", \"tweet_count\": 0.4415752930382827, \"team\": \"\\u2618\\ufe0f\\ud83c\\udf40\\ud83c\\uddee\\ud83c\\uddea\"}, {\"Unnamed: 0\": 214, \"datetime\": \"2017-08-27T00:59:00\", \"tweet_count\": 0.5363237244099659, \"team\": \"\\u2618\\ufe0f\\ud83c\\udf40\\ud83c\\uddee\\ud83c\\uddea\"}, {\"Unnamed: 0\": 215, \"datetime\": \"2017-08-27T00:59:15\", \"tweet_count\": 0.5346624267883018, \"team\": \"\\u2618\\ufe0f\\ud83c\\udf40\\ud83c\\uddee\\ud83c\\uddea\"}, {\"Unnamed: 0\": 216, \"datetime\": \"2017-08-27T00:59:30\", \"tweet_count\": 0.4998162672232742, \"team\": \"\\u2618\\ufe0f\\ud83c\\udf40\\ud83c\\uddee\\ud83c\\uddea\"}, {\"Unnamed: 0\": 217, \"datetime\": \"2017-08-27T00:59:45\", \"tweet_count\": 0.5067389086677714, \"team\": \"\\u2618\\ufe0f\\ud83c\\udf40\\ud83c\\uddee\\ud83c\\uddea\"}, {\"Unnamed: 0\": 218, \"datetime\": \"2017-08-27T01:00:00\", \"tweet_count\": 0.5820004416108062, \"team\": \"\\u2618\\ufe0f\\ud83c\\udf40\\ud83c\\uddee\\ud83c\\uddea\"}, {\"Unnamed: 0\": 219, \"datetime\": \"2017-08-27T01:00:15\", \"tweet_count\": 0.599504664788431, \"team\": \"\\u2618\\ufe0f\\ud83c\\udf40\\ud83c\\uddee\\ud83c\\uddea\"}, {\"Unnamed: 0\": 220, \"datetime\": \"2017-08-27T01:00:30\", \"tweet_count\": 0.5694249693134432, \"team\": \"\\u2618\\ufe0f\\ud83c\\udf40\\ud83c\\uddee\\ud83c\\uddea\"}, {\"Unnamed: 0\": 221, \"datetime\": \"2017-08-27T01:00:45\", \"tweet_count\": 0.5472998181477238, \"team\": \"\\u2618\\ufe0f\\ud83c\\udf40\\ud83c\\uddee\\ud83c\\uddea\"}, {\"Unnamed: 0\": 222, \"datetime\": \"2017-08-27T01:01:00\", \"tweet_count\": 0.5007543107771381, \"team\": \"\\u2618\\ufe0f\\ud83c\\udf40\\ud83c\\uddee\\ud83c\\uddea\"}, {\"Unnamed: 0\": 223, \"datetime\": \"2017-08-27T01:01:15\", \"tweet_count\": 0.5088952223304145, \"team\": \"\\u2618\\ufe0f\\ud83c\\udf40\\ud83c\\uddee\\ud83c\\uddea\"}, {\"Unnamed: 0\": 224, \"datetime\": \"2017-08-27T01:01:30\", \"tweet_count\": 0.5107664160482087, \"team\": \"\\u2618\\ufe0f\\ud83c\\udf40\\ud83c\\uddee\\ud83c\\uddea\"}, {\"Unnamed: 0\": 225, \"datetime\": \"2017-08-27T01:01:45\", \"tweet_count\": 0.5134375877581077, \"team\": \"\\u2618\\ufe0f\\ud83c\\udf40\\ud83c\\uddee\\ud83c\\uddea\"}, {\"Unnamed: 0\": 226, \"datetime\": \"2017-08-27T01:02:00\", \"tweet_count\": 0.4903721303866667, \"team\": \"\\u2618\\ufe0f\\ud83c\\udf40\\ud83c\\uddee\\ud83c\\uddea\"}, {\"Unnamed: 0\": 227, \"datetime\": \"2017-08-27T01:02:15\", \"tweet_count\": 0.490398592523507, \"team\": \"\\u2618\\ufe0f\\ud83c\\udf40\\ud83c\\uddee\\ud83c\\uddea\"}, {\"Unnamed: 0\": 228, \"datetime\": \"2017-08-27T01:02:30\", \"tweet_count\": 0.474820962041471, \"team\": \"\\u2618\\ufe0f\\ud83c\\udf40\\ud83c\\uddee\\ud83c\\uddea\"}, {\"Unnamed: 0\": 229, \"datetime\": \"2017-08-27T01:02:45\", \"tweet_count\": 0.4585449096162124, \"team\": \"\\u2618\\ufe0f\\ud83c\\udf40\\ud83c\\uddee\\ud83c\\uddea\"}, {\"Unnamed: 0\": 230, \"datetime\": \"2017-08-27T01:03:00\", \"tweet_count\": 0.3867004545892087, \"team\": \"\\u2618\\ufe0f\\ud83c\\udf40\\ud83c\\uddee\\ud83c\\uddea\"}, {\"Unnamed: 0\": 231, \"datetime\": \"2017-08-27T01:03:15\", \"tweet_count\": 0.4231635388455392, \"team\": \"\\u2618\\ufe0f\\ud83c\\udf40\\ud83c\\uddee\\ud83c\\uddea\"}, {\"Unnamed: 0\": 232, \"datetime\": \"2017-08-27T01:03:30\", \"tweet_count\": 0.4387561021181138, \"team\": \"\\u2618\\ufe0f\\ud83c\\udf40\\ud83c\\uddee\\ud83c\\uddea\"}, {\"Unnamed: 0\": 233, \"datetime\": \"2017-08-27T01:03:45\", \"tweet_count\": 0.4295473881386513, \"team\": \"\\u2618\\ufe0f\\ud83c\\udf40\\ud83c\\uddee\\ud83c\\uddea\"}, {\"Unnamed: 0\": 234, \"datetime\": \"2017-08-27T01:04:00\", \"tweet_count\": 0.3731603598474522, \"team\": \"\\u2618\\ufe0f\\ud83c\\udf40\\ud83c\\uddee\\ud83c\\uddea\"}, {\"Unnamed: 0\": 235, \"datetime\": \"2017-08-27T01:04:15\", \"tweet_count\": 0.3743137141210001, \"team\": \"\\u2618\\ufe0f\\ud83c\\udf40\\ud83c\\uddee\\ud83c\\uddea\"}, {\"Unnamed: 0\": 236, \"datetime\": \"2017-08-27T01:04:30\", \"tweet_count\": 0.4236380576952833, \"team\": \"\\u2618\\ufe0f\\ud83c\\udf40\\ud83c\\uddee\\ud83c\\uddea\"}, {\"Unnamed: 0\": 237, \"datetime\": \"2017-08-27T01:04:45\", \"tweet_count\": 0.5151424100212689, \"team\": \"\\u2618\\ufe0f\\ud83c\\udf40\\ud83c\\uddee\\ud83c\\uddea\"}, {\"Unnamed: 0\": 238, \"datetime\": \"2017-08-27T01:05:00\", \"tweet_count\": 0.5625927150970196, \"team\": \"\\u2618\\ufe0f\\ud83c\\udf40\\ud83c\\uddee\\ud83c\\uddea\"}, {\"Unnamed: 0\": 239, \"datetime\": \"2017-08-27T01:05:15\", \"tweet_count\": 0.8575506403905375, \"team\": \"\\u2618\\ufe0f\\ud83c\\udf40\\ud83c\\uddee\\ud83c\\uddea\"}, {\"Unnamed: 0\": 240, \"datetime\": \"2017-08-27T01:05:30\", \"tweet_count\": 1.4312457875211426, \"team\": \"\\u2618\\ufe0f\\ud83c\\udf40\\ud83c\\uddee\\ud83c\\uddea\"}, {\"Unnamed: 0\": 241, \"datetime\": \"2017-08-27T01:05:45\", \"tweet_count\": 1.5268816289264742, \"team\": \"\\u2618\\ufe0f\\ud83c\\udf40\\ud83c\\uddee\\ud83c\\uddea\"}, {\"Unnamed: 0\": 242, \"datetime\": \"2017-08-27T01:06:00\", \"tweet_count\": 1.508009608984627, \"team\": \"\\u2618\\ufe0f\\ud83c\\udf40\\ud83c\\uddee\\ud83c\\uddea\"}, {\"Unnamed: 0\": 243, \"datetime\": \"2017-08-27T01:06:15\", \"tweet_count\": 1.480785457954121, \"team\": \"\\u2618\\ufe0f\\ud83c\\udf40\\ud83c\\uddee\\ud83c\\uddea\"}, {\"Unnamed: 0\": 244, \"datetime\": \"2017-08-27T01:06:30\", \"tweet_count\": 1.4957950842130816, \"team\": \"\\u2618\\ufe0f\\ud83c\\udf40\\ud83c\\uddee\\ud83c\\uddea\"}, {\"Unnamed: 0\": 245, \"datetime\": \"2017-08-27T01:06:45\", \"tweet_count\": 1.5086738159041633, \"team\": \"\\u2618\\ufe0f\\ud83c\\udf40\\ud83c\\uddee\\ud83c\\uddea\"}, {\"Unnamed: 0\": 246, \"datetime\": \"2017-08-27T01:07:00\", \"tweet_count\": 1.4883929912409184, \"team\": \"\\u2618\\ufe0f\\ud83c\\udf40\\ud83c\\uddee\\ud83c\\uddea\"}, {\"Unnamed: 0\": 247, \"datetime\": \"2017-08-27T01:07:15\", \"tweet_count\": 1.4435081115389212, \"team\": \"\\u2618\\ufe0f\\ud83c\\udf40\\ud83c\\uddee\\ud83c\\uddea\"}, {\"Unnamed: 0\": 248, \"datetime\": \"2017-08-27T01:07:30\", \"tweet_count\": 1.4213149174345008, \"team\": \"\\u2618\\ufe0f\\ud83c\\udf40\\ud83c\\uddee\\ud83c\\uddea\"}, {\"Unnamed: 0\": 249, \"datetime\": \"2017-08-27T01:07:45\", \"tweet_count\": 1.4344637950364, \"team\": \"\\u2618\\ufe0f\\ud83c\\udf40\\ud83c\\uddee\\ud83c\\uddea\"}, {\"Unnamed: 0\": 250, \"datetime\": \"2017-08-27T01:08:00\", \"tweet_count\": 1.417681307327307, \"team\": \"\\u2618\\ufe0f\\ud83c\\udf40\\ud83c\\uddee\\ud83c\\uddea\"}, {\"Unnamed: 0\": 251, \"datetime\": \"2017-08-27T01:08:15\", \"tweet_count\": 1.4105537702390434, \"team\": \"\\u2618\\ufe0f\\ud83c\\udf40\\ud83c\\uddee\\ud83c\\uddea\"}, {\"Unnamed: 0\": 252, \"datetime\": \"2017-08-27T01:08:30\", \"tweet_count\": 1.3610915976964215, \"team\": \"\\u2618\\ufe0f\\ud83c\\udf40\\ud83c\\uddee\\ud83c\\uddea\"}, {\"Unnamed: 0\": 253, \"datetime\": \"2017-08-27T01:08:45\", \"tweet_count\": 1.265837042801137, \"team\": \"\\u2618\\ufe0f\\ud83c\\udf40\\ud83c\\uddee\\ud83c\\uddea\"}, {\"Unnamed: 0\": 254, \"datetime\": \"2017-08-27T01:09:00\", \"tweet_count\": 1.2889034600623397, \"team\": \"\\u2618\\ufe0f\\ud83c\\udf40\\ud83c\\uddee\\ud83c\\uddea\"}, {\"Unnamed: 0\": 255, \"datetime\": \"2017-08-27T01:09:15\", \"tweet_count\": 0.8878620667927608, \"team\": \"\\u2618\\ufe0f\\ud83c\\udf40\\ud83c\\uddee\\ud83c\\uddea\"}, {\"Unnamed: 0\": 256, \"datetime\": \"2017-08-27T01:09:30\", \"tweet_count\": 0.3128587770589753, \"team\": \"\\u2618\\ufe0f\\ud83c\\udf40\\ud83c\\uddee\\ud83c\\uddea\"}, {\"Unnamed: 0\": 257, \"datetime\": \"2017-08-27T01:09:45\", \"tweet_count\": 0.2114800648166908, \"team\": \"\\u2618\\ufe0f\\ud83c\\udf40\\ud83c\\uddee\\ud83c\\uddea\"}, {\"Unnamed: 0\": 258, \"datetime\": \"2017-08-27T01:10:00\", \"tweet_count\": 0.2274573537300764, \"team\": \"\\u2618\\ufe0f\\ud83c\\udf40\\ud83c\\uddee\\ud83c\\uddea\"}, {\"Unnamed: 0\": 259, \"datetime\": \"2017-08-27T01:10:15\", \"tweet_count\": 0.2313132996232789, \"team\": \"\\u2618\\ufe0f\\ud83c\\udf40\\ud83c\\uddee\\ud83c\\uddea\"}, {\"Unnamed: 0\": 260, \"datetime\": \"2017-08-27T01:10:30\", \"tweet_count\": 0.2478155613794052, \"team\": \"\\u2618\\ufe0f\\ud83c\\udf40\\ud83c\\uddee\\ud83c\\uddea\"}, {\"Unnamed: 0\": 261, \"datetime\": \"2017-08-27T01:10:45\", \"tweet_count\": 0.3027434344155643, \"team\": \"\\u2618\\ufe0f\\ud83c\\udf40\\ud83c\\uddee\\ud83c\\uddea\"}, {\"Unnamed: 0\": 262, \"datetime\": \"2017-08-27T01:11:00\", \"tweet_count\": 0.3351886682628355, \"team\": \"\\u2618\\ufe0f\\ud83c\\udf40\\ud83c\\uddee\\ud83c\\uddea\"}, {\"Unnamed: 0\": 263, \"datetime\": \"2017-08-27T01:11:15\", \"tweet_count\": 0.3445549881104789, \"team\": \"\\u2618\\ufe0f\\ud83c\\udf40\\ud83c\\uddee\\ud83c\\uddea\"}, {\"Unnamed: 0\": 264, \"datetime\": \"2017-08-27T01:11:30\", \"tweet_count\": 0.3553399804169751, \"team\": \"\\u2618\\ufe0f\\ud83c\\udf40\\ud83c\\uddee\\ud83c\\uddea\"}, {\"Unnamed: 0\": 265, \"datetime\": \"2017-08-27T01:11:45\", \"tweet_count\": 0.3612565304955928, \"team\": \"\\u2618\\ufe0f\\ud83c\\udf40\\ud83c\\uddee\\ud83c\\uddea\"}, {\"Unnamed: 0\": 266, \"datetime\": \"2017-08-27T01:12:00\", \"tweet_count\": 0.3678465615221389, \"team\": \"\\u2618\\ufe0f\\ud83c\\udf40\\ud83c\\uddee\\ud83c\\uddea\"}, {\"Unnamed: 0\": 267, \"datetime\": \"2017-08-27T01:12:15\", \"tweet_count\": null, \"team\": \"\\u2618\\ufe0f\\ud83c\\udf40\\ud83c\\uddee\\ud83c\\uddea\"}, {\"Unnamed: 0\": 268, \"datetime\": \"2017-08-27T01:12:30\", \"tweet_count\": 0.3878944076272375, \"team\": \"\\u2618\\ufe0f\\ud83c\\udf40\\ud83c\\uddee\\ud83c\\uddea\"}, {\"Unnamed: 0\": 269, \"datetime\": \"2017-08-27T01:12:45\", \"tweet_count\": 0.4006394367040946, \"team\": \"\\u2618\\ufe0f\\ud83c\\udf40\\ud83c\\uddee\\ud83c\\uddea\"}, {\"Unnamed: 0\": 270, \"datetime\": \"2017-08-27T01:13:00\", \"tweet_count\": 0.3719502670986788, \"team\": \"\\u2618\\ufe0f\\ud83c\\udf40\\ud83c\\uddee\\ud83c\\uddea\"}, {\"Unnamed: 0\": 271, \"datetime\": \"2017-08-27T01:13:15\", \"tweet_count\": 0.372251977524124, \"team\": \"\\u2618\\ufe0f\\ud83c\\udf40\\ud83c\\uddee\\ud83c\\uddea\"}, {\"Unnamed: 0\": 272, \"datetime\": \"2017-08-27T01:13:30\", \"tweet_count\": 0.4288409362407531, \"team\": \"\\u2618\\ufe0f\\ud83c\\udf40\\ud83c\\uddee\\ud83c\\uddea\"}, {\"Unnamed: 0\": 273, \"datetime\": \"2017-08-27T01:13:45\", \"tweet_count\": 0.4414648157358479, \"team\": \"\\u2618\\ufe0f\\ud83c\\udf40\\ud83c\\uddee\\ud83c\\uddea\"}, {\"Unnamed: 0\": 274, \"datetime\": \"2017-08-27T01:14:00\", \"tweet_count\": 0.4520170140203961, \"team\": \"\\u2618\\ufe0f\\ud83c\\udf40\\ud83c\\uddee\\ud83c\\uddea\"}, {\"Unnamed: 0\": 275, \"datetime\": \"2017-08-27T01:14:15\", \"tweet_count\": 0.4957486767985705, \"team\": \"\\u2618\\ufe0f\\ud83c\\udf40\\ud83c\\uddee\\ud83c\\uddea\"}, {\"Unnamed: 0\": 276, \"datetime\": \"2017-08-27T01:14:30\", \"tweet_count\": 0.5881885393962452, \"team\": \"\\u2618\\ufe0f\\ud83c\\udf40\\ud83c\\uddee\\ud83c\\uddea\"}, {\"Unnamed: 0\": 277, \"datetime\": \"2017-08-27T01:14:45\", \"tweet_count\": 0.7153840974465181, \"team\": \"\\u2618\\ufe0f\\ud83c\\udf40\\ud83c\\uddee\\ud83c\\uddea\"}]}}, {\"mode\": \"vega-lite\"});\n",
       "</script>"
      ],
      "text/plain": [
       "alt.LayerChart(...)"
      ]
     },
     "execution_count": 7,
     "metadata": {},
     "output_type": "execute_result"
    }
   ],
   "source": [
    "#TODO: replicate vis2\n",
    "# line chart size = 2.5,\n",
    "# vLine: size=4, color=\"lightgray\", initial opacity = 0\n",
    "# indicator dot: color=\"black\" size=70\n",
    "\n",
    "#Zooming and Panning\n",
    "zoom_pan = alt.selection_interval(bind = 'scales', encodings = ['x'])\n",
    "\n",
    "#vertical line\n",
    "hover = alt.selection_single(on = 'mouseover', empty = 'none',nearest = True, init = {'datetime':'12:10'})\n",
    "opacityCondition = alt.condition(hover, alt.value(1), alt.value(0))\n",
    "\n",
    "#interaction dots\n",
    "hover_intersection = alt.selection_single(on = 'mouseover', fields=['datetime:T'], \n",
    "                                         empty = 'none')\n",
    "opacityCondition_intersection = alt.condition(hover_intersection, alt.value(1), alt.value(0))\n",
    "\n",
    "#Static component line chart\n",
    "chart_line = alt.Chart(df2).mark_line().encode(\n",
    "    alt.X('datetime:T'),\n",
    "    alt.Y('tweet_count:Q'),\n",
    "    alt.Color('team:N')\n",
    ").add_selection(zoom_pan)\n",
    "\n",
    "vline = alt.Chart(df2).mark_rule(size = 4, color = \"lightgray\").encode(\n",
    "    alt.X('datetime:T'),\n",
    "    opacity = opacityCondition\n",
    ").add_selection(hover)\n",
    "\n",
    "intersection_dots = alt.Chart(df2).mark_circle(size = 70, color = 'black').encode(\n",
    "    alt.X('datetime:T'),\n",
    "    alt.Y('tweet_count:Q'),\n",
    "    opacity = opacityCondition,\n",
    "    tooltip = ['tweet_count', 'datetime', 'team']\n",
    ").add_selection(hover_intersection)\n",
    "\n",
    "#Put all together\n",
    "vline + chart_line + intersection_dots"
   ]
  },
  {
   "cell_type": "markdown",
   "metadata": {
    "colab_type": "text",
    "id": "2oaNahO9Xdsg"
   },
   "source": [
    "## Visualization 3: Much hype, more boredom"
   ]
  },
  {
   "cell_type": "markdown",
   "metadata": {
    "colab_type": "text",
    "id": "GnisDhCjXqLB"
   },
   "source": [
    "We will replicate the following visualization  \n",
    "![vis3_static](https://raw.githubusercontent.com/eytanadar/si649public/master/lab6/hw/vis3/static.png?raw=true)\n",
    "\n",
    "**Description of the visualization (static):**\n",
    "*   Use *df3*\n",
    "*   The visualization has 1 component: **line chart**. It displays the relationship between *datetime* and *tweet_count*. Each line represents one emoji. "
   ]
  },
  {
   "cell_type": "markdown",
   "metadata": {
    "colab_type": "text",
    "id": "Yc9O5s5PYWqT"
   },
   "source": [
    "**Description of the visualization (interactivity):**\n",
    "1. Build radio selections for emojis. Theoretically, only one line will be shown at any given time. See the \"bug\" section for more detail.\n",
    "![alt text](https://raw.githubusercontent.com/eytanadar/si649public/master/lab6/hw/vis3/interactive_1.gif?raw=true)\n",
    "2. Brushing over line chart will display individual data points as circles. This will require another chart component, let's call this component **circles**.  \n",
    "![alt text](https://raw.githubusercontent.com/eytanadar/si649public/master/lab6/hw/vis3/interactive_2.gif?raw=true)\n",
    "\n"
   ]
  },
  {
   "cell_type": "markdown",
   "metadata": {
    "colab_type": "text",
    "id": "MtI266eHcCvu"
   },
   "source": [
    "**Sample style settings (optional):**\n",
    "Here's a list of default style settings we used to generate the graph.\n",
    "\n",
    "* **circles**: color=\"black\",opacity=0.7 \n",
    "* For both x and y axis, we have the following tickCount specified\n",
    "> axis=alt.Axis(tickCount=5,...) \n",
    "\n"
   ]
  },
  {
   "cell_type": "markdown",
   "metadata": {
    "colab_type": "text",
    "id": "IKQ1m4QSfAtC"
   },
   "source": [
    "**Bugs**\n",
    "\n",
    "If your interaction look similar to this, don't worry about it. It's likely a altair/colab issue. \n",
    "\n",
    "1. single click reset selection even when *clear=False*. This is likely a colab issue, because the chart will behave correctly in vega-editor. You can ignore this bug or view it in vegalite online editor. \n",
    "\n",
    "![alt text](https://raw.githubusercontent.com/eytanadar/si649public/master/lab6/hw/vis3/interactive_2_bug.gif?raw=true)"
   ]
  },
  {
   "cell_type": "markdown",
   "metadata": {
    "colab_type": "text",
    "id": "GzuQJSw1lX4y"
   },
   "source": [
    "**Hint**\n",
    "\n",
    "* You will have 2 selections. One for the emoji selection and one for the time selection. Ensure that these two interactions work independently before merging them together. \n",
    "\n",
    "* You can use multiple transform_filter, or use logical operand to chain multiple selections. "
   ]
  },
  {
   "cell_type": "code",
   "execution_count": 8,
   "metadata": {
    "colab": {
     "base_uri": "https://localhost:8080/",
     "height": 373
    },
    "colab_type": "code",
    "executionInfo": {
     "elapsed": 357,
     "status": "ok",
     "timestamp": 1581365279780,
     "user": {
      "displayName": "Matthew Kay",
      "photoUrl": "https://lh3.googleusercontent.com/a-/AAuE7mAdky9qVH46I_7lBPGqO4FSfJRCbiW_k8cFLOUN=s64",
      "userId": "07352650379952094636"
     },
     "user_tz": 300
    },
    "id": "Vc1HxSm3x9Fr",
    "outputId": "0f640430-be8b-4c19-889a-f3db43810002"
   },
   "outputs": [
    {
     "data": {
      "text/html": [
       "\n",
       "<div id=\"altair-viz-22640718d87245c0bb1cf553d9545543\"></div>\n",
       "<script type=\"text/javascript\">\n",
       "  (function(spec, embedOpt){\n",
       "    let outputDiv = document.currentScript.previousElementSibling;\n",
       "    if (outputDiv.id !== \"altair-viz-22640718d87245c0bb1cf553d9545543\") {\n",
       "      outputDiv = document.getElementById(\"altair-viz-22640718d87245c0bb1cf553d9545543\");\n",
       "    }\n",
       "    const paths = {\n",
       "      \"vega\": \"https://cdn.jsdelivr.net/npm//vega@5?noext\",\n",
       "      \"vega-lib\": \"https://cdn.jsdelivr.net/npm//vega-lib?noext\",\n",
       "      \"vega-lite\": \"https://cdn.jsdelivr.net/npm//vega-lite@4.8.1?noext\",\n",
       "      \"vega-embed\": \"https://cdn.jsdelivr.net/npm//vega-embed@6?noext\",\n",
       "    };\n",
       "\n",
       "    function loadScript(lib) {\n",
       "      return new Promise(function(resolve, reject) {\n",
       "        var s = document.createElement('script');\n",
       "        s.src = paths[lib];\n",
       "        s.async = true;\n",
       "        s.onload = () => resolve(paths[lib]);\n",
       "        s.onerror = () => reject(`Error loading script: ${paths[lib]}`);\n",
       "        document.getElementsByTagName(\"head\")[0].appendChild(s);\n",
       "      });\n",
       "    }\n",
       "\n",
       "    function showError(err) {\n",
       "      outputDiv.innerHTML = `<div class=\"error\" style=\"color:red;\">${err}</div>`;\n",
       "      throw err;\n",
       "    }\n",
       "\n",
       "    function displayChart(vegaEmbed) {\n",
       "      vegaEmbed(outputDiv, spec, embedOpt)\n",
       "        .catch(err => showError(`Javascript Error: ${err.message}<br>This usually means there's a typo in your chart specification. See the javascript console for the full traceback.`));\n",
       "    }\n",
       "\n",
       "    if(typeof define === \"function\" && define.amd) {\n",
       "      requirejs.config({paths});\n",
       "      require([\"vega-embed\"], displayChart, err => showError(`Error loading script: ${err.message}`));\n",
       "    } else if (typeof vegaEmbed === \"function\") {\n",
       "      displayChart(vegaEmbed);\n",
       "    } else {\n",
       "      loadScript(\"vega\")\n",
       "        .then(() => loadScript(\"vega-lite\"))\n",
       "        .then(() => loadScript(\"vega-embed\"))\n",
       "        .catch(showError)\n",
       "        .then(() => displayChart(vegaEmbed));\n",
       "    }\n",
       "  })({\"config\": {\"view\": {\"continuousWidth\": 400, \"continuousHeight\": 300}}, \"layer\": [{\"mark\": \"line\", \"encoding\": {\"color\": {\"type\": \"nominal\", \"field\": \"emoji\"}, \"opacity\": {\"condition\": {\"value\": 1, \"selection\": \"emoji\"}, \"value\": 0}, \"x\": {\"type\": \"temporal\", \"axis\": {\"tickCount\": 5}, \"field\": \"datetime\"}, \"y\": {\"type\": \"quantitative\", \"field\": \"tweet_count\"}}, \"selection\": {\"emoji\": {\"type\": \"single\", \"fields\": [\"emoji\"], \"bind\": {\"input\": \"radio\", \"options\": [\"\\ud83d\\udd25\", \"\\ud83d\\ude34\"], \"name\": \"emoji\"}, \"init\": {\"emoji\": \"\\ud83d\\udd25\"}}}}, {\"mark\": {\"type\": \"circle\", \"color\": \"black\", \"opacity\": 0.7}, \"encoding\": {\"opacity\": {\"condition\": {\"value\": 0.6, \"selection\": \"selector006\"}, \"value\": 0}, \"x\": {\"type\": \"temporal\", \"field\": \"datetime\"}, \"y\": {\"type\": \"quantitative\", \"field\": \"tweet_count\"}}, \"selection\": {\"selector006\": {\"type\": \"interval\", \"empty\": \"none\"}}, \"transform\": [{\"filter\": {\"selection\": \"emoji\"}}]}], \"data\": {\"name\": \"data-9dc648c981a24a2263631372368f0bb0\"}, \"$schema\": \"https://vega.github.io/schema/vega-lite/v4.8.1.json\", \"datasets\": {\"data-9dc648c981a24a2263631372368f0bb0\": [{\"Unnamed: 0\": 0, \"datetime\": \"2017-08-27T00:05:30\", \"tweet_count\": 0.2518239411871141, \"emoji\": \"\\ud83d\\udd25\"}, {\"Unnamed: 0\": 1, \"datetime\": \"2017-08-27T00:05:45\", \"tweet_count\": 0.5209446268392184, \"emoji\": \"\\ud83d\\udd25\"}, {\"Unnamed: 0\": 2, \"datetime\": \"2017-08-27T00:06:00\", \"tweet_count\": 0.7450936668596768, \"emoji\": \"\\ud83d\\udd25\"}, {\"Unnamed: 0\": 3, \"datetime\": \"2017-08-27T00:06:15\", \"tweet_count\": 0.8994757790756492, \"emoji\": \"\\ud83d\\udd25\"}, {\"Unnamed: 0\": 4, \"datetime\": \"2017-08-27T00:06:30\", \"tweet_count\": 1.0203214818619155, \"emoji\": \"\\ud83d\\udd25\"}, {\"Unnamed: 0\": 5, \"datetime\": \"2017-08-27T00:06:45\", \"tweet_count\": 1.0124397774284863, \"emoji\": \"\\ud83d\\udd25\"}, {\"Unnamed: 0\": 6, \"datetime\": \"2017-08-27T00:07:00\", \"tweet_count\": 1.076046623492313, \"emoji\": \"\\ud83d\\udd25\"}, {\"Unnamed: 0\": 7, \"datetime\": \"2017-08-27T00:07:15\", \"tweet_count\": 0.9960594999007232, \"emoji\": \"\\ud83d\\udd25\"}, {\"Unnamed: 0\": 8, \"datetime\": \"2017-08-27T00:07:30\", \"tweet_count\": 0.9674243740409508, \"emoji\": \"\\ud83d\\udd25\"}, {\"Unnamed: 0\": 9, \"datetime\": \"2017-08-27T00:07:45\", \"tweet_count\": 0.9446278298939637, \"emoji\": \"\\ud83d\\udd25\"}, {\"Unnamed: 0\": 10, \"datetime\": \"2017-08-27T00:08:00\", \"tweet_count\": 0.8731479983683177, \"emoji\": \"\\ud83d\\udd25\"}, {\"Unnamed: 0\": 11, \"datetime\": \"2017-08-27T00:08:15\", \"tweet_count\": 0.8097899290209626, \"emoji\": \"\\ud83d\\udd25\"}, {\"Unnamed: 0\": 12, \"datetime\": \"2017-08-27T00:08:30\", \"tweet_count\": 0.7534824007623917, \"emoji\": \"\\ud83d\\udd25\"}, {\"Unnamed: 0\": 13, \"datetime\": \"2017-08-27T00:08:45\", \"tweet_count\": 0.740102820989566, \"emoji\": \"\\ud83d\\udd25\"}, {\"Unnamed: 0\": 14, \"datetime\": \"2017-08-27T00:09:00\", \"tweet_count\": 0.7795825489832744, \"emoji\": \"\\ud83d\\udd25\"}, {\"Unnamed: 0\": 15, \"datetime\": \"2017-08-27T00:09:15\", \"tweet_count\": 0.7751214027510818, \"emoji\": \"\\ud83d\\udd25\"}, {\"Unnamed: 0\": 16, \"datetime\": \"2017-08-27T00:09:30\", \"tweet_count\": 0.758114598696069, \"emoji\": \"\\ud83d\\udd25\"}, {\"Unnamed: 0\": 17, \"datetime\": \"2017-08-27T00:09:45\", \"tweet_count\": 0.7331193731894552, \"emoji\": \"\\ud83d\\udd25\"}, {\"Unnamed: 0\": 18, \"datetime\": \"2017-08-27T00:10:00\", \"tweet_count\": 0.6762856853694141, \"emoji\": \"\\ud83d\\udd25\"}, {\"Unnamed: 0\": 19, \"datetime\": \"2017-08-27T00:10:15\", \"tweet_count\": 0.6535605034463663, \"emoji\": \"\\ud83d\\udd25\"}, {\"Unnamed: 0\": 20, \"datetime\": \"2017-08-27T00:10:30\", \"tweet_count\": 0.5919578911160177, \"emoji\": \"\\ud83d\\udd25\"}, {\"Unnamed: 0\": 21, \"datetime\": \"2017-08-27T00:10:45\", \"tweet_count\": 0.595588992328405, \"emoji\": \"\\ud83d\\udd25\"}, {\"Unnamed: 0\": 22, \"datetime\": \"2017-08-27T00:11:00\", \"tweet_count\": 0.5799527324463628, \"emoji\": \"\\ud83d\\udd25\"}, {\"Unnamed: 0\": 23, \"datetime\": \"2017-08-27T00:11:15\", \"tweet_count\": 0.6546444285903595, \"emoji\": \"\\ud83d\\udd25\"}, {\"Unnamed: 0\": 24, \"datetime\": \"2017-08-27T00:11:30\", \"tweet_count\": 0.6715720277151602, \"emoji\": \"\\ud83d\\udd25\"}, {\"Unnamed: 0\": 25, \"datetime\": \"2017-08-27T00:11:45\", \"tweet_count\": 0.6698441882849855, \"emoji\": \"\\ud83d\\udd25\"}, {\"Unnamed: 0\": 26, \"datetime\": \"2017-08-27T00:12:00\", \"tweet_count\": 0.7387978035778126, \"emoji\": \"\\ud83d\\udd25\"}, {\"Unnamed: 0\": 27, \"datetime\": \"2017-08-27T00:12:15\", \"tweet_count\": 0.8020207513549176, \"emoji\": \"\\ud83d\\udd25\"}, {\"Unnamed: 0\": 28, \"datetime\": \"2017-08-27T00:12:30\", \"tweet_count\": 0.836844339126946, \"emoji\": \"\\ud83d\\udd25\"}, {\"Unnamed: 0\": 29, \"datetime\": \"2017-08-27T00:12:45\", \"tweet_count\": 0.8261166778569882, \"emoji\": \"\\ud83d\\udd25\"}, {\"Unnamed: 0\": 30, \"datetime\": \"2017-08-27T00:13:00\", \"tweet_count\": 0.8089647188894561, \"emoji\": \"\\ud83d\\udd25\"}, {\"Unnamed: 0\": 31, \"datetime\": \"2017-08-27T00:13:15\", \"tweet_count\": 0.892433142315519, \"emoji\": \"\\ud83d\\udd25\"}, {\"Unnamed: 0\": 32, \"datetime\": \"2017-08-27T00:13:30\", \"tweet_count\": 0.94923789380444, \"emoji\": \"\\ud83d\\udd25\"}, {\"Unnamed: 0\": 33, \"datetime\": \"2017-08-27T00:13:45\", \"tweet_count\": 0.9930421180150252, \"emoji\": \"\\ud83d\\udd25\"}, {\"Unnamed: 0\": 34, \"datetime\": \"2017-08-27T00:14:00\", \"tweet_count\": 1.1432033824988928, \"emoji\": \"\\ud83d\\udd25\"}, {\"Unnamed: 0\": 35, \"datetime\": \"2017-08-27T00:14:15\", \"tweet_count\": 1.1473507181075844, \"emoji\": \"\\ud83d\\udd25\"}, {\"Unnamed: 0\": 36, \"datetime\": \"2017-08-27T00:14:30\", \"tweet_count\": 1.234722157974044, \"emoji\": \"\\ud83d\\udd25\"}, {\"Unnamed: 0\": 37, \"datetime\": \"2017-08-27T00:14:45\", \"tweet_count\": 1.2734653124095885, \"emoji\": \"\\ud83d\\udd25\"}, {\"Unnamed: 0\": 38, \"datetime\": \"2017-08-27T00:15:00\", \"tweet_count\": 1.216512235844554, \"emoji\": \"\\ud83d\\udd25\"}, {\"Unnamed: 0\": 39, \"datetime\": \"2017-08-27T00:15:15\", \"tweet_count\": 1.915239605243528, \"emoji\": \"\\ud83d\\udd25\"}, {\"Unnamed: 0\": 40, \"datetime\": \"2017-08-27T00:15:30\", \"tweet_count\": 1.9434713770932657, \"emoji\": \"\\ud83d\\udd25\"}, {\"Unnamed: 0\": 41, \"datetime\": \"2017-08-27T00:15:45\", \"tweet_count\": 1.9471357174878057, \"emoji\": \"\\ud83d\\udd25\"}, {\"Unnamed: 0\": 42, \"datetime\": \"2017-08-27T00:16:00\", \"tweet_count\": 1.8961416963625168, \"emoji\": \"\\ud83d\\udd25\"}, {\"Unnamed: 0\": 43, \"datetime\": \"2017-08-27T00:16:15\", \"tweet_count\": 1.8368429273607272, \"emoji\": \"\\ud83d\\udd25\"}, {\"Unnamed: 0\": 44, \"datetime\": \"2017-08-27T00:16:30\", \"tweet_count\": 1.8515863159577235, \"emoji\": \"\\ud83d\\udd25\"}, {\"Unnamed: 0\": 45, \"datetime\": \"2017-08-27T00:16:45\", \"tweet_count\": 1.8503905174634117, \"emoji\": \"\\ud83d\\udd25\"}, {\"Unnamed: 0\": 46, \"datetime\": \"2017-08-27T00:17:00\", \"tweet_count\": 1.8655884083887584, \"emoji\": \"\\ud83d\\udd25\"}, {\"Unnamed: 0\": 47, \"datetime\": \"2017-08-27T00:17:15\", \"tweet_count\": 1.7795032655526537, \"emoji\": \"\\ud83d\\udd25\"}, {\"Unnamed: 0\": 48, \"datetime\": \"2017-08-27T00:17:30\", \"tweet_count\": 1.7599455099721772, \"emoji\": \"\\ud83d\\udd25\"}, {\"Unnamed: 0\": 49, \"datetime\": \"2017-08-27T00:17:45\", \"tweet_count\": 1.76511031707629, \"emoji\": \"\\ud83d\\udd25\"}, {\"Unnamed: 0\": 50, \"datetime\": \"2017-08-27T00:18:00\", \"tweet_count\": 1.6744024787519098, \"emoji\": \"\\ud83d\\udd25\"}, {\"Unnamed: 0\": 51, \"datetime\": \"2017-08-27T00:18:15\", \"tweet_count\": 1.6005107186381728, \"emoji\": \"\\ud83d\\udd25\"}, {\"Unnamed: 0\": 52, \"datetime\": \"2017-08-27T00:18:30\", \"tweet_count\": 1.513046916943587, \"emoji\": \"\\ud83d\\udd25\"}, {\"Unnamed: 0\": 53, \"datetime\": \"2017-08-27T00:18:45\", \"tweet_count\": 1.466148953039772, \"emoji\": \"\\ud83d\\udd25\"}, {\"Unnamed: 0\": 54, \"datetime\": \"2017-08-27T00:19:00\", \"tweet_count\": 1.450729959058772, \"emoji\": \"\\ud83d\\udd25\"}, {\"Unnamed: 0\": 55, \"datetime\": \"2017-08-27T00:19:15\", \"tweet_count\": 0.6327770671992983, \"emoji\": \"\\ud83d\\udd25\"}, {\"Unnamed: 0\": 56, \"datetime\": \"2017-08-27T00:19:30\", \"tweet_count\": 0.6632181721645958, \"emoji\": \"\\ud83d\\udd25\"}, {\"Unnamed: 0\": 57, \"datetime\": \"2017-08-27T00:19:45\", \"tweet_count\": 0.6368882915776269, \"emoji\": \"\\ud83d\\udd25\"}, {\"Unnamed: 0\": 58, \"datetime\": \"2017-08-27T00:20:00\", \"tweet_count\": 0.5963594612976465, \"emoji\": \"\\ud83d\\udd25\"}, {\"Unnamed: 0\": 59, \"datetime\": \"2017-08-27T00:20:15\", \"tweet_count\": 0.6419140554683758, \"emoji\": \"\\ud83d\\udd25\"}, {\"Unnamed: 0\": 60, \"datetime\": \"2017-08-27T00:20:30\", \"tweet_count\": 0.6865083770515079, \"emoji\": \"\\ud83d\\udd25\"}, {\"Unnamed: 0\": 61, \"datetime\": \"2017-08-27T00:20:45\", \"tweet_count\": 0.6949073499969847, \"emoji\": \"\\ud83d\\udd25\"}, {\"Unnamed: 0\": 62, \"datetime\": \"2017-08-27T00:21:00\", \"tweet_count\": 0.6747920219950321, \"emoji\": \"\\ud83d\\udd25\"}, {\"Unnamed: 0\": 63, \"datetime\": \"2017-08-27T00:21:15\", \"tweet_count\": 0.6744635381023814, \"emoji\": \"\\ud83d\\udd25\"}, {\"Unnamed: 0\": 64, \"datetime\": \"2017-08-27T00:21:30\", \"tweet_count\": 0.6219627389290373, \"emoji\": \"\\ud83d\\udd25\"}, {\"Unnamed: 0\": 65, \"datetime\": \"2017-08-27T00:21:45\", \"tweet_count\": 0.591395339773271, \"emoji\": \"\\ud83d\\udd25\"}, {\"Unnamed: 0\": 66, \"datetime\": \"2017-08-27T00:22:00\", \"tweet_count\": 0.5898525649417667, \"emoji\": \"\\ud83d\\udd25\"}, {\"Unnamed: 0\": 67, \"datetime\": \"2017-08-27T00:22:15\", \"tweet_count\": 0.5910540180467326, \"emoji\": \"\\ud83d\\udd25\"}, {\"Unnamed: 0\": 68, \"datetime\": \"2017-08-27T00:22:30\", \"tweet_count\": 0.5824370761019864, \"emoji\": \"\\ud83d\\udd25\"}, {\"Unnamed: 0\": 69, \"datetime\": \"2017-08-27T00:22:45\", \"tweet_count\": 0.516584740226722, \"emoji\": \"\\ud83d\\udd25\"}, {\"Unnamed: 0\": 70, \"datetime\": \"2017-08-27T00:23:00\", \"tweet_count\": 0.4916949802941192, \"emoji\": \"\\ud83d\\udd25\"}, {\"Unnamed: 0\": 71, \"datetime\": \"2017-08-27T00:23:15\", \"tweet_count\": 0.4511197618996944, \"emoji\": \"\\ud83d\\udd25\"}, {\"Unnamed: 0\": 72, \"datetime\": \"2017-08-27T00:23:30\", \"tweet_count\": 0.3692213138776787, \"emoji\": \"\\ud83d\\udd25\"}, {\"Unnamed: 0\": 73, \"datetime\": \"2017-08-27T00:23:45\", \"tweet_count\": 0.3513366921656733, \"emoji\": \"\\ud83d\\udd25\"}, {\"Unnamed: 0\": 74, \"datetime\": \"2017-08-27T00:24:00\", \"tweet_count\": 0.3460170158790759, \"emoji\": \"\\ud83d\\udd25\"}, {\"Unnamed: 0\": 75, \"datetime\": \"2017-08-27T00:24:15\", \"tweet_count\": 0.2848074418677471, \"emoji\": \"\\ud83d\\udd25\"}, {\"Unnamed: 0\": 76, \"datetime\": \"2017-08-27T00:24:30\", \"tweet_count\": 0.1879790889250779, \"emoji\": \"\\ud83d\\udd25\"}, {\"Unnamed: 0\": 77, \"datetime\": \"2017-08-27T00:24:45\", \"tweet_count\": 0.1549432038562863, \"emoji\": \"\\ud83d\\udd25\"}, {\"Unnamed: 0\": 78, \"datetime\": \"2017-08-27T00:25:00\", \"tweet_count\": 0.1922335104137493, \"emoji\": \"\\ud83d\\udd25\"}, {\"Unnamed: 0\": 79, \"datetime\": \"2017-08-27T00:25:15\", \"tweet_count\": 0.2267846090651596, \"emoji\": \"\\ud83d\\udd25\"}, {\"Unnamed: 0\": 80, \"datetime\": \"2017-08-27T00:25:30\", \"tweet_count\": 0.2530724909393364, \"emoji\": \"\\ud83d\\udd25\"}, {\"Unnamed: 0\": 81, \"datetime\": \"2017-08-27T00:25:45\", \"tweet_count\": 0.2477130699257566, \"emoji\": \"\\ud83d\\udd25\"}, {\"Unnamed: 0\": 82, \"datetime\": \"2017-08-27T00:26:00\", \"tweet_count\": 0.2282856632506542, \"emoji\": \"\\ud83d\\udd25\"}, {\"Unnamed: 0\": 83, \"datetime\": \"2017-08-27T00:26:15\", \"tweet_count\": 0.2203108263818674, \"emoji\": \"\\ud83d\\udd25\"}, {\"Unnamed: 0\": 84, \"datetime\": \"2017-08-27T00:26:30\", \"tweet_count\": 0.2200826529821959, \"emoji\": \"\\ud83d\\udd25\"}, {\"Unnamed: 0\": 85, \"datetime\": \"2017-08-27T00:26:45\", \"tweet_count\": 0.2238729649247443, \"emoji\": \"\\ud83d\\udd25\"}, {\"Unnamed: 0\": 86, \"datetime\": \"2017-08-27T00:27:00\", \"tweet_count\": 0.2255826969560677, \"emoji\": \"\\ud83d\\udd25\"}, {\"Unnamed: 0\": 87, \"datetime\": \"2017-08-27T00:27:15\", \"tweet_count\": 0.2556384946953188, \"emoji\": \"\\ud83d\\udd25\"}, {\"Unnamed: 0\": 88, \"datetime\": \"2017-08-27T00:27:30\", \"tweet_count\": 0.2720779852017447, \"emoji\": \"\\ud83d\\udd25\"}, {\"Unnamed: 0\": 89, \"datetime\": \"2017-08-27T00:27:45\", \"tweet_count\": 0.2661759792856413, \"emoji\": \"\\ud83d\\udd25\"}, {\"Unnamed: 0\": 90, \"datetime\": \"2017-08-27T00:28:00\", \"tweet_count\": 0.2637031296688328, \"emoji\": \"\\ud83d\\udd25\"}, {\"Unnamed: 0\": 91, \"datetime\": \"2017-08-27T00:28:15\", \"tweet_count\": 0.2742624431254443, \"emoji\": \"\\ud83d\\udd25\"}, {\"Unnamed: 0\": 92, \"datetime\": \"2017-08-27T00:28:30\", \"tweet_count\": 0.2892579722681803, \"emoji\": \"\\ud83d\\udd25\"}, {\"Unnamed: 0\": 93, \"datetime\": \"2017-08-27T00:28:45\", \"tweet_count\": 0.3529394306417625, \"emoji\": \"\\ud83d\\udd25\"}, {\"Unnamed: 0\": 94, \"datetime\": \"2017-08-27T00:29:00\", \"tweet_count\": 0.2975433556908763, \"emoji\": \"\\ud83d\\udd25\"}, {\"Unnamed: 0\": 95, \"datetime\": \"2017-08-27T00:29:15\", \"tweet_count\": 0.261941487802269, \"emoji\": \"\\ud83d\\udd25\"}, {\"Unnamed: 0\": 96, \"datetime\": \"2017-08-27T00:29:30\", \"tweet_count\": 0.249461990264561, \"emoji\": \"\\ud83d\\udd25\"}, {\"Unnamed: 0\": 97, \"datetime\": \"2017-08-27T00:29:45\", \"tweet_count\": 0.2911186822250448, \"emoji\": \"\\ud83d\\udd25\"}, {\"Unnamed: 0\": 98, \"datetime\": \"2017-08-27T00:30:00\", \"tweet_count\": 0.295401552929635, \"emoji\": \"\\ud83d\\udd25\"}, {\"Unnamed: 0\": 99, \"datetime\": \"2017-08-27T00:30:15\", \"tweet_count\": 0.2942561132643585, \"emoji\": \"\\ud83d\\udd25\"}, {\"Unnamed: 0\": 100, \"datetime\": \"2017-08-27T00:30:30\", \"tweet_count\": 0.2972676495328362, \"emoji\": \"\\ud83d\\udd25\"}, {\"Unnamed: 0\": 101, \"datetime\": \"2017-08-27T00:30:45\", \"tweet_count\": 0.2949551893941304, \"emoji\": \"\\ud83d\\udd25\"}, {\"Unnamed: 0\": 102, \"datetime\": \"2017-08-27T00:31:00\", \"tweet_count\": 0.2923620713276363, \"emoji\": \"\\ud83d\\udd25\"}, {\"Unnamed: 0\": 103, \"datetime\": \"2017-08-27T00:31:15\", \"tweet_count\": 0.2703668018222294, \"emoji\": \"\\ud83d\\udd25\"}, {\"Unnamed: 0\": 104, \"datetime\": \"2017-08-27T00:31:30\", \"tweet_count\": 0.2929338057174031, \"emoji\": \"\\ud83d\\udd25\"}, {\"Unnamed: 0\": 105, \"datetime\": \"2017-08-27T00:31:45\", \"tweet_count\": 0.3103651856908501, \"emoji\": \"\\ud83d\\udd25\"}, {\"Unnamed: 0\": 106, \"datetime\": \"2017-08-27T00:32:00\", \"tweet_count\": 0.3040764592425823, \"emoji\": \"\\ud83d\\udd25\"}, {\"Unnamed: 0\": 107, \"datetime\": \"2017-08-27T00:32:15\", \"tweet_count\": 0.3635425166902908, \"emoji\": \"\\ud83d\\udd25\"}, {\"Unnamed: 0\": 108, \"datetime\": \"2017-08-27T00:32:30\", \"tweet_count\": 0.3886362368848949, \"emoji\": \"\\ud83d\\udd25\"}, {\"Unnamed: 0\": 109, \"datetime\": \"2017-08-27T00:32:45\", \"tweet_count\": 0.3372318980242345, \"emoji\": \"\\ud83d\\udd25\"}, {\"Unnamed: 0\": 110, \"datetime\": \"2017-08-27T00:33:00\", \"tweet_count\": 0.4161398694555861, \"emoji\": \"\\ud83d\\udd25\"}, {\"Unnamed: 0\": 111, \"datetime\": \"2017-08-27T00:33:15\", \"tweet_count\": 0.3956932188652896, \"emoji\": \"\\ud83d\\udd25\"}, {\"Unnamed: 0\": 112, \"datetime\": \"2017-08-27T00:33:30\", \"tweet_count\": 0.3972004798822011, \"emoji\": \"\\ud83d\\udd25\"}, {\"Unnamed: 0\": 113, \"datetime\": \"2017-08-27T00:33:45\", \"tweet_count\": 0.3726510978531521, \"emoji\": \"\\ud83d\\udd25\"}, {\"Unnamed: 0\": 114, \"datetime\": \"2017-08-27T00:34:00\", \"tweet_count\": 0.3738029011846543, \"emoji\": \"\\ud83d\\udd25\"}, {\"Unnamed: 0\": 115, \"datetime\": \"2017-08-27T00:34:15\", \"tweet_count\": 0.4323101024719908, \"emoji\": \"\\ud83d\\udd25\"}, {\"Unnamed: 0\": 116, \"datetime\": \"2017-08-27T00:34:30\", \"tweet_count\": 0.4583682521431717, \"emoji\": \"\\ud83d\\udd25\"}, {\"Unnamed: 0\": 117, \"datetime\": \"2017-08-27T00:34:45\", \"tweet_count\": 0.4554835577861119, \"emoji\": \"\\ud83d\\udd25\"}, {\"Unnamed: 0\": 118, \"datetime\": \"2017-08-27T00:35:00\", \"tweet_count\": 0.459844125428424, \"emoji\": \"\\ud83d\\udd25\"}, {\"Unnamed: 0\": 119, \"datetime\": \"2017-08-27T00:35:15\", \"tweet_count\": 0.4416507326863663, \"emoji\": \"\\ud83d\\udd25\"}, {\"Unnamed: 0\": 120, \"datetime\": \"2017-08-27T00:35:30\", \"tweet_count\": 0.4110470962325338, \"emoji\": \"\\ud83d\\udd25\"}, {\"Unnamed: 0\": 121, \"datetime\": \"2017-08-27T00:35:45\", \"tweet_count\": 0.4925441544003949, \"emoji\": \"\\ud83d\\udd25\"}, {\"Unnamed: 0\": 122, \"datetime\": \"2017-08-27T00:36:00\", \"tweet_count\": 0.5881455336529902, \"emoji\": \"\\ud83d\\udd25\"}, {\"Unnamed: 0\": 123, \"datetime\": \"2017-08-27T00:36:15\", \"tweet_count\": 0.5386364045253973, \"emoji\": \"\\ud83d\\udd25\"}, {\"Unnamed: 0\": 124, \"datetime\": \"2017-08-27T00:36:30\", \"tweet_count\": 0.4999174992594543, \"emoji\": \"\\ud83d\\udd25\"}, {\"Unnamed: 0\": 125, \"datetime\": \"2017-08-27T00:36:45\", \"tweet_count\": 0.4553261571948274, \"emoji\": \"\\ud83d\\udd25\"}, {\"Unnamed: 0\": 126, \"datetime\": \"2017-08-27T00:37:00\", \"tweet_count\": 0.4075674196717327, \"emoji\": \"\\ud83d\\udd25\"}, {\"Unnamed: 0\": 127, \"datetime\": \"2017-08-27T00:37:15\", \"tweet_count\": 0.4128714229230433, \"emoji\": \"\\ud83d\\udd25\"}, {\"Unnamed: 0\": 128, \"datetime\": \"2017-08-27T00:37:30\", \"tweet_count\": 0.4142350693012669, \"emoji\": \"\\ud83d\\udd25\"}, {\"Unnamed: 0\": 129, \"datetime\": \"2017-08-27T00:37:45\", \"tweet_count\": 0.4323024592784335, \"emoji\": \"\\ud83d\\udd25\"}, {\"Unnamed: 0\": 130, \"datetime\": \"2017-08-27T00:38:00\", \"tweet_count\": 0.5193477359784444, \"emoji\": \"\\ud83d\\udd25\"}, {\"Unnamed: 0\": 131, \"datetime\": \"2017-08-27T00:38:15\", \"tweet_count\": 0.4920058397226349, \"emoji\": \"\\ud83d\\udd25\"}, {\"Unnamed: 0\": 132, \"datetime\": \"2017-08-27T00:38:30\", \"tweet_count\": 0.4958341557656267, \"emoji\": \"\\ud83d\\udd25\"}, {\"Unnamed: 0\": 133, \"datetime\": \"2017-08-27T00:38:45\", \"tweet_count\": 0.5132531233926863, \"emoji\": \"\\ud83d\\udd25\"}, {\"Unnamed: 0\": 134, \"datetime\": \"2017-08-27T00:39:00\", \"tweet_count\": 0.5567065268712968, \"emoji\": \"\\ud83d\\udd25\"}, {\"Unnamed: 0\": 135, \"datetime\": \"2017-08-27T00:39:15\", \"tweet_count\": 0.594099643261476, \"emoji\": \"\\ud83d\\udd25\"}, {\"Unnamed: 0\": 136, \"datetime\": \"2017-08-27T00:39:30\", \"tweet_count\": 0.5779527506750369, \"emoji\": \"\\ud83d\\udd25\"}, {\"Unnamed: 0\": 137, \"datetime\": \"2017-08-27T00:39:45\", \"tweet_count\": 0.5459327540239343, \"emoji\": \"\\ud83d\\udd25\"}, {\"Unnamed: 0\": 138, \"datetime\": \"2017-08-27T00:40:00\", \"tweet_count\": 0.461148519679585, \"emoji\": \"\\ud83d\\udd25\"}, {\"Unnamed: 0\": 139, \"datetime\": \"2017-08-27T00:40:15\", \"tweet_count\": 0.4501263524250106, \"emoji\": \"\\ud83d\\udd25\"}, {\"Unnamed: 0\": 140, \"datetime\": \"2017-08-27T00:40:30\", \"tweet_count\": 0.4773648898571947, \"emoji\": \"\\ud83d\\udd25\"}, {\"Unnamed: 0\": 141, \"datetime\": \"2017-08-27T00:40:45\", \"tweet_count\": 0.4762957106965668, \"emoji\": \"\\ud83d\\udd25\"}, {\"Unnamed: 0\": 142, \"datetime\": \"2017-08-27T00:41:00\", \"tweet_count\": 0.4401429384904154, \"emoji\": \"\\ud83d\\udd25\"}, {\"Unnamed: 0\": 143, \"datetime\": \"2017-08-27T00:41:15\", \"tweet_count\": 0.4419788939426688, \"emoji\": \"\\ud83d\\udd25\"}, {\"Unnamed: 0\": 144, \"datetime\": \"2017-08-27T00:41:30\", \"tweet_count\": 0.4638984603800732, \"emoji\": \"\\ud83d\\udd25\"}, {\"Unnamed: 0\": 145, \"datetime\": \"2017-08-27T00:41:45\", \"tweet_count\": 0.4694426209624097, \"emoji\": \"\\ud83d\\udd25\"}, {\"Unnamed: 0\": 146, \"datetime\": \"2017-08-27T00:42:00\", \"tweet_count\": 0.3821207634775788, \"emoji\": \"\\ud83d\\udd25\"}, {\"Unnamed: 0\": 147, \"datetime\": \"2017-08-27T00:42:15\", \"tweet_count\": 0.3675814867915156, \"emoji\": \"\\ud83d\\udd25\"}, {\"Unnamed: 0\": 148, \"datetime\": \"2017-08-27T00:42:30\", \"tweet_count\": 0.3370812489185675, \"emoji\": \"\\ud83d\\udd25\"}, {\"Unnamed: 0\": 149, \"datetime\": \"2017-08-27T00:42:45\", \"tweet_count\": 0.3368730249306009, \"emoji\": \"\\ud83d\\udd25\"}, {\"Unnamed: 0\": 150, \"datetime\": \"2017-08-27T00:43:00\", \"tweet_count\": 0.2991054278706078, \"emoji\": \"\\ud83d\\udd25\"}, {\"Unnamed: 0\": 151, \"datetime\": \"2017-08-27T00:43:15\", \"tweet_count\": 0.2835979702881729, \"emoji\": \"\\ud83d\\udd25\"}, {\"Unnamed: 0\": 152, \"datetime\": \"2017-08-27T00:43:30\", \"tweet_count\": 0.2848715991383473, \"emoji\": \"\\ud83d\\udd25\"}, {\"Unnamed: 0\": 153, \"datetime\": \"2017-08-27T00:43:45\", \"tweet_count\": 0.2850792057745248, \"emoji\": \"\\ud83d\\udd25\"}, {\"Unnamed: 0\": 154, \"datetime\": \"2017-08-27T00:44:00\", \"tweet_count\": 0.3076967800227437, \"emoji\": \"\\ud83d\\udd25\"}, {\"Unnamed: 0\": 155, \"datetime\": \"2017-08-27T00:44:15\", \"tweet_count\": 0.3300229062652197, \"emoji\": \"\\ud83d\\udd25\"}, {\"Unnamed: 0\": 156, \"datetime\": \"2017-08-27T00:44:30\", \"tweet_count\": 0.3564440507836424, \"emoji\": \"\\ud83d\\udd25\"}, {\"Unnamed: 0\": 157, \"datetime\": \"2017-08-27T00:44:45\", \"tweet_count\": 0.3674937104289805, \"emoji\": \"\\ud83d\\udd25\"}, {\"Unnamed: 0\": 158, \"datetime\": \"2017-08-27T00:45:00\", \"tweet_count\": 0.3659345273910407, \"emoji\": \"\\ud83d\\udd25\"}, {\"Unnamed: 0\": 159, \"datetime\": \"2017-08-27T00:45:15\", \"tweet_count\": 0.4225399026275239, \"emoji\": \"\\ud83d\\udd25\"}, {\"Unnamed: 0\": 160, \"datetime\": \"2017-08-27T00:45:30\", \"tweet_count\": 0.3956687464346552, \"emoji\": \"\\ud83d\\udd25\"}, {\"Unnamed: 0\": 161, \"datetime\": \"2017-08-27T00:45:45\", \"tweet_count\": 0.391142564307363, \"emoji\": \"\\ud83d\\udd25\"}, {\"Unnamed: 0\": 162, \"datetime\": \"2017-08-27T00:46:00\", \"tweet_count\": 0.4094284088863129, \"emoji\": \"\\ud83d\\udd25\"}, {\"Unnamed: 0\": 163, \"datetime\": \"2017-08-27T00:46:15\", \"tweet_count\": 0.4307958263275911, \"emoji\": \"\\ud83d\\udd25\"}, {\"Unnamed: 0\": 164, \"datetime\": \"2017-08-27T00:46:30\", \"tweet_count\": 0.4601761225531754, \"emoji\": \"\\ud83d\\udd25\"}, {\"Unnamed: 0\": 165, \"datetime\": \"2017-08-27T00:46:45\", \"tweet_count\": 0.4678328306563833, \"emoji\": \"\\ud83d\\udd25\"}, {\"Unnamed: 0\": 166, \"datetime\": \"2017-08-27T00:47:00\", \"tweet_count\": 0.4471628868082531, \"emoji\": \"\\ud83d\\udd25\"}, {\"Unnamed: 0\": 167, \"datetime\": \"2017-08-27T00:47:15\", \"tweet_count\": 0.477729833421588, \"emoji\": \"\\ud83d\\udd25\"}, {\"Unnamed: 0\": 168, \"datetime\": \"2017-08-27T00:47:30\", \"tweet_count\": 0.5802229917185353, \"emoji\": \"\\ud83d\\udd25\"}, {\"Unnamed: 0\": 169, \"datetime\": \"2017-08-27T00:47:45\", \"tweet_count\": 0.5654020849373023, \"emoji\": \"\\ud83d\\udd25\"}, {\"Unnamed: 0\": 170, \"datetime\": \"2017-08-27T00:48:00\", \"tweet_count\": 0.5412536711797654, \"emoji\": \"\\ud83d\\udd25\"}, {\"Unnamed: 0\": 171, \"datetime\": \"2017-08-27T00:48:15\", \"tweet_count\": 0.5011239936073102, \"emoji\": \"\\ud83d\\udd25\"}, {\"Unnamed: 0\": 172, \"datetime\": \"2017-08-27T00:48:30\", \"tweet_count\": 0.4620684210664064, \"emoji\": \"\\ud83d\\udd25\"}, {\"Unnamed: 0\": 173, \"datetime\": \"2017-08-27T00:48:45\", \"tweet_count\": 0.4710447027300619, \"emoji\": \"\\ud83d\\udd25\"}, {\"Unnamed: 0\": 174, \"datetime\": \"2017-08-27T00:49:00\", \"tweet_count\": 0.4996375461571483, \"emoji\": \"\\ud83d\\udd25\"}, {\"Unnamed: 0\": 175, \"datetime\": \"2017-08-27T00:49:15\", \"tweet_count\": 0.4648760660512333, \"emoji\": \"\\ud83d\\udd25\"}, {\"Unnamed: 0\": 176, \"datetime\": \"2017-08-27T00:49:30\", \"tweet_count\": 0.4435172828968531, \"emoji\": \"\\ud83d\\udd25\"}, {\"Unnamed: 0\": 177, \"datetime\": \"2017-08-27T00:49:45\", \"tweet_count\": 0.5307460895395271, \"emoji\": \"\\ud83d\\udd25\"}, {\"Unnamed: 0\": 178, \"datetime\": \"2017-08-27T00:50:00\", \"tweet_count\": 0.5367990689093564, \"emoji\": \"\\ud83d\\udd25\"}, {\"Unnamed: 0\": 179, \"datetime\": \"2017-08-27T00:50:15\", \"tweet_count\": 0.5214899993514556, \"emoji\": \"\\ud83d\\udd25\"}, {\"Unnamed: 0\": 180, \"datetime\": \"2017-08-27T00:50:30\", \"tweet_count\": 0.5064082538702966, \"emoji\": \"\\ud83d\\udd25\"}, {\"Unnamed: 0\": 181, \"datetime\": \"2017-08-27T00:50:45\", \"tweet_count\": 0.5052703474334462, \"emoji\": \"\\ud83d\\udd25\"}, {\"Unnamed: 0\": 182, \"datetime\": \"2017-08-27T00:51:00\", \"tweet_count\": 0.5479025057082404, \"emoji\": \"\\ud83d\\udd25\"}, {\"Unnamed: 0\": 183, \"datetime\": \"2017-08-27T00:51:15\", \"tweet_count\": 0.5138818859503584, \"emoji\": \"\\ud83d\\udd25\"}, {\"Unnamed: 0\": 184, \"datetime\": \"2017-08-27T00:51:30\", \"tweet_count\": 0.4393301634688155, \"emoji\": \"\\ud83d\\udd25\"}, {\"Unnamed: 0\": 185, \"datetime\": \"2017-08-27T00:51:45\", \"tweet_count\": 0.4854623248006081, \"emoji\": \"\\ud83d\\udd25\"}, {\"Unnamed: 0\": 186, \"datetime\": \"2017-08-27T00:52:00\", \"tweet_count\": 0.5893223955718089, \"emoji\": \"\\ud83d\\udd25\"}, {\"Unnamed: 0\": 187, \"datetime\": \"2017-08-27T00:52:15\", \"tweet_count\": 0.6238024508960027, \"emoji\": \"\\ud83d\\udd25\"}, {\"Unnamed: 0\": 188, \"datetime\": \"2017-08-27T00:52:30\", \"tweet_count\": 0.682574871346253, \"emoji\": \"\\ud83d\\udd25\"}, {\"Unnamed: 0\": 189, \"datetime\": \"2017-08-27T00:52:45\", \"tweet_count\": 0.6870184977379528, \"emoji\": \"\\ud83d\\udd25\"}, {\"Unnamed: 0\": 190, \"datetime\": \"2017-08-27T00:53:00\", \"tweet_count\": 0.6881442560169779, \"emoji\": \"\\ud83d\\udd25\"}, {\"Unnamed: 0\": 191, \"datetime\": \"2017-08-27T00:53:15\", \"tweet_count\": 0.7691183358286795, \"emoji\": \"\\ud83d\\udd25\"}, {\"Unnamed: 0\": 192, \"datetime\": \"2017-08-27T00:53:30\", \"tweet_count\": 0.7758617774056222, \"emoji\": \"\\ud83d\\udd25\"}, {\"Unnamed: 0\": 193, \"datetime\": \"2017-08-27T00:53:45\", \"tweet_count\": 0.717181115434815, \"emoji\": \"\\ud83d\\udd25\"}, {\"Unnamed: 0\": 194, \"datetime\": \"2017-08-27T00:54:00\", \"tweet_count\": 0.7240082423249948, \"emoji\": \"\\ud83d\\udd25\"}, {\"Unnamed: 0\": 195, \"datetime\": \"2017-08-27T00:54:15\", \"tweet_count\": 0.7012262801926452, \"emoji\": \"\\ud83d\\udd25\"}, {\"Unnamed: 0\": 196, \"datetime\": \"2017-08-27T00:54:30\", \"tweet_count\": 0.7016826738708503, \"emoji\": \"\\ud83d\\udd25\"}, {\"Unnamed: 0\": 197, \"datetime\": \"2017-08-27T00:54:45\", \"tweet_count\": 0.6940628486198048, \"emoji\": \"\\ud83d\\udd25\"}, {\"Unnamed: 0\": 198, \"datetime\": \"2017-08-27T00:55:00\", \"tweet_count\": 0.7086885589685223, \"emoji\": \"\\ud83d\\udd25\"}, {\"Unnamed: 0\": 199, \"datetime\": \"2017-08-27T00:55:15\", \"tweet_count\": 0.7664489315665262, \"emoji\": \"\\ud83d\\udd25\"}, {\"Unnamed: 0\": 200, \"datetime\": \"2017-08-27T00:55:30\", \"tweet_count\": 0.7793181951054176, \"emoji\": \"\\ud83d\\udd25\"}, {\"Unnamed: 0\": 201, \"datetime\": \"2017-08-27T00:55:45\", \"tweet_count\": 0.7738440711429174, \"emoji\": \"\\ud83d\\udd25\"}, {\"Unnamed: 0\": 202, \"datetime\": \"2017-08-27T00:56:00\", \"tweet_count\": 0.6887824331247038, \"emoji\": \"\\ud83d\\udd25\"}, {\"Unnamed: 0\": 203, \"datetime\": \"2017-08-27T00:56:15\", \"tweet_count\": 0.7762090385009711, \"emoji\": \"\\ud83d\\udd25\"}, {\"Unnamed: 0\": 204, \"datetime\": \"2017-08-27T00:56:30\", \"tweet_count\": 0.8460528711215283, \"emoji\": \"\\ud83d\\udd25\"}, {\"Unnamed: 0\": 205, \"datetime\": \"2017-08-27T00:56:45\", \"tweet_count\": 0.8676327699606015, \"emoji\": \"\\ud83d\\udd25\"}, {\"Unnamed: 0\": 206, \"datetime\": \"2017-08-27T00:57:00\", \"tweet_count\": 0.9054295496990749, \"emoji\": \"\\ud83d\\udd25\"}, {\"Unnamed: 0\": 207, \"datetime\": \"2017-08-27T00:57:15\", \"tweet_count\": 0.8406771676328164, \"emoji\": \"\\ud83d\\udd25\"}, {\"Unnamed: 0\": 208, \"datetime\": \"2017-08-27T00:57:30\", \"tweet_count\": 0.8386243772743064, \"emoji\": \"\\ud83d\\udd25\"}, {\"Unnamed: 0\": 209, \"datetime\": \"2017-08-27T00:57:45\", \"tweet_count\": 0.8369374022967173, \"emoji\": \"\\ud83d\\udd25\"}, {\"Unnamed: 0\": 210, \"datetime\": \"2017-08-27T00:58:00\", \"tweet_count\": 0.8426105275327377, \"emoji\": \"\\ud83d\\udd25\"}, {\"Unnamed: 0\": 211, \"datetime\": \"2017-08-27T00:58:15\", \"tweet_count\": 0.8473440655422377, \"emoji\": \"\\ud83d\\udd25\"}, {\"Unnamed: 0\": 212, \"datetime\": \"2017-08-27T00:58:30\", \"tweet_count\": 0.8297422838827418, \"emoji\": \"\\ud83d\\udd25\"}, {\"Unnamed: 0\": 213, \"datetime\": \"2017-08-27T00:58:45\", \"tweet_count\": 0.8826509996765166, \"emoji\": \"\\ud83d\\udd25\"}, {\"Unnamed: 0\": 214, \"datetime\": \"2017-08-27T00:59:00\", \"tweet_count\": 0.9055798952965198, \"emoji\": \"\\ud83d\\udd25\"}, {\"Unnamed: 0\": 215, \"datetime\": \"2017-08-27T00:59:15\", \"tweet_count\": 0.8221128146695054, \"emoji\": \"\\ud83d\\udd25\"}, {\"Unnamed: 0\": 216, \"datetime\": \"2017-08-27T00:59:30\", \"tweet_count\": 0.7974173540550279, \"emoji\": \"\\ud83d\\udd25\"}, {\"Unnamed: 0\": 217, \"datetime\": \"2017-08-27T00:59:45\", \"tweet_count\": 0.7526833929711331, \"emoji\": \"\\ud83d\\udd25\"}, {\"Unnamed: 0\": 218, \"datetime\": \"2017-08-27T01:00:00\", \"tweet_count\": 0.7662721776081484, \"emoji\": \"\\ud83d\\udd25\"}, {\"Unnamed: 0\": 219, \"datetime\": \"2017-08-27T01:00:15\", \"tweet_count\": 0.7236737166337972, \"emoji\": \"\\ud83d\\udd25\"}, {\"Unnamed: 0\": 220, \"datetime\": \"2017-08-27T01:00:30\", \"tweet_count\": 0.5921706373031927, \"emoji\": \"\\ud83d\\udd25\"}, {\"Unnamed: 0\": 221, \"datetime\": \"2017-08-27T01:00:45\", \"tweet_count\": 0.5606612316250724, \"emoji\": \"\\ud83d\\udd25\"}, {\"Unnamed: 0\": 222, \"datetime\": \"2017-08-27T01:01:00\", \"tweet_count\": 0.5153137403686948, \"emoji\": \"\\ud83d\\udd25\"}, {\"Unnamed: 0\": 223, \"datetime\": \"2017-08-27T01:01:15\", \"tweet_count\": 0.4934438454443751, \"emoji\": \"\\ud83d\\udd25\"}, {\"Unnamed: 0\": 224, \"datetime\": \"2017-08-27T01:01:30\", \"tweet_count\": 0.4718999540640198, \"emoji\": \"\\ud83d\\udd25\"}, {\"Unnamed: 0\": 225, \"datetime\": \"2017-08-27T01:01:45\", \"tweet_count\": 0.4425369973431629, \"emoji\": \"\\ud83d\\udd25\"}, {\"Unnamed: 0\": 226, \"datetime\": \"2017-08-27T01:02:00\", \"tweet_count\": 0.4342750475548231, \"emoji\": \"\\ud83d\\udd25\"}, {\"Unnamed: 0\": 227, \"datetime\": \"2017-08-27T01:02:15\", \"tweet_count\": 0.454350989147292, \"emoji\": \"\\ud83d\\udd25\"}, {\"Unnamed: 0\": 228, \"datetime\": \"2017-08-27T01:02:30\", \"tweet_count\": 0.5115835122408366, \"emoji\": \"\\ud83d\\udd25\"}, {\"Unnamed: 0\": 229, \"datetime\": \"2017-08-27T01:02:45\", \"tweet_count\": 0.4859381271219194, \"emoji\": \"\\ud83d\\udd25\"}, {\"Unnamed: 0\": 230, \"datetime\": \"2017-08-27T01:03:00\", \"tweet_count\": 0.4440702023704506, \"emoji\": \"\\ud83d\\udd25\"}, {\"Unnamed: 0\": 231, \"datetime\": \"2017-08-27T01:03:15\", \"tweet_count\": 0.4495406960684869, \"emoji\": \"\\ud83d\\udd25\"}, {\"Unnamed: 0\": 232, \"datetime\": \"2017-08-27T01:03:30\", \"tweet_count\": 0.474708095837041, \"emoji\": \"\\ud83d\\udd25\"}, {\"Unnamed: 0\": 233, \"datetime\": \"2017-08-27T01:03:45\", \"tweet_count\": 0.4608573032961635, \"emoji\": \"\\ud83d\\udd25\"}, {\"Unnamed: 0\": 234, \"datetime\": \"2017-08-27T01:04:00\", \"tweet_count\": 0.44151180520978, \"emoji\": \"\\ud83d\\udd25\"}, {\"Unnamed: 0\": 235, \"datetime\": \"2017-08-27T01:04:15\", \"tweet_count\": 0.402344164161689, \"emoji\": \"\\ud83d\\udd25\"}, {\"Unnamed: 0\": 236, \"datetime\": \"2017-08-27T01:04:30\", \"tweet_count\": 0.3924071421129351, \"emoji\": \"\\ud83d\\udd25\"}, {\"Unnamed: 0\": 237, \"datetime\": \"2017-08-27T01:04:45\", \"tweet_count\": 0.3872741611163963, \"emoji\": \"\\ud83d\\udd25\"}, {\"Unnamed: 0\": 238, \"datetime\": \"2017-08-27T01:05:00\", \"tweet_count\": 0.3705046512372544, \"emoji\": \"\\ud83d\\udd25\"}, {\"Unnamed: 0\": 239, \"datetime\": \"2017-08-27T01:05:15\", \"tweet_count\": 0.439314897172962, \"emoji\": \"\\ud83d\\udd25\"}, {\"Unnamed: 0\": 240, \"datetime\": \"2017-08-27T01:05:30\", \"tweet_count\": 0.439329145466183, \"emoji\": \"\\ud83d\\udd25\"}, {\"Unnamed: 0\": 241, \"datetime\": \"2017-08-27T01:05:45\", \"tweet_count\": 0.4467277877942074, \"emoji\": \"\\ud83d\\udd25\"}, {\"Unnamed: 0\": 242, \"datetime\": \"2017-08-27T01:06:00\", \"tweet_count\": 0.4607076485547401, \"emoji\": \"\\ud83d\\udd25\"}, {\"Unnamed: 0\": 243, \"datetime\": \"2017-08-27T01:06:15\", \"tweet_count\": 0.4544144806178041, \"emoji\": \"\\ud83d\\udd25\"}, {\"Unnamed: 0\": 244, \"datetime\": \"2017-08-27T01:06:30\", \"tweet_count\": 0.3863667352584033, \"emoji\": \"\\ud83d\\udd25\"}, {\"Unnamed: 0\": 245, \"datetime\": \"2017-08-27T01:06:45\", \"tweet_count\": 0.3456074882915705, \"emoji\": \"\\ud83d\\udd25\"}, {\"Unnamed: 0\": 246, \"datetime\": \"2017-08-27T01:07:00\", \"tweet_count\": 0.3249355661837397, \"emoji\": \"\\ud83d\\udd25\"}, {\"Unnamed: 0\": 247, \"datetime\": \"2017-08-27T01:07:15\", \"tweet_count\": 0.3167538296803613, \"emoji\": \"\\ud83d\\udd25\"}, {\"Unnamed: 0\": 248, \"datetime\": \"2017-08-27T01:07:30\", \"tweet_count\": 0.2935099048864656, \"emoji\": \"\\ud83d\\udd25\"}, {\"Unnamed: 0\": 249, \"datetime\": \"2017-08-27T01:07:45\", \"tweet_count\": 0.2743656672226937, \"emoji\": \"\\ud83d\\udd25\"}, {\"Unnamed: 0\": 250, \"datetime\": \"2017-08-27T01:08:00\", \"tweet_count\": 0.2700882230101872, \"emoji\": \"\\ud83d\\udd25\"}, {\"Unnamed: 0\": 251, \"datetime\": \"2017-08-27T01:08:15\", \"tweet_count\": 0.2486967772096098, \"emoji\": \"\\ud83d\\udd25\"}, {\"Unnamed: 0\": 252, \"datetime\": \"2017-08-27T01:08:30\", \"tweet_count\": 0.343815056523912, \"emoji\": \"\\ud83d\\udd25\"}, {\"Unnamed: 0\": 253, \"datetime\": \"2017-08-27T01:08:45\", \"tweet_count\": 0.3563569367657468, \"emoji\": \"\\ud83d\\udd25\"}, {\"Unnamed: 0\": 254, \"datetime\": \"2017-08-27T01:09:00\", \"tweet_count\": 0.3548787505899141, \"emoji\": \"\\ud83d\\udd25\"}, {\"Unnamed: 0\": 255, \"datetime\": \"2017-08-27T01:09:15\", \"tweet_count\": 0.3424456886480493, \"emoji\": \"\\ud83d\\udd25\"}, {\"Unnamed: 0\": 256, \"datetime\": \"2017-08-27T01:09:30\", \"tweet_count\": 0.3813376935287921, \"emoji\": \"\\ud83d\\udd25\"}, {\"Unnamed: 0\": 257, \"datetime\": \"2017-08-27T01:09:45\", \"tweet_count\": 0.3749602822029157, \"emoji\": \"\\ud83d\\udd25\"}, {\"Unnamed: 0\": 258, \"datetime\": \"2017-08-27T01:10:00\", \"tweet_count\": 0.3319274205297312, \"emoji\": \"\\ud83d\\udd25\"}, {\"Unnamed: 0\": 259, \"datetime\": \"2017-08-27T01:10:15\", \"tweet_count\": 0.3196101818631214, \"emoji\": \"\\ud83d\\udd25\"}, {\"Unnamed: 0\": 260, \"datetime\": \"2017-08-27T01:10:30\", \"tweet_count\": 0.3503584480177132, \"emoji\": \"\\ud83d\\udd25\"}, {\"Unnamed: 0\": 261, \"datetime\": \"2017-08-27T01:10:45\", \"tweet_count\": 0.3508806230211836, \"emoji\": \"\\ud83d\\udd25\"}, {\"Unnamed: 0\": 262, \"datetime\": \"2017-08-27T01:11:00\", \"tweet_count\": 0.4064377894739337, \"emoji\": \"\\ud83d\\udd25\"}, {\"Unnamed: 0\": 263, \"datetime\": \"2017-08-27T01:11:15\", \"tweet_count\": 0.4030306161927612, \"emoji\": \"\\ud83d\\udd25\"}, {\"Unnamed: 0\": 264, \"datetime\": \"2017-08-27T01:11:30\", \"tweet_count\": 0.4162239736702758, \"emoji\": \"\\ud83d\\udd25\"}, {\"Unnamed: 0\": 265, \"datetime\": \"2017-08-27T01:11:45\", \"tweet_count\": 0.4591543397644873, \"emoji\": \"\\ud83d\\udd25\"}, {\"Unnamed: 0\": 266, \"datetime\": \"2017-08-27T01:12:00\", \"tweet_count\": 0.4708435987483377, \"emoji\": \"\\ud83d\\udd25\"}, {\"Unnamed: 0\": 267, \"datetime\": \"2017-08-27T01:12:15\", \"tweet_count\": null, \"emoji\": \"\\ud83d\\udd25\"}, {\"Unnamed: 0\": 268, \"datetime\": \"2017-08-27T01:12:30\", \"tweet_count\": 0.3878944076272375, \"emoji\": \"\\ud83d\\udd25\"}, {\"Unnamed: 0\": 269, \"datetime\": \"2017-08-27T01:12:45\", \"tweet_count\": 0.3771801078401408, \"emoji\": \"\\ud83d\\udd25\"}, {\"Unnamed: 0\": 270, \"datetime\": \"2017-08-27T01:13:00\", \"tweet_count\": 0.3333886508826992, \"emoji\": \"\\ud83d\\udd25\"}, {\"Unnamed: 0\": 271, \"datetime\": \"2017-08-27T01:13:15\", \"tweet_count\": 0.2839559264173634, \"emoji\": \"\\ud83d\\udd25\"}, {\"Unnamed: 0\": 272, \"datetime\": \"2017-08-27T01:13:30\", \"tweet_count\": 0.2538010137131183, \"emoji\": \"\\ud83d\\udd25\"}, {\"Unnamed: 0\": 273, \"datetime\": \"2017-08-27T01:13:45\", \"tweet_count\": 0.2373991006751934, \"emoji\": \"\\ud83d\\udd25\"}, {\"Unnamed: 0\": 274, \"datetime\": \"2017-08-27T01:14:00\", \"tweet_count\": 0.2404414484718723, \"emoji\": \"\\ud83d\\udd25\"}, {\"Unnamed: 0\": 275, \"datetime\": \"2017-08-27T01:14:15\", \"tweet_count\": 0.2404966342952948, \"emoji\": \"\\ud83d\\udd25\"}, {\"Unnamed: 0\": 276, \"datetime\": \"2017-08-27T01:14:30\", \"tweet_count\": 0.2691365776556184, \"emoji\": \"\\ud83d\\udd25\"}, {\"Unnamed: 0\": 277, \"datetime\": \"2017-08-27T01:14:45\", \"tweet_count\": 0.3227565813349379, \"emoji\": \"\\ud83d\\udd25\"}, {\"Unnamed: 0\": 0, \"datetime\": \"2017-08-27T00:05:30\", \"tweet_count\": 0.0, \"emoji\": \"\\ud83d\\ude34\"}, {\"Unnamed: 0\": 1, \"datetime\": \"2017-08-27T00:05:45\", \"tweet_count\": 0.0, \"emoji\": \"\\ud83d\\ude34\"}, {\"Unnamed: 0\": 2, \"datetime\": \"2017-08-27T00:06:00\", \"tweet_count\": 0.0, \"emoji\": \"\\ud83d\\ude34\"}, {\"Unnamed: 0\": 3, \"datetime\": \"2017-08-27T00:06:15\", \"tweet_count\": 0.0, \"emoji\": \"\\ud83d\\ude34\"}, {\"Unnamed: 0\": 4, \"datetime\": \"2017-08-27T00:06:30\", \"tweet_count\": 0.0, \"emoji\": \"\\ud83d\\ude34\"}, {\"Unnamed: 0\": 5, \"datetime\": \"2017-08-27T00:06:45\", \"tweet_count\": 0.0241020489566663, \"emoji\": \"\\ud83d\\ude34\"}, {\"Unnamed: 0\": 6, \"datetime\": \"2017-08-27T00:07:00\", \"tweet_count\": 0.054014741536, \"emoji\": \"\\ud83d\\ude34\"}, {\"Unnamed: 0\": 7, \"datetime\": \"2017-08-27T00:07:15\", \"tweet_count\": 0.0470090340976696, \"emoji\": \"\\ud83d\\ude34\"}, {\"Unnamed: 0\": 8, \"datetime\": \"2017-08-27T00:07:30\", \"tweet_count\": 0.0416287882590313, \"emoji\": \"\\ud83d\\ude34\"}, {\"Unnamed: 0\": 9, \"datetime\": \"2017-08-27T00:07:45\", \"tweet_count\": 0.0377038140911196, \"emoji\": \"\\ud83d\\ude34\"}, {\"Unnamed: 0\": 10, \"datetime\": \"2017-08-27T00:08:00\", \"tweet_count\": 0.0491164745787755, \"emoji\": \"\\ud83d\\ude34\"}, {\"Unnamed: 0\": 11, \"datetime\": \"2017-08-27T00:08:15\", \"tweet_count\": 0.0511389741290996, \"emoji\": \"\\ud83d\\ude34\"}, {\"Unnamed: 0\": 12, \"datetime\": \"2017-08-27T00:08:30\", \"tweet_count\": 0.0534360506559033, \"emoji\": \"\\ud83d\\ude34\"}, {\"Unnamed: 0\": 13, \"datetime\": \"2017-08-27T00:08:45\", \"tweet_count\": 0.0497047851697316, \"emoji\": \"\\ud83d\\ude34\"}, {\"Unnamed: 0\": 14, \"datetime\": \"2017-08-27T00:09:00\", \"tweet_count\": 0.0467974992109325, \"emoji\": \"\\ud83d\\ude34\"}, {\"Unnamed: 0\": 15, \"datetime\": \"2017-08-27T00:09:15\", \"tweet_count\": 0.0440663357412421, \"emoji\": \"\\ud83d\\ude34\"}, {\"Unnamed: 0\": 16, \"datetime\": \"2017-08-27T00:09:30\", \"tweet_count\": 0.0424847643447264, \"emoji\": \"\\ud83d\\ude34\"}, {\"Unnamed: 0\": 17, \"datetime\": \"2017-08-27T00:09:45\", \"tweet_count\": 0.0434418113206889, \"emoji\": \"\\ud83d\\ude34\"}, {\"Unnamed: 0\": 18, \"datetime\": \"2017-08-27T00:10:00\", \"tweet_count\": 0.043527230570724, \"emoji\": \"\\ud83d\\ude34\"}, {\"Unnamed: 0\": 19, \"datetime\": \"2017-08-27T00:10:15\", \"tweet_count\": 0.0513169882798779, \"emoji\": \"\\ud83d\\ude34\"}, {\"Unnamed: 0\": 20, \"datetime\": \"2017-08-27T00:10:30\", \"tweet_count\": 0.0822376296609831, \"emoji\": \"\\ud83d\\ude34\"}, {\"Unnamed: 0\": 21, \"datetime\": \"2017-08-27T00:10:45\", \"tweet_count\": 0.0836687312921533, \"emoji\": \"\\ud83d\\ude34\"}, {\"Unnamed: 0\": 22, \"datetime\": \"2017-08-27T00:11:00\", \"tweet_count\": 0.0688762845466333, \"emoji\": \"\\ud83d\\ude34\"}, {\"Unnamed: 0\": 23, \"datetime\": \"2017-08-27T00:11:15\", \"tweet_count\": 0.0692310132130872, \"emoji\": \"\\ud83d\\ude34\"}, {\"Unnamed: 0\": 24, \"datetime\": \"2017-08-27T00:11:30\", \"tweet_count\": 0.0710997284442023, \"emoji\": \"\\ud83d\\ude34\"}, {\"Unnamed: 0\": 25, \"datetime\": \"2017-08-27T00:11:45\", \"tweet_count\": 0.0718260165225175, \"emoji\": \"\\ud83d\\ude34\"}, {\"Unnamed: 0\": 26, \"datetime\": \"2017-08-27T00:12:00\", \"tweet_count\": 0.0634196072587636, \"emoji\": \"\\ud83d\\ude34\"}, {\"Unnamed: 0\": 27, \"datetime\": \"2017-08-27T00:12:15\", \"tweet_count\": 0.0659168096433786, \"emoji\": \"\\ud83d\\ude34\"}, {\"Unnamed: 0\": 28, \"datetime\": \"2017-08-27T00:12:30\", \"tweet_count\": 0.0668135951931479, \"emoji\": \"\\ud83d\\ude34\"}, {\"Unnamed: 0\": 29, \"datetime\": \"2017-08-27T00:12:45\", \"tweet_count\": 0.0767831225358418, \"emoji\": \"\\ud83d\\ude34\"}, {\"Unnamed: 0\": 30, \"datetime\": \"2017-08-27T00:13:00\", \"tweet_count\": 0.0831562489145679, \"emoji\": \"\\ud83d\\ude34\"}, {\"Unnamed: 0\": 31, \"datetime\": \"2017-08-27T00:13:15\", \"tweet_count\": 0.1070098379805223, \"emoji\": \"\\ud83d\\ude34\"}, {\"Unnamed: 0\": 32, \"datetime\": \"2017-08-27T00:13:30\", \"tweet_count\": 0.1294415309733327, \"emoji\": \"\\ud83d\\ude34\"}, {\"Unnamed: 0\": 33, \"datetime\": \"2017-08-27T00:13:45\", \"tweet_count\": 0.1284208850047316, \"emoji\": \"\\ud83d\\ude34\"}, {\"Unnamed: 0\": 34, \"datetime\": \"2017-08-27T00:14:00\", \"tweet_count\": 0.1588895934937188, \"emoji\": \"\\ud83d\\ude34\"}, {\"Unnamed: 0\": 35, \"datetime\": \"2017-08-27T00:14:15\", \"tweet_count\": 0.2082762058815909, \"emoji\": \"\\ud83d\\ude34\"}, {\"Unnamed: 0\": 36, \"datetime\": \"2017-08-27T00:14:30\", \"tweet_count\": 0.1657657836736052, \"emoji\": \"\\ud83d\\ude34\"}, {\"Unnamed: 0\": 37, \"datetime\": \"2017-08-27T00:14:45\", \"tweet_count\": 0.1713850762386836, \"emoji\": \"\\ud83d\\ude34\"}, {\"Unnamed: 0\": 38, \"datetime\": \"2017-08-27T00:15:00\", \"tweet_count\": 0.1721299181108936, \"emoji\": \"\\ud83d\\ude34\"}, {\"Unnamed: 0\": 39, \"datetime\": \"2017-08-27T00:15:15\", \"tweet_count\": 0.1725035682705069, \"emoji\": \"\\ud83d\\ude34\"}, {\"Unnamed: 0\": 40, \"datetime\": \"2017-08-27T00:15:30\", \"tweet_count\": 0.1713347887566955, \"emoji\": \"\\ud83d\\ude34\"}, {\"Unnamed: 0\": 41, \"datetime\": \"2017-08-27T00:15:45\", \"tweet_count\": 0.1713252077720485, \"emoji\": \"\\ud83d\\ude34\"}, {\"Unnamed: 0\": 42, \"datetime\": \"2017-08-27T00:16:00\", \"tweet_count\": 0.16915670218405, \"emoji\": \"\\ud83d\\ude34\"}, {\"Unnamed: 0\": 43, \"datetime\": \"2017-08-27T00:16:15\", \"tweet_count\": 0.1589004029855901, \"emoji\": \"\\ud83d\\ude34\"}, {\"Unnamed: 0\": 44, \"datetime\": \"2017-08-27T00:16:30\", \"tweet_count\": 0.1554767135537018, \"emoji\": \"\\ud83d\\ude34\"}, {\"Unnamed: 0\": 45, \"datetime\": \"2017-08-27T00:16:45\", \"tweet_count\": 0.1471342455237238, \"emoji\": \"\\ud83d\\ude34\"}, {\"Unnamed: 0\": 46, \"datetime\": \"2017-08-27T00:17:00\", \"tweet_count\": 0.1406130824887365, \"emoji\": \"\\ud83d\\ude34\"}, {\"Unnamed: 0\": 47, \"datetime\": \"2017-08-27T00:17:15\", \"tweet_count\": 0.1581708453682747, \"emoji\": \"\\ud83d\\ude34\"}, {\"Unnamed: 0\": 48, \"datetime\": \"2017-08-27T00:17:30\", \"tweet_count\": 0.1415237151440857, \"emoji\": \"\\ud83d\\ude34\"}, {\"Unnamed: 0\": 49, \"datetime\": \"2017-08-27T00:17:45\", \"tweet_count\": 0.1446650004736735, \"emoji\": \"\\ud83d\\ude34\"}, {\"Unnamed: 0\": 50, \"datetime\": \"2017-08-27T00:18:00\", \"tweet_count\": 0.0993808407283301, \"emoji\": \"\\ud83d\\ude34\"}, {\"Unnamed: 0\": 51, \"datetime\": \"2017-08-27T00:18:15\", \"tweet_count\": 0.0594068497329067, \"emoji\": \"\\ud83d\\ude34\"}, {\"Unnamed: 0\": 52, \"datetime\": \"2017-08-27T00:18:30\", \"tweet_count\": 0.0554839507568332, \"emoji\": \"\\ud83d\\ude34\"}, {\"Unnamed: 0\": 53, \"datetime\": \"2017-08-27T00:18:45\", \"tweet_count\": 0.0491596433954063, \"emoji\": \"\\ud83d\\ude34\"}, {\"Unnamed: 0\": 54, \"datetime\": \"2017-08-27T00:19:00\", \"tweet_count\": 0.0597034956158732, \"emoji\": \"\\ud83d\\ude34\"}, {\"Unnamed: 0\": 55, \"datetime\": \"2017-08-27T00:19:15\", \"tweet_count\": 0.0595578668884375, \"emoji\": \"\\ud83d\\ude34\"}, {\"Unnamed: 0\": 56, \"datetime\": \"2017-08-27T00:19:30\", \"tweet_count\": 0.059809127311615, \"emoji\": \"\\ud83d\\ude34\"}, {\"Unnamed: 0\": 57, \"datetime\": \"2017-08-27T00:19:45\", \"tweet_count\": 0.0608147603945139, \"emoji\": \"\\ud83d\\ude34\"}, {\"Unnamed: 0\": 58, \"datetime\": \"2017-08-27T00:20:00\", \"tweet_count\": 0.0610142117675572, \"emoji\": \"\\ud83d\\ude34\"}, {\"Unnamed: 0\": 59, \"datetime\": \"2017-08-27T00:20:15\", \"tweet_count\": 0.0604734634096829, \"emoji\": \"\\ud83d\\ude34\"}, {\"Unnamed: 0\": 60, \"datetime\": \"2017-08-27T00:20:30\", \"tweet_count\": 0.061373015606152, \"emoji\": \"\\ud83d\\ude34\"}, {\"Unnamed: 0\": 61, \"datetime\": \"2017-08-27T00:20:45\", \"tweet_count\": 0.0703592487623511, \"emoji\": \"\\ud83d\\ude34\"}, {\"Unnamed: 0\": 62, \"datetime\": \"2017-08-27T00:21:00\", \"tweet_count\": 0.0793264473233478, \"emoji\": \"\\ud83d\\ude34\"}, {\"Unnamed: 0\": 63, \"datetime\": \"2017-08-27T00:21:15\", \"tweet_count\": 0.0532692503524063, \"emoji\": \"\\ud83d\\ude34\"}, {\"Unnamed: 0\": 64, \"datetime\": \"2017-08-27T00:21:30\", \"tweet_count\": 0.0978085241618635, \"emoji\": \"\\ud83d\\ude34\"}, {\"Unnamed: 0\": 65, \"datetime\": \"2017-08-27T00:21:45\", \"tweet_count\": 0.1081738051660696, \"emoji\": \"\\ud83d\\ude34\"}, {\"Unnamed: 0\": 66, \"datetime\": \"2017-08-27T00:22:00\", \"tweet_count\": 0.1074846438580548, \"emoji\": \"\\ud83d\\ude34\"}, {\"Unnamed: 0\": 67, \"datetime\": \"2017-08-27T00:22:15\", \"tweet_count\": 0.1088783717454507, \"emoji\": \"\\ud83d\\ude34\"}, {\"Unnamed: 0\": 68, \"datetime\": \"2017-08-27T00:22:30\", \"tweet_count\": 0.1125401767939608, \"emoji\": \"\\ud83d\\ude34\"}, {\"Unnamed: 0\": 69, \"datetime\": \"2017-08-27T00:22:45\", \"tweet_count\": 0.1237155608295435, \"emoji\": \"\\ud83d\\ude34\"}, {\"Unnamed: 0\": 70, \"datetime\": \"2017-08-27T00:23:00\", \"tweet_count\": 0.1311224212069921, \"emoji\": \"\\ud83d\\ude34\"}, {\"Unnamed: 0\": 71, \"datetime\": \"2017-08-27T00:23:15\", \"tweet_count\": 0.1468516900559979, \"emoji\": \"\\ud83d\\ude34\"}, {\"Unnamed: 0\": 72, \"datetime\": \"2017-08-27T00:23:30\", \"tweet_count\": 0.1465670186326811, \"emoji\": \"\\ud83d\\ude34\"}, {\"Unnamed: 0\": 73, \"datetime\": \"2017-08-27T00:23:45\", \"tweet_count\": 0.1537775037557618, \"emoji\": \"\\ud83d\\ude34\"}, {\"Unnamed: 0\": 74, \"datetime\": \"2017-08-27T00:24:00\", \"tweet_count\": 0.1628459637380927, \"emoji\": \"\\ud83d\\ude34\"}, {\"Unnamed: 0\": 75, \"datetime\": \"2017-08-27T00:24:15\", \"tweet_count\": 0.1640822245094788, \"emoji\": \"\\ud83d\\ude34\"}, {\"Unnamed: 0\": 76, \"datetime\": \"2017-08-27T00:24:30\", \"tweet_count\": 0.2101428328499684, \"emoji\": \"\\ud83d\\ude34\"}, {\"Unnamed: 0\": 77, \"datetime\": \"2017-08-27T00:24:45\", \"tweet_count\": 0.1990453153407809, \"emoji\": \"\\ud83d\\ude34\"}, {\"Unnamed: 0\": 78, \"datetime\": \"2017-08-27T00:25:00\", \"tweet_count\": 0.1877131449401707, \"emoji\": \"\\ud83d\\ude34\"}, {\"Unnamed: 0\": 79, \"datetime\": \"2017-08-27T00:25:15\", \"tweet_count\": 0.1839675362030822, \"emoji\": \"\\ud83d\\ude34\"}, {\"Unnamed: 0\": 80, \"datetime\": \"2017-08-27T00:25:30\", \"tweet_count\": 0.1676318800338901, \"emoji\": \"\\ud83d\\ude34\"}, {\"Unnamed: 0\": 81, \"datetime\": \"2017-08-27T00:25:45\", \"tweet_count\": 0.1579310255611199, \"emoji\": \"\\ud83d\\ude34\"}, {\"Unnamed: 0\": 82, \"datetime\": \"2017-08-27T00:26:00\", \"tweet_count\": 0.1579627180266711, \"emoji\": \"\\ud83d\\ude34\"}, {\"Unnamed: 0\": 83, \"datetime\": \"2017-08-27T00:26:15\", \"tweet_count\": 0.157364875987048, \"emoji\": \"\\ud83d\\ude34\"}, {\"Unnamed: 0\": 84, \"datetime\": \"2017-08-27T00:26:30\", \"tweet_count\": 0.1572018949872827, \"emoji\": \"\\ud83d\\ude34\"}, {\"Unnamed: 0\": 85, \"datetime\": \"2017-08-27T00:26:45\", \"tweet_count\": 0.1369685259496726, \"emoji\": \"\\ud83d\\ude34\"}, {\"Unnamed: 0\": 86, \"datetime\": \"2017-08-27T00:27:00\", \"tweet_count\": 0.1289043982606101, \"emoji\": \"\\ud83d\\ude34\"}, {\"Unnamed: 0\": 87, \"datetime\": \"2017-08-27T00:27:15\", \"tweet_count\": 0.1137277548348102, \"emoji\": \"\\ud83d\\ude34\"}, {\"Unnamed: 0\": 88, \"datetime\": \"2017-08-27T00:27:30\", \"tweet_count\": 0.1118747452363461, \"emoji\": \"\\ud83d\\ude34\"}, {\"Unnamed: 0\": 89, \"datetime\": \"2017-08-27T00:27:45\", \"tweet_count\": 0.1289633340949093, \"emoji\": \"\\ud83d\\ude34\"}, {\"Unnamed: 0\": 90, \"datetime\": \"2017-08-27T00:28:00\", \"tweet_count\": 0.2190482371345067, \"emoji\": \"\\ud83d\\ude34\"}, {\"Unnamed: 0\": 91, \"datetime\": \"2017-08-27T00:28:15\", \"tweet_count\": 0.2628500813058912, \"emoji\": \"\\ud83d\\ude34\"}, {\"Unnamed: 0\": 92, \"datetime\": \"2017-08-27T00:28:30\", \"tweet_count\": 0.2748658063623984, \"emoji\": \"\\ud83d\\ude34\"}, {\"Unnamed: 0\": 93, \"datetime\": \"2017-08-27T00:28:45\", \"tweet_count\": 0.3098082122123465, \"emoji\": \"\\ud83d\\ude34\"}, {\"Unnamed: 0\": 94, \"datetime\": \"2017-08-27T00:29:00\", \"tweet_count\": 0.4554631766516856, \"emoji\": \"\\ud83d\\ude34\"}, {\"Unnamed: 0\": 95, \"datetime\": \"2017-08-27T00:29:15\", \"tweet_count\": 0.4645186295263606, \"emoji\": \"\\ud83d\\ude34\"}, {\"Unnamed: 0\": 96, \"datetime\": \"2017-08-27T00:29:30\", \"tweet_count\": 0.4225200420896883, \"emoji\": \"\\ud83d\\ude34\"}, {\"Unnamed: 0\": 97, \"datetime\": \"2017-08-27T00:29:45\", \"tweet_count\": 0.4281157091544775, \"emoji\": \"\\ud83d\\ude34\"}, {\"Unnamed: 0\": 98, \"datetime\": \"2017-08-27T00:30:00\", \"tweet_count\": 0.4344140484259339, \"emoji\": \"\\ud83d\\ude34\"}, {\"Unnamed: 0\": 99, \"datetime\": \"2017-08-27T00:30:15\", \"tweet_count\": 0.432729578329939, \"emoji\": \"\\ud83d\\ude34\"}, {\"Unnamed: 0\": 100, \"datetime\": \"2017-08-27T00:30:30\", \"tweet_count\": 0.4456430661655073, \"emoji\": \"\\ud83d\\ude34\"}, {\"Unnamed: 0\": 101, \"datetime\": \"2017-08-27T00:30:45\", \"tweet_count\": 0.451107936720435, \"emoji\": \"\\ud83d\\ude34\"}, {\"Unnamed: 0\": 102, \"datetime\": \"2017-08-27T00:31:00\", \"tweet_count\": 0.4471419914422674, \"emoji\": \"\\ud83d\\ude34\"}, {\"Unnamed: 0\": 103, \"datetime\": \"2017-08-27T00:31:15\", \"tweet_count\": 0.4469218349958053, \"emoji\": \"\\ud83d\\ude34\"}, {\"Unnamed: 0\": 104, \"datetime\": \"2017-08-27T00:31:30\", \"tweet_count\": 0.4675692371435763, \"emoji\": \"\\ud83d\\ude34\"}, {\"Unnamed: 0\": 105, \"datetime\": \"2017-08-27T00:31:45\", \"tweet_count\": 0.4545702051314617, \"emoji\": \"\\ud83d\\ude34\"}, {\"Unnamed: 0\": 106, \"datetime\": \"2017-08-27T00:32:00\", \"tweet_count\": 0.378822615930558, \"emoji\": \"\\ud83d\\ude34\"}, {\"Unnamed: 0\": 107, \"datetime\": \"2017-08-27T00:32:15\", \"tweet_count\": 0.3425671677070729, \"emoji\": \"\\ud83d\\ude34\"}, {\"Unnamed: 0\": 108, \"datetime\": \"2017-08-27T00:32:30\", \"tweet_count\": 0.2731454586029591, \"emoji\": \"\\ud83d\\ude34\"}, {\"Unnamed: 0\": 109, \"datetime\": \"2017-08-27T00:32:45\", \"tweet_count\": 0.2495062416370684, \"emoji\": \"\\ud83d\\ude34\"}, {\"Unnamed: 0\": 110, \"datetime\": \"2017-08-27T00:33:00\", \"tweet_count\": 0.0952682618921347, \"emoji\": \"\\ud83d\\ude34\"}, {\"Unnamed: 0\": 111, \"datetime\": \"2017-08-27T00:33:15\", \"tweet_count\": 0.0977451550160405, \"emoji\": \"\\ud83d\\ude34\"}, {\"Unnamed: 0\": 112, \"datetime\": \"2017-08-27T00:33:30\", \"tweet_count\": 0.1450972917293064, \"emoji\": \"\\ud83d\\ude34\"}, {\"Unnamed: 0\": 113, \"datetime\": \"2017-08-27T00:33:45\", \"tweet_count\": 0.1524481763944712, \"emoji\": \"\\ud83d\\ude34\"}, {\"Unnamed: 0\": 114, \"datetime\": \"2017-08-27T00:34:00\", \"tweet_count\": 0.1515536477153432, \"emoji\": \"\\ud83d\\ude34\"}, {\"Unnamed: 0\": 115, \"datetime\": \"2017-08-27T00:34:15\", \"tweet_count\": 0.1746518862424809, \"emoji\": \"\\ud83d\\ude34\"}, {\"Unnamed: 0\": 116, \"datetime\": \"2017-08-27T00:34:30\", \"tweet_count\": 0.1716651206858234, \"emoji\": \"\\ud83d\\ude34\"}, {\"Unnamed: 0\": 117, \"datetime\": \"2017-08-27T00:34:45\", \"tweet_count\": 0.1626726992093256, \"emoji\": \"\\ud83d\\ude34\"}, {\"Unnamed: 0\": 118, \"datetime\": \"2017-08-27T00:35:00\", \"tweet_count\": 0.1777119921309566, \"emoji\": \"\\ud83d\\ude34\"}, {\"Unnamed: 0\": 119, \"datetime\": \"2017-08-27T00:35:15\", \"tweet_count\": 0.1799433038346089, \"emoji\": \"\\ud83d\\ude34\"}, {\"Unnamed: 0\": 120, \"datetime\": \"2017-08-27T00:35:30\", \"tweet_count\": 0.1794605224996922, \"emoji\": \"\\ud83d\\ude34\"}, {\"Unnamed: 0\": 121, \"datetime\": \"2017-08-27T00:35:45\", \"tweet_count\": 0.1670309558197475, \"emoji\": \"\\ud83d\\ude34\"}, {\"Unnamed: 0\": 122, \"datetime\": \"2017-08-27T00:36:00\", \"tweet_count\": 0.1437567161181943, \"emoji\": \"\\ud83d\\ude34\"}, {\"Unnamed: 0\": 123, \"datetime\": \"2017-08-27T00:36:15\", \"tweet_count\": 0.1441119987230736, \"emoji\": \"\\ud83d\\ude34\"}, {\"Unnamed: 0\": 124, \"datetime\": \"2017-08-27T00:36:30\", \"tweet_count\": 0.1549722291275398, \"emoji\": \"\\ud83d\\ude34\"}, {\"Unnamed: 0\": 125, \"datetime\": \"2017-08-27T00:36:45\", \"tweet_count\": 0.1522978176102065, \"emoji\": \"\\ud83d\\ude34\"}, {\"Unnamed: 0\": 126, \"datetime\": \"2017-08-27T00:37:00\", \"tweet_count\": 0.1547248046688947, \"emoji\": \"\\ud83d\\ude34\"}, {\"Unnamed: 0\": 127, \"datetime\": \"2017-08-27T00:37:15\", \"tweet_count\": 0.1534515474108555, \"emoji\": \"\\ud83d\\ude34\"}, {\"Unnamed: 0\": 128, \"datetime\": \"2017-08-27T00:37:30\", \"tweet_count\": 0.1188012220241286, \"emoji\": \"\\ud83d\\ude34\"}, {\"Unnamed: 0\": 129, \"datetime\": \"2017-08-27T00:37:45\", \"tweet_count\": 0.1207353233694785, \"emoji\": \"\\ud83d\\ude34\"}, {\"Unnamed: 0\": 130, \"datetime\": \"2017-08-27T00:38:00\", \"tweet_count\": 0.1255440877622235, \"emoji\": \"\\ud83d\\ude34\"}, {\"Unnamed: 0\": 131, \"datetime\": \"2017-08-27T00:38:15\", \"tweet_count\": 0.1163586228850356, \"emoji\": \"\\ud83d\\ude34\"}, {\"Unnamed: 0\": 132, \"datetime\": \"2017-08-27T00:38:30\", \"tweet_count\": 0.1080742666162861, \"emoji\": \"\\ud83d\\ude34\"}, {\"Unnamed: 0\": 133, \"datetime\": \"2017-08-27T00:38:45\", \"tweet_count\": 0.118558072790722, \"emoji\": \"\\ud83d\\ude34\"}, {\"Unnamed: 0\": 134, \"datetime\": \"2017-08-27T00:39:00\", \"tweet_count\": 0.1501692687153391, \"emoji\": \"\\ud83d\\ude34\"}, {\"Unnamed: 0\": 135, \"datetime\": \"2017-08-27T00:39:15\", \"tweet_count\": 0.1719762125230588, \"emoji\": \"\\ud83d\\ude34\"}, {\"Unnamed: 0\": 136, \"datetime\": \"2017-08-27T00:39:30\", \"tweet_count\": 0.1650740762202612, \"emoji\": \"\\ud83d\\ude34\"}, {\"Unnamed: 0\": 137, \"datetime\": \"2017-08-27T00:39:45\", \"tweet_count\": 0.1843774736580742, \"emoji\": \"\\ud83d\\ude34\"}, {\"Unnamed: 0\": 138, \"datetime\": \"2017-08-27T00:40:00\", \"tweet_count\": 0.1785179872771427, \"emoji\": \"\\ud83d\\ude34\"}, {\"Unnamed: 0\": 139, \"datetime\": \"2017-08-27T00:40:15\", \"tweet_count\": 0.1965287113128911, \"emoji\": \"\\ud83d\\ude34\"}, {\"Unnamed: 0\": 140, \"datetime\": \"2017-08-27T00:40:30\", \"tweet_count\": 0.1988486931373755, \"emoji\": \"\\ud83d\\ude34\"}, {\"Unnamed: 0\": 141, \"datetime\": \"2017-08-27T00:40:45\", \"tweet_count\": 0.2003804478026484, \"emoji\": \"\\ud83d\\ude34\"}, {\"Unnamed: 0\": 142, \"datetime\": \"2017-08-27T00:41:00\", \"tweet_count\": 0.1996690335316711, \"emoji\": \"\\ud83d\\ude34\"}, {\"Unnamed: 0\": 143, \"datetime\": \"2017-08-27T00:41:15\", \"tweet_count\": 0.1918767168069295, \"emoji\": \"\\ud83d\\ude34\"}, {\"Unnamed: 0\": 144, \"datetime\": \"2017-08-27T00:41:30\", \"tweet_count\": 0.2020814516980364, \"emoji\": \"\\ud83d\\ude34\"}, {\"Unnamed: 0\": 145, \"datetime\": \"2017-08-27T00:41:45\", \"tweet_count\": 0.1984745871538127, \"emoji\": \"\\ud83d\\ude34\"}, {\"Unnamed: 0\": 146, \"datetime\": \"2017-08-27T00:42:00\", \"tweet_count\": 0.1895379211418774, \"emoji\": \"\\ud83d\\ude34\"}, {\"Unnamed: 0\": 147, \"datetime\": \"2017-08-27T00:42:15\", \"tweet_count\": 0.2460998609469542, \"emoji\": \"\\ud83d\\ude34\"}, {\"Unnamed: 0\": 148, \"datetime\": \"2017-08-27T00:42:30\", \"tweet_count\": 0.2736402618575065, \"emoji\": \"\\ud83d\\ude34\"}, {\"Unnamed: 0\": 149, \"datetime\": \"2017-08-27T00:42:45\", \"tweet_count\": 0.2765971821530268, \"emoji\": \"\\ud83d\\ude34\"}, {\"Unnamed: 0\": 150, \"datetime\": \"2017-08-27T00:43:00\", \"tweet_count\": 0.2504210949146624, \"emoji\": \"\\ud83d\\ude34\"}, {\"Unnamed: 0\": 151, \"datetime\": \"2017-08-27T00:43:15\", \"tweet_count\": 0.2238324301994914, \"emoji\": \"\\ud83d\\ude34\"}, {\"Unnamed: 0\": 152, \"datetime\": \"2017-08-27T00:43:30\", \"tweet_count\": 0.2384644467262014, \"emoji\": \"\\ud83d\\ude34\"}, {\"Unnamed: 0\": 153, \"datetime\": \"2017-08-27T00:43:45\", \"tweet_count\": 0.2218106813601171, \"emoji\": \"\\ud83d\\ude34\"}, {\"Unnamed: 0\": 154, \"datetime\": \"2017-08-27T00:44:00\", \"tweet_count\": 0.2307725850170577, \"emoji\": \"\\ud83d\\ude34\"}, {\"Unnamed: 0\": 155, \"datetime\": \"2017-08-27T00:44:15\", \"tweet_count\": 0.2259489480952672, \"emoji\": \"\\ud83d\\ude34\"}, {\"Unnamed: 0\": 156, \"datetime\": \"2017-08-27T00:44:30\", \"tweet_count\": 0.2161360984263736, \"emoji\": \"\\ud83d\\ude34\"}, {\"Unnamed: 0\": 157, \"datetime\": \"2017-08-27T00:44:45\", \"tweet_count\": 0.4417825839263806, \"emoji\": \"\\ud83d\\ude34\"}, {\"Unnamed: 0\": 158, \"datetime\": \"2017-08-27T00:45:00\", \"tweet_count\": 0.5178648811375399, \"emoji\": \"\\ud83d\\ude34\"}, {\"Unnamed: 0\": 159, \"datetime\": \"2017-08-27T00:45:15\", \"tweet_count\": 0.5271103912868088, \"emoji\": \"\\ud83d\\ude34\"}, {\"Unnamed: 0\": 160, \"datetime\": \"2017-08-27T00:45:30\", \"tweet_count\": 0.5356747421948609, \"emoji\": \"\\ud83d\\ude34\"}, {\"Unnamed: 0\": 161, \"datetime\": \"2017-08-27T00:45:45\", \"tweet_count\": 0.5401756528921515, \"emoji\": \"\\ud83d\\ude34\"}, {\"Unnamed: 0\": 162, \"datetime\": \"2017-08-27T00:46:00\", \"tweet_count\": 0.5634200871803002, \"emoji\": \"\\ud83d\\ude34\"}, {\"Unnamed: 0\": 163, \"datetime\": \"2017-08-27T00:46:15\", \"tweet_count\": 0.5037691019689521, \"emoji\": \"\\ud83d\\ude34\"}, {\"Unnamed: 0\": 164, \"datetime\": \"2017-08-27T00:46:30\", \"tweet_count\": 0.4753329608934472, \"emoji\": \"\\ud83d\\ude34\"}, {\"Unnamed: 0\": 165, \"datetime\": \"2017-08-27T00:46:45\", \"tweet_count\": 0.4547649512036037, \"emoji\": \"\\ud83d\\ude34\"}, {\"Unnamed: 0\": 166, \"datetime\": \"2017-08-27T00:47:00\", \"tweet_count\": 0.4418195590886582, \"emoji\": \"\\ud83d\\ude34\"}, {\"Unnamed: 0\": 167, \"datetime\": \"2017-08-27T00:47:15\", \"tweet_count\": 0.4491810381819002, \"emoji\": \"\\ud83d\\ude34\"}, {\"Unnamed: 0\": 168, \"datetime\": \"2017-08-27T00:47:30\", \"tweet_count\": 0.4475069864138273, \"emoji\": \"\\ud83d\\ude34\"}, {\"Unnamed: 0\": 169, \"datetime\": \"2017-08-27T00:47:45\", \"tweet_count\": 0.4359132318663823, \"emoji\": \"\\ud83d\\ude34\"}, {\"Unnamed: 0\": 170, \"datetime\": \"2017-08-27T00:48:00\", \"tweet_count\": 0.4521100590194949, \"emoji\": \"\\ud83d\\ude34\"}, {\"Unnamed: 0\": 171, \"datetime\": \"2017-08-27T00:48:15\", \"tweet_count\": 0.45148043106304, \"emoji\": \"\\ud83d\\ude34\"}, {\"Unnamed: 0\": 172, \"datetime\": \"2017-08-27T00:48:30\", \"tweet_count\": 0.4439183405853141, \"emoji\": \"\\ud83d\\ude34\"}, {\"Unnamed: 0\": 173, \"datetime\": \"2017-08-27T00:48:45\", \"tweet_count\": 0.1977742837129262, \"emoji\": \"\\ud83d\\ude34\"}, {\"Unnamed: 0\": 174, \"datetime\": \"2017-08-27T00:49:00\", \"tweet_count\": 0.1510797858570949, \"emoji\": \"\\ud83d\\ude34\"}, {\"Unnamed: 0\": 175, \"datetime\": \"2017-08-27T00:49:15\", \"tweet_count\": 0.1515532592791626, \"emoji\": \"\\ud83d\\ude34\"}, {\"Unnamed: 0\": 176, \"datetime\": \"2017-08-27T00:49:30\", \"tweet_count\": 0.1745353089669095, \"emoji\": \"\\ud83d\\ude34\"}, {\"Unnamed: 0\": 177, \"datetime\": \"2017-08-27T00:49:45\", \"tweet_count\": 0.1859487682494631, \"emoji\": \"\\ud83d\\ude34\"}, {\"Unnamed: 0\": 178, \"datetime\": \"2017-08-27T00:50:00\", \"tweet_count\": 0.170056508432068, \"emoji\": \"\\ud83d\\ude34\"}, {\"Unnamed: 0\": 179, \"datetime\": \"2017-08-27T00:50:15\", \"tweet_count\": 0.2090233649909481, \"emoji\": \"\\ud83d\\ude34\"}, {\"Unnamed: 0\": 180, \"datetime\": \"2017-08-27T00:50:30\", \"tweet_count\": 0.2210009219592112, \"emoji\": \"\\ud83d\\ude34\"}, {\"Unnamed: 0\": 181, \"datetime\": \"2017-08-27T00:50:45\", \"tweet_count\": 0.2239010534626121, \"emoji\": \"\\ud83d\\ude34\"}, {\"Unnamed: 0\": 182, \"datetime\": \"2017-08-27T00:51:00\", \"tweet_count\": 0.2211953076571793, \"emoji\": \"\\ud83d\\ude34\"}, {\"Unnamed: 0\": 183, \"datetime\": \"2017-08-27T00:51:15\", \"tweet_count\": 0.2188310638482023, \"emoji\": \"\\ud83d\\ude34\"}, {\"Unnamed: 0\": 184, \"datetime\": \"2017-08-27T00:51:30\", \"tweet_count\": 0.2162261404975647, \"emoji\": \"\\ud83d\\ude34\"}, {\"Unnamed: 0\": 185, \"datetime\": \"2017-08-27T00:51:45\", \"tweet_count\": 0.2055806749634832, \"emoji\": \"\\ud83d\\ude34\"}, {\"Unnamed: 0\": 186, \"datetime\": \"2017-08-27T00:52:00\", \"tweet_count\": 0.1841505444335895, \"emoji\": \"\\ud83d\\ude34\"}, {\"Unnamed: 0\": 187, \"datetime\": \"2017-08-27T00:52:15\", \"tweet_count\": 0.1922794910050415, \"emoji\": \"\\ud83d\\ude34\"}, {\"Unnamed: 0\": 188, \"datetime\": \"2017-08-27T00:52:30\", \"tweet_count\": 0.1882075508941046, \"emoji\": \"\\ud83d\\ude34\"}, {\"Unnamed: 0\": 189, \"datetime\": \"2017-08-27T00:52:45\", \"tweet_count\": 0.196455616796663, \"emoji\": \"\\ud83d\\ude34\"}, {\"Unnamed: 0\": 190, \"datetime\": \"2017-08-27T00:53:00\", \"tweet_count\": 0.1771860436161925, \"emoji\": \"\\ud83d\\ude34\"}, {\"Unnamed: 0\": 191, \"datetime\": \"2017-08-27T00:53:15\", \"tweet_count\": 0.1702362227972129, \"emoji\": \"\\ud83d\\ude34\"}, {\"Unnamed: 0\": 192, \"datetime\": \"2017-08-27T00:53:30\", \"tweet_count\": 0.1645388893975671, \"emoji\": \"\\ud83d\\ude34\"}, {\"Unnamed: 0\": 193, \"datetime\": \"2017-08-27T00:53:45\", \"tweet_count\": 0.1804203383035102, \"emoji\": \"\\ud83d\\ude34\"}, {\"Unnamed: 0\": 194, \"datetime\": \"2017-08-27T00:54:00\", \"tweet_count\": 0.1752156803663996, \"emoji\": \"\\ud83d\\ude34\"}, {\"Unnamed: 0\": 195, \"datetime\": \"2017-08-27T00:54:15\", \"tweet_count\": 0.1377358701064999, \"emoji\": \"\\ud83d\\ude34\"}, {\"Unnamed: 0\": 196, \"datetime\": \"2017-08-27T00:54:30\", \"tweet_count\": 0.1494837122980278, \"emoji\": \"\\ud83d\\ude34\"}, {\"Unnamed: 0\": 197, \"datetime\": \"2017-08-27T00:54:45\", \"tweet_count\": 0.1556282807521352, \"emoji\": \"\\ud83d\\ude34\"}, {\"Unnamed: 0\": 198, \"datetime\": \"2017-08-27T00:55:00\", \"tweet_count\": 0.1630833156534601, \"emoji\": \"\\ud83d\\ude34\"}, {\"Unnamed: 0\": 199, \"datetime\": \"2017-08-27T00:55:15\", \"tweet_count\": 0.158621134710793, \"emoji\": \"\\ud83d\\ude34\"}, {\"Unnamed: 0\": 200, \"datetime\": \"2017-08-27T00:55:30\", \"tweet_count\": 0.1528547849436231, \"emoji\": \"\\ud83d\\ude34\"}, {\"Unnamed: 0\": 201, \"datetime\": \"2017-08-27T00:55:45\", \"tweet_count\": 0.1624195267022603, \"emoji\": \"\\ud83d\\ude34\"}, {\"Unnamed: 0\": 202, \"datetime\": \"2017-08-27T00:56:00\", \"tweet_count\": 0.1601419076795171, \"emoji\": \"\\ud83d\\ude34\"}, {\"Unnamed: 0\": 203, \"datetime\": \"2017-08-27T00:56:15\", \"tweet_count\": 0.1453139808523135, \"emoji\": \"\\ud83d\\ude34\"}, {\"Unnamed: 0\": 204, \"datetime\": \"2017-08-27T00:56:30\", \"tweet_count\": 0.1462005184520803, \"emoji\": \"\\ud83d\\ude34\"}, {\"Unnamed: 0\": 205, \"datetime\": \"2017-08-27T00:56:45\", \"tweet_count\": 0.1371547675329473, \"emoji\": \"\\ud83d\\ude34\"}, {\"Unnamed: 0\": 206, \"datetime\": \"2017-08-27T00:57:00\", \"tweet_count\": 0.1381333354962717, \"emoji\": \"\\ud83d\\ude34\"}, {\"Unnamed: 0\": 207, \"datetime\": \"2017-08-27T00:57:15\", \"tweet_count\": 0.1471398332933176, \"emoji\": \"\\ud83d\\ude34\"}, {\"Unnamed: 0\": 208, \"datetime\": \"2017-08-27T00:57:30\", \"tweet_count\": 0.1252198923890584, \"emoji\": \"\\ud83d\\ude34\"}, {\"Unnamed: 0\": 209, \"datetime\": \"2017-08-27T00:57:45\", \"tweet_count\": 0.1073127168266261, \"emoji\": \"\\ud83d\\ude34\"}, {\"Unnamed: 0\": 210, \"datetime\": \"2017-08-27T00:58:00\", \"tweet_count\": 0.1289074556026274, \"emoji\": \"\\ud83d\\ude34\"}, {\"Unnamed: 0\": 211, \"datetime\": \"2017-08-27T00:58:15\", \"tweet_count\": 0.1316321822756681, \"emoji\": \"\\ud83d\\ude34\"}, {\"Unnamed: 0\": 212, \"datetime\": \"2017-08-27T00:58:30\", \"tweet_count\": 0.1094931208974522, \"emoji\": \"\\ud83d\\ude34\"}, {\"Unnamed: 0\": 213, \"datetime\": \"2017-08-27T00:58:45\", \"tweet_count\": 0.0969753769556136, \"emoji\": \"\\ud83d\\ude34\"}, {\"Unnamed: 0\": 214, \"datetime\": \"2017-08-27T00:59:00\", \"tweet_count\": 0.0812638815658044, \"emoji\": \"\\ud83d\\ude34\"}, {\"Unnamed: 0\": 215, \"datetime\": \"2017-08-27T00:59:15\", \"tweet_count\": 0.0879086921459183, \"emoji\": \"\\ud83d\\ude34\"}, {\"Unnamed: 0\": 216, \"datetime\": \"2017-08-27T00:59:30\", \"tweet_count\": 0.0999632534446548, \"emoji\": \"\\ud83d\\ude34\"}, {\"Unnamed: 0\": 217, \"datetime\": \"2017-08-27T00:59:45\", \"tweet_count\": 0.0889119696992654, \"emoji\": \"\\ud83d\\ude34\"}, {\"Unnamed: 0\": 218, \"datetime\": \"2017-08-27T01:00:00\", \"tweet_count\": 0.0960137972164416, \"emoji\": \"\\ud83d\\ude34\"}, {\"Unnamed: 0\": 219, \"datetime\": \"2017-08-27T01:00:15\", \"tweet_count\": 0.1004515717231092, \"emoji\": \"\\ud83d\\ude34\"}, {\"Unnamed: 0\": 220, \"datetime\": \"2017-08-27T01:00:30\", \"tweet_count\": 0.1012919717841962, \"emoji\": \"\\ud83d\\ude34\"}, {\"Unnamed: 0\": 221, \"datetime\": \"2017-08-27T01:00:45\", \"tweet_count\": 0.1013841752045174, \"emoji\": \"\\ud83d\\ude34\"}, {\"Unnamed: 0\": 222, \"datetime\": \"2017-08-27T01:01:00\", \"tweet_count\": 0.0987392310740668, \"emoji\": \"\\ud83d\\ude34\"}, {\"Unnamed: 0\": 223, \"datetime\": \"2017-08-27T01:01:15\", \"tweet_count\": 0.0863642214947187, \"emoji\": \"\\ud83d\\ude34\"}, {\"Unnamed: 0\": 224, \"datetime\": \"2017-08-27T01:01:30\", \"tweet_count\": 0.0879546835467784, \"emoji\": \"\\ud83d\\ude34\"}, {\"Unnamed: 0\": 225, \"datetime\": \"2017-08-27T01:01:45\", \"tweet_count\": 0.0910673531872298, \"emoji\": \"\\ud83d\\ude34\"}, {\"Unnamed: 0\": 226, \"datetime\": \"2017-08-27T01:02:00\", \"tweet_count\": 0.0884626534555587, \"emoji\": \"\\ud83d\\ude34\"}, {\"Unnamed: 0\": 227, \"datetime\": \"2017-08-27T01:02:15\", \"tweet_count\": 0.0886607839303239, \"emoji\": \"\\ud83d\\ude34\"}, {\"Unnamed: 0\": 228, \"datetime\": \"2017-08-27T01:02:30\", \"tweet_count\": 0.0886901283372668, \"emoji\": \"\\ud83d\\ude34\"}, {\"Unnamed: 0\": 229, \"datetime\": \"2017-08-27T01:02:45\", \"tweet_count\": 0.0876420345467246, \"emoji\": \"\\ud83d\\ude34\"}, {\"Unnamed: 0\": 230, \"datetime\": \"2017-08-27T01:03:00\", \"tweet_count\": 0.0815795337448082, \"emoji\": \"\\ud83d\\ude34\"}, {\"Unnamed: 0\": 231, \"datetime\": \"2017-08-27T01:03:15\", \"tweet_count\": 0.0737477890091086, \"emoji\": \"\\ud83d\\ude34\"}, {\"Unnamed: 0\": 232, \"datetime\": \"2017-08-27T01:03:30\", \"tweet_count\": 0.0626794431597305, \"emoji\": \"\\ud83d\\ude34\"}, {\"Unnamed: 0\": 233, \"datetime\": \"2017-08-27T01:03:45\", \"tweet_count\": 0.0634309807233097, \"emoji\": \"\\ud83d\\ude34\"}, {\"Unnamed: 0\": 234, \"datetime\": \"2017-08-27T01:04:00\", \"tweet_count\": 0.0561267040294182, \"emoji\": \"\\ud83d\\ude34\"}, {\"Unnamed: 0\": 235, \"datetime\": \"2017-08-27T01:04:15\", \"tweet_count\": 0.0511728352640221, \"emoji\": \"\\ud83d\\ude34\"}, {\"Unnamed: 0\": 236, \"datetime\": \"2017-08-27T01:04:30\", \"tweet_count\": 0.0772277283780572, \"emoji\": \"\\ud83d\\ude34\"}, {\"Unnamed: 0\": 237, \"datetime\": \"2017-08-27T01:04:45\", \"tweet_count\": 0.1032731096310389, \"emoji\": \"\\ud83d\\ude34\"}, {\"Unnamed: 0\": 238, \"datetime\": \"2017-08-27T01:05:00\", \"tweet_count\": 0.1028623113434985, \"emoji\": \"\\ud83d\\ude34\"}, {\"Unnamed: 0\": 239, \"datetime\": \"2017-08-27T01:05:15\", \"tweet_count\": 0.1245275603932089, \"emoji\": \"\\ud83d\\ude34\"}, {\"Unnamed: 0\": 240, \"datetime\": \"2017-08-27T01:05:30\", \"tweet_count\": 0.1189372117107225, \"emoji\": \"\\ud83d\\ude34\"}, {\"Unnamed: 0\": 241, \"datetime\": \"2017-08-27T01:05:45\", \"tweet_count\": 0.0930615001872738, \"emoji\": \"\\ud83d\\ude34\"}, {\"Unnamed: 0\": 242, \"datetime\": \"2017-08-27T01:06:00\", \"tweet_count\": 0.0841021738776612, \"emoji\": \"\\ud83d\\ude34\"}, {\"Unnamed: 0\": 243, \"datetime\": \"2017-08-27T01:06:15\", \"tweet_count\": 0.1197117384765353, \"emoji\": \"\\ud83d\\ude34\"}, {\"Unnamed: 0\": 244, \"datetime\": \"2017-08-27T01:06:30\", \"tweet_count\": 0.1208047654945029, \"emoji\": \"\\ud83d\\ude34\"}, {\"Unnamed: 0\": 245, \"datetime\": \"2017-08-27T01:06:45\", \"tweet_count\": 0.1233836819438592, \"emoji\": \"\\ud83d\\ude34\"}, {\"Unnamed: 0\": 246, \"datetime\": \"2017-08-27T01:07:00\", \"tweet_count\": 0.1243829105275666, \"emoji\": \"\\ud83d\\ude34\"}, {\"Unnamed: 0\": 247, \"datetime\": \"2017-08-27T01:07:15\", \"tweet_count\": 0.1265892079984583, \"emoji\": \"\\ud83d\\ude34\"}, {\"Unnamed: 0\": 248, \"datetime\": \"2017-08-27T01:07:30\", \"tweet_count\": 0.1252500707020262, \"emoji\": \"\\ud83d\\ude34\"}, {\"Unnamed: 0\": 249, \"datetime\": \"2017-08-27T01:07:45\", \"tweet_count\": 0.1282810568082195, \"emoji\": \"\\ud83d\\ude34\"}, {\"Unnamed: 0\": 250, \"datetime\": \"2017-08-27T01:08:00\", \"tweet_count\": 0.1644964261387245, \"emoji\": \"\\ud83d\\ude34\"}, {\"Unnamed: 0\": 251, \"datetime\": \"2017-08-27T01:08:15\", \"tweet_count\": 0.1785786715105595, \"emoji\": \"\\ud83d\\ude34\"}, {\"Unnamed: 0\": 252, \"datetime\": \"2017-08-27T01:08:30\", \"tweet_count\": 0.1512527866913575, \"emoji\": \"\\ud83d\\ude34\"}, {\"Unnamed: 0\": 253, \"datetime\": \"2017-08-27T01:08:45\", \"tweet_count\": 0.1253570448540506, \"emoji\": \"\\ud83d\\ude34\"}, {\"Unnamed: 0\": 254, \"datetime\": \"2017-08-27T01:09:00\", \"tweet_count\": 0.1278423799331267, \"emoji\": \"\\ud83d\\ude34\"}, {\"Unnamed: 0\": 255, \"datetime\": \"2017-08-27T01:09:15\", \"tweet_count\": 0.1035372705790901, \"emoji\": \"\\ud83d\\ude34\"}, {\"Unnamed: 0\": 256, \"datetime\": \"2017-08-27T01:09:30\", \"tweet_count\": 0.1258259161265435, \"emoji\": \"\\ud83d\\ude34\"}, {\"Unnamed: 0\": 257, \"datetime\": \"2017-08-27T01:09:45\", \"tweet_count\": 0.1425318042755678, \"emoji\": \"\\ud83d\\ude34\"}, {\"Unnamed: 0\": 258, \"datetime\": \"2017-08-27T01:10:00\", \"tweet_count\": 0.1523485076732558, \"emoji\": \"\\ud83d\\ude34\"}, {\"Unnamed: 0\": 259, \"datetime\": \"2017-08-27T01:10:15\", \"tweet_count\": 0.1156566498116394, \"emoji\": \"\\ud83d\\ude34\"}, {\"Unnamed: 0\": 260, \"datetime\": \"2017-08-27T01:10:30\", \"tweet_count\": 0.1272351982112241, \"emoji\": \"\\ud83d\\ude34\"}, {\"Unnamed: 0\": 261, \"datetime\": \"2017-08-27T01:10:45\", \"tweet_count\": 0.1315802336329438, \"emoji\": \"\\ud83d\\ude34\"}, {\"Unnamed: 0\": 262, \"datetime\": \"2017-08-27T01:11:00\", \"tweet_count\": 0.1302774368359943, \"emoji\": \"\\ud83d\\ude34\"}, {\"Unnamed: 0\": 263, \"datetime\": \"2017-08-27T01:11:15\", \"tweet_count\": 0.1491797292469179, \"emoji\": \"\\ud83d\\ude34\"}, {\"Unnamed: 0\": 264, \"datetime\": \"2017-08-27T01:11:30\", \"tweet_count\": 0.1608714974778158, \"emoji\": \"\\ud83d\\ude34\"}, {\"Unnamed: 0\": 265, \"datetime\": \"2017-08-27T01:11:45\", \"tweet_count\": 0.1644105817464928, \"emoji\": \"\\ud83d\\ude34\"}, {\"Unnamed: 0\": 266, \"datetime\": \"2017-08-27T01:12:00\", \"tweet_count\": 0.13242476214797, \"emoji\": \"\\ud83d\\ude34\"}, {\"Unnamed: 0\": 267, \"datetime\": \"2017-08-27T01:12:15\", \"tweet_count\": null, \"emoji\": \"\\ud83d\\ude34\"}, {\"Unnamed: 0\": 268, \"datetime\": \"2017-08-27T01:12:30\", \"tweet_count\": 0.1410525118644499, \"emoji\": \"\\ud83d\\ude34\"}, {\"Unnamed: 0\": 269, \"datetime\": \"2017-08-27T01:12:45\", \"tweet_count\": 0.1416831191595954, \"emoji\": \"\\ud83d\\ude34\"}, {\"Unnamed: 0\": 270, \"datetime\": \"2017-08-27T01:13:00\", \"tweet_count\": 0.1412166668673153, \"emoji\": \"\\ud83d\\ude34\"}, {\"Unnamed: 0\": 271, \"datetime\": \"2017-08-27T01:13:15\", \"tweet_count\": 0.1419779632086817, \"emoji\": \"\\ud83d\\ude34\"}, {\"Unnamed: 0\": 272, \"datetime\": \"2017-08-27T01:13:30\", \"tweet_count\": 0.1228435136426856, \"emoji\": \"\\ud83d\\ude34\"}, {\"Unnamed: 0\": 273, \"datetime\": \"2017-08-27T01:13:45\", \"tweet_count\": 0.1081718942329177, \"emoji\": \"\\ud83d\\ude34\"}, {\"Unnamed: 0\": 274, \"datetime\": \"2017-08-27T01:14:00\", \"tweet_count\": 0.1073820289258716, \"emoji\": \"\\ud83d\\ude34\"}, {\"Unnamed: 0\": 275, \"datetime\": \"2017-08-27T01:14:15\", \"tweet_count\": 0.1097479785975509, \"emoji\": \"\\ud83d\\ude34\"}, {\"Unnamed: 0\": 276, \"datetime\": \"2017-08-27T01:14:30\", \"tweet_count\": 0.0978356591864789, \"emoji\": \"\\ud83d\\ude34\"}, {\"Unnamed: 0\": 277, \"datetime\": \"2017-08-27T01:14:45\", \"tweet_count\": 0.0922096456230798, \"emoji\": \"\\ud83d\\ude34\"}]}}, {\"mode\": \"vega-lite\"});\n",
       "</script>"
      ],
      "text/plain": [
       "alt.LayerChart(...)"
      ]
     },
     "execution_count": 8,
     "metadata": {},
     "output_type": "execute_result"
    }
   ],
   "source": [
    "##TODO: replicate vis3\n",
    "\n",
    "selectEmoji = alt.selection_single(\n",
    "    fields = ['emoji'],\n",
    "    name = 'emoji',\n",
    "    bind = alt.binding_radio(options = list(df3['emoji'].unique()), name = 'emoji'),\n",
    "    init = {\"emoji\":list(df3['emoji'].unique())[0]}\n",
    ")\n",
    "\n",
    "brush = alt.selection_interval(empty = 'none')\n",
    "brushCondition = alt.condition(brush, alt.value(0.6), alt.value(0))\n",
    "\n",
    "chart = alt.Chart(df3).mark_line().encode(\n",
    "    alt.X('datetime:T', axis=alt.Axis(tickCount=5)),\n",
    "    alt.Y('tweet_count:Q'),\n",
    "    alt.Color('emoji:N')\n",
    ")\n",
    "\n",
    "chart = chart.add_selection(selectEmoji).encode(\n",
    "    opacity = alt.condition(selectEmoji, alt.value(1), alt.value(0))\n",
    ")\n",
    "\n",
    "circles = alt.Chart(df3).mark_circle(color=\"black\",opacity=0.7).encode(\n",
    "    alt.X('datetime:T'),\n",
    "    alt.Y('tweet_count:Q'),\n",
    "    opacity = brushCondition\n",
    ").add_selection(brush).transform_filter(selectEmoji)\n",
    "\n",
    "chart + circles\n"
   ]
  },
  {
   "cell_type": "code",
   "execution_count": 9,
   "metadata": {},
   "outputs": [
    {
     "data": {
      "text/html": [
       "<div>\n",
       "<style scoped>\n",
       "    .dataframe tbody tr th:only-of-type {\n",
       "        vertical-align: middle;\n",
       "    }\n",
       "\n",
       "    .dataframe tbody tr th {\n",
       "        vertical-align: top;\n",
       "    }\n",
       "\n",
       "    .dataframe thead th {\n",
       "        text-align: right;\n",
       "    }\n",
       "</style>\n",
       "<table border=\"1\" class=\"dataframe\">\n",
       "  <thead>\n",
       "    <tr style=\"text-align: right;\">\n",
       "      <th></th>\n",
       "      <th>Unnamed: 0</th>\n",
       "      <th>datetime</th>\n",
       "      <th>tweet_count</th>\n",
       "      <th>emoji</th>\n",
       "    </tr>\n",
       "  </thead>\n",
       "  <tbody>\n",
       "    <tr>\n",
       "      <th>0</th>\n",
       "      <td>0</td>\n",
       "      <td>2017-08-27 00:05:30</td>\n",
       "      <td>0.251824</td>\n",
       "      <td>🔥</td>\n",
       "    </tr>\n",
       "    <tr>\n",
       "      <th>1</th>\n",
       "      <td>1</td>\n",
       "      <td>2017-08-27 00:05:45</td>\n",
       "      <td>0.520945</td>\n",
       "      <td>🔥</td>\n",
       "    </tr>\n",
       "    <tr>\n",
       "      <th>2</th>\n",
       "      <td>2</td>\n",
       "      <td>2017-08-27 00:06:00</td>\n",
       "      <td>0.745094</td>\n",
       "      <td>🔥</td>\n",
       "    </tr>\n",
       "    <tr>\n",
       "      <th>3</th>\n",
       "      <td>3</td>\n",
       "      <td>2017-08-27 00:06:15</td>\n",
       "      <td>0.899476</td>\n",
       "      <td>🔥</td>\n",
       "    </tr>\n",
       "    <tr>\n",
       "      <th>4</th>\n",
       "      <td>4</td>\n",
       "      <td>2017-08-27 00:06:30</td>\n",
       "      <td>1.020321</td>\n",
       "      <td>🔥</td>\n",
       "    </tr>\n",
       "  </tbody>\n",
       "</table>\n",
       "</div>"
      ],
      "text/plain": [
       "   Unnamed: 0            datetime  tweet_count emoji\n",
       "0           0 2017-08-27 00:05:30     0.251824     🔥\n",
       "1           1 2017-08-27 00:05:45     0.520945     🔥\n",
       "2           2 2017-08-27 00:06:00     0.745094     🔥\n",
       "3           3 2017-08-27 00:06:15     0.899476     🔥\n",
       "4           4 2017-08-27 00:06:30     1.020321     🔥"
      ]
     },
     "execution_count": 9,
     "metadata": {},
     "output_type": "execute_result"
    }
   ],
   "source": [
    "df3.head()"
   ]
  },
  {
   "cell_type": "markdown",
   "metadata": {
    "colab_type": "text",
    "id": "GzuQJSw1lX4y"
   },
   "source": [
    "**Comparing Altair Widget with Streamlit Widget**\n",
    "\n",
    "* We want you to compare the altair radio selection with the streamlit radio select widget. \n",
    "* You should have two versions of vis 3 on your streamlit app to compare these. The first one will be using the altair radio selection that you have just created. The second one should use a streamlit widget to create radio buttons to switch between the two graphs.\n",
    "* Put both of these visualizations on the Vis 3 page. See the gif below for an example of what both of these graphs should look like.\n",
    "\n",
    "Your vis 3 export will look like this:\n",
    "![alt text](https://raw.githubusercontent.com/eytanadar/si649public/master/lab6/hw/vis3/full_export.gif)"
   ]
  },
  {
   "cell_type": "markdown",
   "metadata": {
    "colab_type": "text",
    "id": "MPlD75YwwylA"
   },
   "source": [
    "## BONUS: Visualization 4: Tears were shed-of joy and sorrow"
   ]
  },
  {
   "cell_type": "markdown",
   "metadata": {
    "colab_type": "text",
    "id": "9lf9mwqUgGQ7"
   },
   "source": [
    "OPTIONAL:\n",
    "We will replicate the following visualization  \n",
    "![vis4_static](https://raw.githubusercontent.com/eytanadar/si649public/master/lab6/hw/vis4/static.png?raw=true)\n",
    "\n",
    "**Description of the visualization (static):**\n",
    "*   Use *df4*\n",
    "*   The visualization has 2 components: **line chart** that displays relationship between *datetime* and *tweet_count*, and **legend** that displays the two emojis in the line chart.  \n",
    "*   **legend** is a chart. It is not the automatically generated legend. (i.e., In the line chart's color encoding, set *legend=None*)\n",
    "*   Two components are displayed side by side "
   ]
  },
  {
   "cell_type": "markdown",
   "metadata": {
    "colab_type": "text",
    "id": "CofxA1QjhS03"
   },
   "source": [
    "**Description of the visualization (interactivity):**\n",
    "1. In the legend component, if one of the emoji is clicked, the selected emoji will have full opacity while the other emoji becomes transparent. \n",
    "![alt text](https://raw.githubusercontent.com/eytanadar/si649public/master/lab6/hw/vis4/interactive_1.gif?raw=true)\n",
    "2.  Clicking emojis in the **legend** component will display the corresponding line and hide the other line . \n",
    "![alt text](https://raw.githubusercontent.com/eytanadar/si649public/master/lab6/hw/vis4/interactive_2.gif?raw=true)"
   ]
  },
  {
   "cell_type": "markdown",
   "metadata": {
    "colab_type": "text",
    "id": "BdDDYy65inQm"
   },
   "source": [
    "**Sample style settings (optional):**\n",
    "Here's a list of default style settings we used to generate the graph.\n",
    "* For the line chart, we used tickCount=5 in x and y axis.  \n",
    "* For the legend, we used size=25,strokeWidth=0"
   ]
  },
  {
   "cell_type": "markdown",
   "metadata": {
    "colab_type": "text",
    "id": "lqS6dNgsoiqf"
   },
   "source": [
    "**Hint**\n",
    "\n",
    "* You can have one selection and multiple conditions that use the same selection. \n",
    "* To hide a line, you have 2 options: changing opacity and adding transform_filter. In this chart, we want you to practice the 1st option (changing opacity). Using this method, your x- and y-axis will have a consistent scale.  "
   ]
  },
  {
   "cell_type": "code",
   "execution_count": 10,
   "metadata": {
    "colab": {
     "base_uri": "https://localhost:8080/",
     "height": 372
    },
    "colab_type": "code",
    "executionInfo": {
     "elapsed": 2177,
     "status": "ok",
     "timestamp": 1581093009587,
     "user": {
      "displayName": "Shiqing (Licia) He",
      "photoUrl": "https://lh3.googleusercontent.com/a-/AAuE7mCJxAelrpcgBANpLNYl7jHbfJVhnk621_KLm7fInA=s64",
      "userId": "10870840754198798102"
     },
     "user_tz": 300
    },
    "id": "OL3I687r33P-",
    "outputId": "26c6b926-125c-46a8-d1fe-e6e3a1681953"
   },
   "outputs": [],
   "source": [
    "#TODO: BONUS: Replicate vis 4\n"
   ]
  },
  {
   "cell_type": "markdown",
   "metadata": {
    "colab_type": "text",
    "id": "GzuQJSw1lX4y"
   },
   "source": [
    "**Comparing Altair Widget with Streamlit Widget**\n",
    "\n",
    "* We want you to compare the altair radio selection with the streamlit radio select widget for vis 4 as well. \n",
    "* You should have two versions of vis 4 on your streamlit app to compare these. The first one will be using the altair radio selection that you have just created. The second one should use a streamlit widget to create radio buttons to switch between the two graphs.\n",
    "* Put both of these visualizations on the Vis 3 page. See the gif below for an example of what both of these graphs should look like.\n",
    "\n",
    "Your vis 4 export will look like this:\n",
    "![alt text](https://raw.githubusercontent.com/eytanadar/si649public/master/lab6/hw/vis4/full_export.gif)"
   ]
  },
  {
   "cell_type": "markdown",
   "metadata": {
    "colab_type": "text",
    "id": "H5tiPGTwjJGJ"
   },
   "source": [
    "*This is the end of the lab*. \n",
    "\n",
    "\n",
    "Please run all cells (Runtime->Restart and run all), and \n",
    "1.  save to PDF (File->Print->Save PDF -> landscape, shrink to 80%)\n",
    "2.  save to ipynb (File -> Download .ipynb)\n",
    "\n",
    "Rename both files with your uniqname: e.g. uniqname.pdf/ uniqname.ipynb\n",
    "\n",
    "Upload both files to canvas. \n",
    "\n",
    "\n"
   ]
  }
 ],
 "metadata": {
  "celltoolbar": "Create Assignment",
  "colab": {
   "collapsed_sections": [],
   "name": "Copy of si649f19 lab4_hw_answer_ver.ipynb",
   "provenance": [
    {
     "file_id": "1HKNt5NHKXmoA6IQJfWCJkiHQ2M1jgfBZ",
     "timestamp": 1569290438615
    },
    {
     "file_id": "1lauwZmiryXTXFo_nVSRj9S3fSvNRNRPj",
     "timestamp": 1569270936763
    }
   ]
  },
  "kernelspec": {
   "display_name": "Python 3",
   "language": "python",
   "name": "python3"
  },
  "language_info": {
   "codemirror_mode": {
    "name": "ipython",
    "version": 3
   },
   "file_extension": ".py",
   "mimetype": "text/x-python",
   "name": "python",
   "nbconvert_exporter": "python",
   "pygments_lexer": "ipython3",
   "version": "3.8.8"
  },
  "toc": {
   "colors": {
    "hover_highlight": "#DAA520",
    "running_highlight": "#FF0000",
    "selected_highlight": "#FFD700"
   },
   "moveMenuLeft": true,
   "nav_menu": {
    "height": "300px",
    "width": "252px"
   },
   "navigate_menu": true,
   "number_sections": false,
   "sideBar": false,
   "threshold": 4,
   "toc_cell": false,
   "toc_position": {
    "height": "259px",
    "left": "1px",
    "right": "20px",
    "top": "110px",
    "width": "212px"
   },
   "toc_section_display": "none",
   "toc_window_display": true,
   "widenNotebook": false
  }
 },
 "nbformat": 4,
 "nbformat_minor": 1
}
